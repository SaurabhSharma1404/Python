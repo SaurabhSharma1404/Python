{
  "nbformat": 4,
  "nbformat_minor": 0,
  "metadata": {
    "colab": {
      "provenance": []
    },
    "kernelspec": {
      "name": "python3",
      "display_name": "Python 3"
    },
    "language_info": {
      "name": "python"
    }
  },
  "cells": [
    {
      "cell_type": "markdown",
      "source": [
        "# 1. What is a random variable in probability theory\n",
        "\n",
        "A random variable whose outcome is determined by the outcome of random phenomenon or we can say it can take any value from the set values.\n",
        "\n",
        "For example-: x = [0,1] so here x is an variable that holds two value and the outcome depend upon random experiment or we can take another example of coin when we toss a coin we can get any two outcomes can be head or tail"
      ],
      "metadata": {
        "id": "jx9mbXs-0l3s"
      }
    },
    {
      "cell_type": "markdown",
      "source": [
        "# 2. What are the types of random variables\n",
        "\n",
        "There are two types of random variable which are as follow-:\n",
        "\n",
        "**Discrete Random Variable**-: Takes on countable values\n",
        "\n",
        "Examples:\n",
        "\n",
        "* Number of heads in 3 coin tosses\n",
        "\n",
        "* Number of students in a class\n",
        "\n",
        "* Rolling a die (values: 1 to 6)\n",
        "\n",
        "These variables are typically associated with probability mass functions (PMF).\n",
        "\n",
        "**Continuous Random Variable**-: Takes on uncountably infinite values over a range (usually real numbers).\n",
        "\n",
        "Examples-:\n",
        "\n",
        "* Height of a person\n",
        "\n",
        "* Time taken to run a race\n",
        "\n",
        "* Temperature\n",
        "\n",
        "These are described using probability density functions (PDF), not individual probabilities."
      ],
      "metadata": {
        "id": "huPniqwu11WC"
      }
    },
    {
      "cell_type": "markdown",
      "source": [
        "# 3. What is the difference between discrete and continuous distributions\n",
        "\n",
        "**1. Discrete Distributions**-: Definition: Deal with random variables that take countable values.\n",
        "\n",
        "* Values: Can be listed (e.g., 0, 1, 2, ...).\n",
        "\n",
        "* Probability: Each value has a specific probability assigned to it.\n",
        "\n",
        "* Probability Function: Uses a Probability Mass Function (PMF).\n",
        "\n",
        "Examples:\n",
        "* Binomial distribution (e.g. number of successes in 10 trials)\n",
        "\n",
        "* Poisson distribution (e.g. number of calls to a call center in an hour)\n",
        "\n",
        "* Geometric distribution\n",
        "\n",
        "**2. Continuous Distributions**-: Definition: Deal with random variables that take uncountably infinite values (within an interval).\n",
        "\n",
        "* Values: Any value in a range (e.g., 2.34, 2.341, etc.)\n",
        "\n",
        "* Probability: Probability of any exact value is zero; probabilities are over intervals.\n",
        "\n",
        "* Probability Function: Uses a Probability Density Function (PDF).\n",
        "\n",
        "Examples:\n",
        "* Normal distribution (bell curve)\n",
        "\n",
        "* Exponential distribution (e.g. time between events)\n",
        "\n",
        "* Uniform distribution (evenly distributed in an interval)"
      ],
      "metadata": {
        "id": "If_hXxAf3SIc"
      }
    },
    {
      "cell_type": "markdown",
      "source": [
        "# 4. What are probability distribution functions (PDF)\n",
        "\n",
        "It refer to function that gives the probality of all possible value of a random variable. It shows how probalites are assigned to the different possible value of the random variable.\n",
        "\n",
        "**Example**-: tossing a coin (H,T)\n",
        "\n",
        "X = (0,1)\n",
        "\n",
        "P(X=H) = 1/2\n",
        "\n",
        "P(X=T) = 1/2"
      ],
      "metadata": {
        "id": "Ga_K3Mr24iak"
      }
    },
    {
      "cell_type": "markdown",
      "source": [
        "# 5. How do cumulative distribution functions (CDF) differ from probability distribution functions (PDF)\n",
        "\n",
        "**probability distribution functions-:** PDF refer to function that gives the probality of all possible value of a random variable. It shows how probalites are assigned to the different possible value of the random variable.\n",
        "\n",
        "Example-: tossing a coin (H,T)\n",
        "\n",
        "X = (0,1)\n",
        "\n",
        "P(X=H) = 1/2\n",
        "\n",
        "P(X=T) = 1/2\n",
        "\n",
        "**Cumulative distribution function-:** CDF is basically the summation of all probablities possible upto the given point.\n",
        "\n",
        "* CDF can be applied on both discrete data and continous data"
      ],
      "metadata": {
        "id": "1aBvKIrO6NBd"
      }
    },
    {
      "cell_type": "markdown",
      "source": [
        "# 6. What is a discrete uniform distribution\n",
        "\n",
        "**Discrete uniform distribution-: ** In discrete uniform distribution the outcome are discrete and have same probablity.\n",
        "\n",
        "For example-:\n",
        "*  Rolling a dice\n",
        "* Tossing a coin"
      ],
      "metadata": {
        "id": "CEsY7q0Z7zzy"
      }
    },
    {
      "cell_type": "markdown",
      "source": [
        "# 7. What are the key properties of a Bernoulli distribution\n",
        "\n",
        "* no of trial should be finite\n",
        "* each trial should be independent\n",
        "* only two possible value (pass and fail)\n",
        "* probablity of each output should be same in every trial\n",
        "\n",
        "**some examples are-:**\n",
        "\n",
        "* tossing a coin\n",
        "* getting a six or not\n",
        "* pass or fail\n",
        "* win or not win in a match\n",
        "* will rain or not\n"
      ],
      "metadata": {
        "id": "jKLQcVMF9Jj6"
      }
    },
    {
      "cell_type": "markdown",
      "source": [
        "# 8. What is the binomial distribution, and how is it used in probability\n",
        "\n",
        "**Definition:**- Generalizes the Bernoulli by allowing multiple independent trials.\n",
        "\n",
        "**Trials:** Fixed number\n",
        "\n",
        "**Outcomes:** Counts how many successes occur in those n trials.\n",
        "\n",
        "**Used for**: Repeating a Bernoulli trial n times.\n",
        "\n",
        "**Example:**\n",
        "\n",
        "Tossing a coin 5 times:\n",
        "\n",
        "X = number of heads (can be 0 to 5)\n",
        "\n",
        "\n"
      ],
      "metadata": {
        "id": "aCiO_Y_l-Kz0"
      }
    },
    {
      "cell_type": "markdown",
      "source": [
        "# 9. What is the Poisson distribution and where is it applied\n",
        "\n",
        "It is a discrete probablity distribution that describes the no of events that occur withn a fixed interval of time or space given a known average rate of occurence or number of events occuring in a fixed interval of time.\n",
        "\n",
        "**some example and where it can be applied**\n",
        "\n",
        "* customer care (expected no of events occur in every time interval)\n",
        "* no of accident every hour at a busy route\n",
        "* no of email recived every hour\n",
        "* no of people visting temple/hospital/banks/airport in an hour"
      ],
      "metadata": {
        "id": "cuW3JpGgATqa"
      }
    },
    {
      "cell_type": "markdown",
      "source": [
        "# 10. What is a continuous uniform distribution\n",
        "\n",
        "A continuous uniform probablity distribution is a distribution that has infinite no of values defined in a specified range.\n",
        "\n",
        "* random variable is continous\n",
        "* rectangular distribution\n",
        "\n",
        "**example-:**\n",
        "\n",
        "* perfect random number generator (otp)\n",
        "* waiting time at the bus stop(bus arrived is continous and consistent bus is coming every 30 min)"
      ],
      "metadata": {
        "id": "dLu7k8dLCMB0"
      }
    },
    {
      "cell_type": "markdown",
      "source": [
        "# 11. What are the characteristics of a normal distribution\n",
        "\n",
        "The chatacteristics of normal distribution are as follow -:\n",
        "* symmertical about mean\n",
        "* mean = median = mode\n",
        "* skewness = 0"
      ],
      "metadata": {
        "id": "6XArhNOZI2yI"
      }
    },
    {
      "cell_type": "markdown",
      "source": [
        "# 12. What is the standard normal distribution, and why is it important\n",
        "\n",
        "Standard normal distribution is a specific type of normal distribution with a mean of zero and standard deviation of 1 and both are fixed.\n",
        "\n",
        "**why it is important-:**\n",
        "* with help of standard normal distribution we can compare two things beacuse here both mean and standard deviation is fixed\n",
        "* Big large can be scaled down to low range for faster compuation\n",
        "* Many machine learning algorithm like linear regression, logistic regression, clustering require scaling so we can scale down the value to low range"
      ],
      "metadata": {
        "id": "oULixHKVJcyh"
      }
    },
    {
      "cell_type": "markdown",
      "source": [
        "# 13. What is the Central Limit Theorem (CLT), and why is it critical in statistics\n",
        "\n",
        "Central limit theorem state that if you take lot of random variable from any population no matter what is the shape, and you calculate average of each sample, then the distribution of those sample will look like a noraml bell shaped curve, as long as sample size is big enough(usually 30 or more)\n",
        "\n",
        "**why is it critical-:**\n",
        "\n",
        "* In this not matter what is the shape or data is not normal you can still able to use the central limit theorem (size should be 30 or bigger than 30)\n",
        "* Basis for Z-tests, t-tests, and many other statistical tests.\n"
      ],
      "metadata": {
        "id": "H4GsdDe5K9FR"
      }
    },
    {
      "cell_type": "markdown",
      "source": [
        "# 14. How does the Central Limit Theorem relate to the normal distribution\n",
        "\n",
        "The Central Limit Theorem (CLT) explains why the normal distribution is so central in statistics — even when the original data is not normally distributed.\n",
        "\n",
        "\n",
        "The CLT says that when you take the average of many independent random samples, the result will be approximately normally distributed, no matter what the original population looks like, as long as the sample size is large enough."
      ],
      "metadata": {
        "id": "KJ0x9n0hNF9l"
      }
    },
    {
      "cell_type": "markdown",
      "source": [
        "# 15. What is the application of Z statistics in hypothesis testing\n",
        "\n",
        "1. Test population mean-:\tTest if the sample mean differs from a known population mean.\n",
        "2. Test population proportion-:\tTest if the sample proportion differs from a known population proportion.\n",
        "3. Compare two means or proportions-:\tCheck if two groups differ significantly."
      ],
      "metadata": {
        "id": "IrekszEZNr32"
      }
    },
    {
      "cell_type": "markdown",
      "source": [
        "# 16. How do you calculate a Z-score, and what does it represent\n"
      ],
      "metadata": {
        "id": "NJgpkS9COshc"
      }
    },
    {
      "cell_type": "code",
      "source": [
        "import math\n",
        "mu = 10              # population mean\n",
        "sample_mean = 9.5    # sample mean\n",
        "sigma = 1.5          # population standard deviation\n",
        "n = 50               # sample size\n",
        "\n",
        "z = (sample_mean - mu) / (sigma / math.sqrt(n))\n",
        "z_critical = 1.96\n",
        "\n",
        "print(\"Z-statistic =\", round(z, 2))\n",
        "\n",
        "if abs(z) > z_critical:\n",
        "    print(\"Result: Reject H0 — significant difference.\")\n",
        "else:\n",
        "    print(\"Result: Fail to reject H0 — not significant.\")"
      ],
      "metadata": {
        "colab": {
          "base_uri": "https://localhost:8080/"
        },
        "id": "L7ol02YdPOOs",
        "outputId": "a74e8e71-52e8-4468-bfb6-e8c59f12e129"
      },
      "execution_count": 1,
      "outputs": [
        {
          "output_type": "stream",
          "name": "stdout",
          "text": [
            "Z-statistic = -2.36\n",
            "Result: Reject H0 — significant difference.\n"
          ]
        }
      ]
    },
    {
      "cell_type": "markdown",
      "source": [
        "# 17. What are point estimates and interval estimates in statistics\n",
        "\n",
        "1. **Point estimate-:** A point estimate is a single value that is uesd to estimate the true value of population parameter.\n",
        "\n",
        "for example-: average salary of IT employee from a population and from sample data we estimate 35000 so that will estmate for the population also.\n",
        "\n",
        "2. **Interval estimate-:** Range of value used to estimate the unknown population parameter\n",
        "\n",
        "for example-: from population we taken sample and average is 30 to 40k so it help to avoid uncertainity and be more confident"
      ],
      "metadata": {
        "id": "u_sYP5VvPZqA"
      }
    },
    {
      "cell_type": "markdown",
      "source": [
        "# 18. What is the significance of confidence intervals in statistical analysis\n",
        "\n",
        "* Instead of just giving a single estimate (like the sample mean), a CI provides a range where the true population value likely falls.\n",
        "* It reflects the sampling variability — we don’t know the population mean exactly, but the CI tells us how confident we are in our estimate.\n",
        "* Supports Decision-Making\tWidely used in research, medicine, business, and polling to draw conclusions and make predictions.\n",
        "* Better than Point Estimates\tA single number doesn’t tell you how precise the estimate is. A confidence interval quantifies the precision.\n",
        "\n",
        "\n",
        " **Example:**\n",
        "A researcher finds that the average weight loss from a diet program is 5 kg, with a 95% CI of [4.2 kg, 5.8 kg].\n",
        "\n",
        "Interpretation:\n",
        "\n",
        "We are 95% confident that the true average weight loss in the population is between 4.2 and 5.8 kg."
      ],
      "metadata": {
        "id": "RY38LYu6RWCo"
      }
    },
    {
      "cell_type": "markdown",
      "source": [
        "# 19. What is the relationship between a Z-score and a confidence interval\n",
        "\n",
        "The Z-score (also called the Z-critical value) is directly used to calculate confidence intervals — especially when the population standard deviation is known and the data is normally distributed or the sample size is large."
      ],
      "metadata": {
        "id": "NMgl6PoXS5rv"
      }
    },
    {
      "cell_type": "markdown",
      "source": [
        "# 20. How are Z-scores used to compare different distributions\n",
        "\n",
        "Z-scores allow you to standardize values from different distributions, so you can compare them on the same scale — even if their original means and standard deviations are different.\n",
        "\n",
        "\n",
        "Why Use Z-Scores to Compare?\n",
        "\n",
        "Because they normalize values from different distributions into a common unitless scale (standard normal distribution with mean 0 and SD 1), you can compare:\n",
        "\n",
        "Scores from different tests\n",
        "\n",
        "Measurements in different units\n",
        "\n",
        "Values from different populations\n",
        "\n"
      ],
      "metadata": {
        "id": "QXBVR9iDULvZ"
      }
    },
    {
      "cell_type": "markdown",
      "source": [
        "# 21. = What are the assumptions for applying the Central Limit Theorem\n",
        "\n",
        "* The no of sample should be larger\n",
        "* The sample size should be greater than or equal to 30"
      ],
      "metadata": {
        "id": "wLCKRqMcUkEs"
      }
    },
    {
      "cell_type": "markdown",
      "source": [
        "# 22. What is the concept of expected value in a probability distribution\n",
        "\n",
        "The expected value (also called mean or mathematical expectation) is the long-run average outcome of a random variable over many trials. It gives you a measure of the center of the distribution."
      ],
      "metadata": {
        "id": "cW_DvkRYU7fW"
      }
    },
    {
      "cell_type": "markdown",
      "source": [
        "# 23. How does a probability distribution relate to the expected outcome of a random variable\n",
        "\n",
        "The probability distribution of a random variable describes all possible outcomes and how likely each one is. The expected outcome (or expected value) is the weighted average of those outcomes — weighted by their probabilities.\n",
        "\n",
        "\n",
        "\n",
        "The expected value is what you’d expect on average if you repeated a random process many times."
      ],
      "metadata": {
        "id": "ygWZ2P59VLmW"
      }
    }
  ]
}