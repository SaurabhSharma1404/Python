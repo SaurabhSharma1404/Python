{
  "nbformat": 4,
  "nbformat_minor": 0,
  "metadata": {
    "colab": {
      "provenance": [],
      "toc_visible": true
    },
    "kernelspec": {
      "name": "python3",
      "display_name": "Python 3"
    },
    "language_info": {
      "name": "python"
    }
  },
  "cells": [
    {
      "cell_type": "markdown",
      "source": [
        "# **Answer 1**\n",
        "\n",
        "Data structures are a way of organizing and storing data so that they can be accessed and worked with efficiently and there are four data structures in python which are lists , tuple ,sets and dictionary.\n",
        "\n",
        "Choosing the right data structure optimizes performance for tasks like searching, sorting, and data manipulation, ultimately leading to cleaner, faster, and more scalable code thats why data structures are important\n",
        "\n"
      ],
      "metadata": {
        "id": "BbyJE2mN1QUB"
      }
    },
    {
      "cell_type": "markdown",
      "source": [
        "# **Answer 2**\n",
        "\n",
        "**Mutable** objects are those objects which can be modified and changed after the creation. example of mutable object is lists\n",
        "\n",
        "**Immutable** objects are those objects which cannot be changed after the creation and cannot be modified. example of immutable objects is tuple\n",
        "\n",
        "\n",
        "\n"
      ],
      "metadata": {
        "id": "d4DCRD2-29WJ"
      }
    },
    {
      "cell_type": "code",
      "source": [
        "# example of mutable\n",
        "list1 = [1,2,3,4]\n",
        "list1.append(5) # so after the creation of list we are still able to modify it\n",
        "print(list1)"
      ],
      "metadata": {
        "colab": {
          "base_uri": "https://localhost:8080/"
        },
        "id": "mP2MYbkq42U4",
        "outputId": "321deff3-9477-4ef1-9b41-a38ce2a349c0"
      },
      "execution_count": null,
      "outputs": [
        {
          "output_type": "stream",
          "name": "stdout",
          "text": [
            "[1, 2, 3, 4, 5]\n"
          ]
        }
      ]
    },
    {
      "cell_type": "code",
      "source": [
        "# example of immutable\n",
        "tuple1 = (1,2,3,4)\n",
        "tuple1.append(5) # so after the creation of tuple we are not able to modify it\n",
        "print(tuple1)\n"
      ],
      "metadata": {
        "colab": {
          "base_uri": "https://localhost:8080/",
          "height": 193
        },
        "id": "YQjbqaT05O2m",
        "outputId": "29a20970-9f29-4ce0-a33a-67b79cddab1f"
      },
      "execution_count": null,
      "outputs": [
        {
          "output_type": "error",
          "ename": "AttributeError",
          "evalue": "'tuple' object has no attribute 'append'",
          "traceback": [
            "\u001b[0;31m---------------------------------------------------------------------------\u001b[0m",
            "\u001b[0;31mAttributeError\u001b[0m                            Traceback (most recent call last)",
            "\u001b[0;32m<ipython-input-2-c4f86af716dd>\u001b[0m in \u001b[0;36m<cell line: 0>\u001b[0;34m()\u001b[0m\n\u001b[1;32m      1\u001b[0m \u001b[0;31m# example of immutable\u001b[0m\u001b[0;34m\u001b[0m\u001b[0;34m\u001b[0m\u001b[0m\n\u001b[1;32m      2\u001b[0m \u001b[0mtuple1\u001b[0m \u001b[0;34m=\u001b[0m \u001b[0;34m(\u001b[0m\u001b[0;36m1\u001b[0m\u001b[0;34m,\u001b[0m\u001b[0;36m2\u001b[0m\u001b[0;34m,\u001b[0m\u001b[0;36m3\u001b[0m\u001b[0;34m,\u001b[0m\u001b[0;36m4\u001b[0m\u001b[0;34m)\u001b[0m\u001b[0;34m\u001b[0m\u001b[0;34m\u001b[0m\u001b[0m\n\u001b[0;32m----> 3\u001b[0;31m \u001b[0mtuple1\u001b[0m\u001b[0;34m.\u001b[0m\u001b[0mappend\u001b[0m\u001b[0;34m(\u001b[0m\u001b[0;36m5\u001b[0m\u001b[0;34m)\u001b[0m \u001b[0;31m# so after the creation of tuple we are not able to modify it\u001b[0m\u001b[0;34m\u001b[0m\u001b[0;34m\u001b[0m\u001b[0m\n\u001b[0m\u001b[1;32m      4\u001b[0m \u001b[0mprint\u001b[0m\u001b[0;34m(\u001b[0m\u001b[0mtuple1\u001b[0m\u001b[0;34m)\u001b[0m\u001b[0;34m\u001b[0m\u001b[0;34m\u001b[0m\u001b[0m\n",
            "\u001b[0;31mAttributeError\u001b[0m: 'tuple' object has no attribute 'append'"
          ]
        }
      ]
    },
    {
      "cell_type": "markdown",
      "source": [
        "# **Answer 3**\n",
        "\n",
        "The main difference between list and tuple is that tuple are immutable and list are mutable which means that list can be changed or modified after the creation but the tuple cannot be changed or modified.\n",
        "\n"
      ],
      "metadata": {
        "id": "jpiaKN3m5aBw"
      }
    },
    {
      "cell_type": "markdown",
      "source": [
        "# **Answer 4**\n",
        "\n",
        "Dictionaries are used to store data values in key:value pairs. A dictionary is a collection which is ordered , changeable and do not allow duplicates."
      ],
      "metadata": {
        "id": "Rl35pANd6Qoz"
      }
    },
    {
      "cell_type": "code",
      "source": [
        "d1 = {2:\"saurabh\", 3:\"sharma\", 4:\"krishna\"}\n",
        "# so in above dictionary 2,3,4 are the keys and the names are the values\n",
        "print(type(d1))\n",
        "print(d1.keys())\n",
        "print(d1.values())\n",
        "d1[2] # in this way we can access the value using key"
      ],
      "metadata": {
        "colab": {
          "base_uri": "https://localhost:8080/",
          "height": 87
        },
        "id": "em0thSGM6oeN",
        "outputId": "c324d5ee-6a01-4baf-b3fc-e8149a264cc0"
      },
      "execution_count": null,
      "outputs": [
        {
          "output_type": "stream",
          "name": "stdout",
          "text": [
            "<class 'dict'>\n",
            "dict_keys([2, 3, 4])\n",
            "dict_values(['saurabh', 'sharma', 'krishna'])\n"
          ]
        },
        {
          "output_type": "execute_result",
          "data": {
            "text/plain": [
              "'saurabh'"
            ],
            "application/vnd.google.colaboratory.intrinsic+json": {
              "type": "string"
            }
          },
          "metadata": {},
          "execution_count": 3
        }
      ]
    },
    {
      "cell_type": "markdown",
      "source": [
        "# **Answer 5**\n",
        "\n",
        "I will use sets instead of list because there is no duplicate values in a list which can make sets more efficient to use and sets also provide four operations which are very useful that are-:\n",
        "\n",
        "*   Union\n",
        "*   Intersection\n",
        "*   Difference\n",
        "*   Symmetric Difference\n",
        "\n",
        "\n",
        "\n"
      ],
      "metadata": {
        "id": "h_Gb3C6C7fLs"
      }
    },
    {
      "cell_type": "code",
      "source": [
        "sets1  = {1,2,3,4,5,1,2,3,4,5,5,5,1,1} # there are lot of duplicate values\n",
        "sets1\n",
        "# in output all duplicate values are now shown because sets not conatin duplicate\n"
      ],
      "metadata": {
        "colab": {
          "base_uri": "https://localhost:8080/"
        },
        "id": "L-fNoq-H82Cx",
        "outputId": "ac38741b-5f09-4485-91f9-fdbe10344520"
      },
      "execution_count": null,
      "outputs": [
        {
          "output_type": "execute_result",
          "data": {
            "text/plain": [
              "{1, 2, 3, 4, 5}"
            ]
          },
          "metadata": {},
          "execution_count": 4
        }
      ]
    },
    {
      "cell_type": "markdown",
      "source": [
        "# **Answer 6**\n",
        "\n",
        "A string is a sequence of characters between single or double quotes.\n",
        "A list is a sequence of items, where each item could be anything an integer, a float, a string, etc."
      ],
      "metadata": {
        "id": "BKN9xoIw9Wep"
      }
    },
    {
      "cell_type": "code",
      "source": [
        "string1 = \"saurabh\" # this is a string\n",
        "list1 = [1,3.4,\"saurabh\",True] # list could be anything string,float,int\n",
        "string2 = \"saurabh\",3, # type of this is tuple now because of int value\n",
        "print(type(string1))\n",
        "print(type(list1))\n",
        "print(type(string2))"
      ],
      "metadata": {
        "colab": {
          "base_uri": "https://localhost:8080/"
        },
        "id": "TSyRZUii9tCq",
        "outputId": "92a2156d-9289-47c0-9320-066752058dde"
      },
      "execution_count": null,
      "outputs": [
        {
          "output_type": "stream",
          "name": "stdout",
          "text": [
            "<class 'str'>\n",
            "<class 'list'>\n",
            "<class 'tuple'>\n"
          ]
        }
      ]
    },
    {
      "cell_type": "markdown",
      "source": [
        "# **Answer 7**\n",
        "\n",
        "Tuples are immutable to ensure that their contents remain constant and unchanged throughout their lifecycle, ensuring data integrity and reliability"
      ],
      "metadata": {
        "id": "JSw7A4cA_WDk"
      }
    },
    {
      "cell_type": "code",
      "source": [
        "t1 = (1,2,4,6)\n",
        "t1.insert(1,3) # no one can change the values in tuple this ensure data integrity"
      ],
      "metadata": {
        "colab": {
          "base_uri": "https://localhost:8080/",
          "height": 159
        },
        "id": "rbKjqUce_0Cs",
        "outputId": "884cd1c0-9155-4cd5-c968-9275ace65e54"
      },
      "execution_count": null,
      "outputs": [
        {
          "output_type": "error",
          "ename": "AttributeError",
          "evalue": "'tuple' object has no attribute 'insert'",
          "traceback": [
            "\u001b[0;31m---------------------------------------------------------------------------\u001b[0m",
            "\u001b[0;31mAttributeError\u001b[0m                            Traceback (most recent call last)",
            "\u001b[0;32m<ipython-input-12-ba7cb9f509a9>\u001b[0m in \u001b[0;36m<cell line: 0>\u001b[0;34m()\u001b[0m\n\u001b[1;32m      1\u001b[0m \u001b[0mt1\u001b[0m \u001b[0;34m=\u001b[0m \u001b[0;34m(\u001b[0m\u001b[0;36m1\u001b[0m\u001b[0;34m,\u001b[0m\u001b[0;36m2\u001b[0m\u001b[0;34m,\u001b[0m\u001b[0;36m4\u001b[0m\u001b[0;34m,\u001b[0m\u001b[0;36m6\u001b[0m\u001b[0;34m)\u001b[0m\u001b[0;34m\u001b[0m\u001b[0;34m\u001b[0m\u001b[0m\n\u001b[0;32m----> 2\u001b[0;31m \u001b[0mt1\u001b[0m\u001b[0;34m.\u001b[0m\u001b[0minsert\u001b[0m\u001b[0;34m(\u001b[0m\u001b[0;36m1\u001b[0m\u001b[0;34m,\u001b[0m\u001b[0;36m3\u001b[0m\u001b[0;34m)\u001b[0m\u001b[0;34m\u001b[0m\u001b[0;34m\u001b[0m\u001b[0m\n\u001b[0m",
            "\u001b[0;31mAttributeError\u001b[0m: 'tuple' object has no attribute 'insert'"
          ]
        }
      ]
    },
    {
      "cell_type": "markdown",
      "source": [
        "# **Answer 8**\n",
        "\n",
        "A hash table is a way to store and find data very quickly.\n",
        "\n",
        "**How does it work?**\n",
        "\n",
        "You give it a key (like a name: \"apple\").\n",
        "\n",
        "The key goes through a hash function  kind of like a math trick  that turns it into a number.\n",
        "\n",
        "That number tells the hash table where to store or find the value.\n",
        "\n",
        "\n"
      ],
      "metadata": {
        "id": "996s-bWlAxeV"
      }
    },
    {
      "cell_type": "code",
      "source": [
        "#In Python, dictionaries are built using hash tables\n",
        "my_dict = {\"name\": \"Alice\", \"age\": 30}\n",
        "print(my_dict[\"name\"])  # Instant lookup of \"Alice\"\n",
        "# It works fast because Python uses a hash table to find \"name\""
      ],
      "metadata": {
        "colab": {
          "base_uri": "https://localhost:8080/"
        },
        "id": "HjmGTpJkd0Q2",
        "outputId": "867e61f0-0896-4c98-872e-6170ec3619a8"
      },
      "execution_count": 42,
      "outputs": [
        {
          "output_type": "stream",
          "name": "stdout",
          "text": [
            "Alice\n"
          ]
        }
      ]
    },
    {
      "cell_type": "markdown",
      "source": [
        "# **Answer 9**\n",
        "\n",
        "\n",
        "Yes lists can contain different data types in python because list is collection of all data types so in a list you can have a strings, integers, float, boolean etc."
      ],
      "metadata": {
        "id": "JL8bqMZGWcPg"
      }
    },
    {
      "cell_type": "code",
      "source": [
        "list1 = [1,\"saurabh\",3.12,True] # it can contain different data types all together\n",
        "print(type(list1))\n",
        "print(list1)"
      ],
      "metadata": {
        "colab": {
          "base_uri": "https://localhost:8080/"
        },
        "id": "KY-qlDD3XCuZ",
        "outputId": "2b52bb35-230c-4c2c-ef36-86cf312a7293"
      },
      "execution_count": null,
      "outputs": [
        {
          "output_type": "stream",
          "name": "stdout",
          "text": [
            "<class 'list'>\n",
            "[1, 'saurabh', 3.12, True]\n"
          ]
        }
      ]
    },
    {
      "cell_type": "markdown",
      "source": [
        "# **Answer 10**\n",
        "\n",
        "1. **It keeps things safe and bug-free**\n",
        "If strings could change, it might accidentally mess up your program when you're using the same string in different places.\n",
        "Keeping them unchangeable avoids a lot of confusion and mistakes.\n",
        "\n",
        "2. **It helps Python run faster**\n",
        "Python can reuse the same string in memory if it knows it not change. That means faster and more memory efficient programs.\n",
        "\n",
        "3. **They work well as dictionary keys**\n",
        "You can use strings as keys in a dictionary because they don’t change. If they did change, you might lose your data\n",
        "\n",
        "4.  **They are easier to work with**\n",
        "You never have to worry that someone else's code will change your strings. This makes programs more predictable."
      ],
      "metadata": {
        "id": "Rek5FCqSXmIt"
      }
    },
    {
      "cell_type": "markdown",
      "source": [
        "# **Answer 11**\n",
        "\n",
        "**Dictionaries** are more faster then list when it comes to searching because they provide faster lookups compared to lists when searching by key, as they have an average complexity of O(1), while lists require O(n) in the worst case.\n",
        "\n",
        "**Dictionaries** are useful when you have items which need accessing using some sort of key. To take a example, perhaps you have a list of people names, and you want to associate a telephone number with each name. You not care about the order you just want to put in a name and get a phone number back. Dictionaries are perfect for this"
      ],
      "metadata": {
        "id": "2ULOVjNJZXhq"
      }
    },
    {
      "cell_type": "code",
      "source": [
        "dict1 = {\"saurabh\":999222313, \"mukul\":332323242}\n",
        "# now i can use name as a key to access the phone number\n",
        "dict1[\"saurabh\"]"
      ],
      "metadata": {
        "colab": {
          "base_uri": "https://localhost:8080/"
        },
        "id": "GYS9QtmAalhs",
        "outputId": "8563bfe7-d916-4487-df86-10362c318a8a"
      },
      "execution_count": null,
      "outputs": [
        {
          "output_type": "execute_result",
          "data": {
            "text/plain": [
              "999222313"
            ]
          },
          "metadata": {},
          "execution_count": 2
        }
      ]
    },
    {
      "cell_type": "markdown",
      "source": [
        "# **Answer 12**\n",
        "\n",
        "If you have data that's not meant to be changed in the first place such as critical information or records in that case tuple  would be preferable over a list.\n",
        "\n",
        "When there is a demand for Immutability and Data Integrity in that cases tuple are more used over the list because some data you want not to be changed or modified by anyone."
      ],
      "metadata": {
        "id": "Uo_A-PqUa-mD"
      }
    },
    {
      "cell_type": "code",
      "source": [
        "imp = (23112,387837,37387,812837)\n",
        "print(type(imp))\n",
        "imp.append(3434) # now it will not modified"
      ],
      "metadata": {
        "colab": {
          "base_uri": "https://localhost:8080/",
          "height": 193
        },
        "id": "KuqzLx14ct6F",
        "outputId": "e2871770-4e25-4ad4-97bd-87683473c2ee"
      },
      "execution_count": null,
      "outputs": [
        {
          "output_type": "stream",
          "name": "stdout",
          "text": [
            "<class 'tuple'>\n"
          ]
        },
        {
          "output_type": "error",
          "ename": "AttributeError",
          "evalue": "'tuple' object has no attribute 'append'",
          "traceback": [
            "\u001b[0;31m---------------------------------------------------------------------------\u001b[0m",
            "\u001b[0;31mAttributeError\u001b[0m                            Traceback (most recent call last)",
            "\u001b[0;32m<ipython-input-4-50e4575940f2>\u001b[0m in \u001b[0;36m<cell line: 0>\u001b[0;34m()\u001b[0m\n\u001b[1;32m      1\u001b[0m \u001b[0mimp\u001b[0m \u001b[0;34m=\u001b[0m \u001b[0;34m(\u001b[0m\u001b[0;36m23112\u001b[0m\u001b[0;34m,\u001b[0m\u001b[0;36m387837\u001b[0m\u001b[0;34m,\u001b[0m\u001b[0;36m37387\u001b[0m\u001b[0;34m,\u001b[0m\u001b[0;36m812837\u001b[0m\u001b[0;34m)\u001b[0m\u001b[0;34m\u001b[0m\u001b[0;34m\u001b[0m\u001b[0m\n\u001b[1;32m      2\u001b[0m \u001b[0mprint\u001b[0m\u001b[0;34m(\u001b[0m\u001b[0mtype\u001b[0m\u001b[0;34m(\u001b[0m\u001b[0mimp\u001b[0m\u001b[0;34m)\u001b[0m\u001b[0;34m)\u001b[0m\u001b[0;34m\u001b[0m\u001b[0;34m\u001b[0m\u001b[0m\n\u001b[0;32m----> 3\u001b[0;31m \u001b[0mimp\u001b[0m\u001b[0;34m.\u001b[0m\u001b[0mappend\u001b[0m\u001b[0;34m(\u001b[0m\u001b[0;36m3434\u001b[0m\u001b[0;34m)\u001b[0m\u001b[0;34m\u001b[0m\u001b[0;34m\u001b[0m\u001b[0m\n\u001b[0m",
            "\u001b[0;31mAttributeError\u001b[0m: 'tuple' object has no attribute 'append'"
          ]
        }
      ]
    },
    {
      "cell_type": "markdown",
      "source": [
        "# **Answer 13**\n",
        "\n",
        "In sets there is no duplicate values and if you create a set with duplicates then it will return back values with no duplicate because sets have a property of no duplicate value\n",
        "\n"
      ],
      "metadata": {
        "id": "CBUdN-zedRx_"
      }
    },
    {
      "cell_type": "code",
      "source": [
        "sets1 = {1,2,3,4,5,1,2,3,4,5,5,5,1,1} # lot of duplicate values\n",
        "sets1 # all duplicate values are being removed from the set"
      ],
      "metadata": {
        "colab": {
          "base_uri": "https://localhost:8080/"
        },
        "id": "tiSi0Wasehr_",
        "outputId": "11424288-f3f1-4a46-ac37-34d92fb766bf"
      },
      "execution_count": null,
      "outputs": [
        {
          "output_type": "execute_result",
          "data": {
            "text/plain": [
              "{1, 2, 3, 4, 5}"
            ]
          },
          "metadata": {},
          "execution_count": 5
        }
      ]
    },
    {
      "cell_type": "markdown",
      "source": [
        "# **Answer 14**\n",
        "\n",
        "**Lists-:** When you use the in keyword with a list, Python performs a linear search. It iterates through each element of the list, starting from the beginning, and compares it to the element you're looking for.\n",
        "\n",
        "It checks my_list[0] == element, then my_list[1] == element, and so on, until it either finds a match or reaches the end of the list.\n",
        "\n",
        "**Dictionaries-:** When you use the in keyword with a dictionary, Python checks for the presence of the key within the dictionary keys.\n",
        "\n",
        "doesn't iterate through the values. Instead, it uses the hash of the key to quickly determine if that key exists in the dictionary's internal structure."
      ],
      "metadata": {
        "id": "qkeYN1TgeyOg"
      }
    },
    {
      "cell_type": "code",
      "source": [
        "# using of in keyword in list\n",
        "list1 = [1,2,3,4,\"saurabh\"]\n",
        "for i in list1: # it will iterate in the list until till will find the value\n",
        "  if i == \"saurabh\":\n",
        "    print(\"saurabh is present in the list\")"
      ],
      "metadata": {
        "colab": {
          "base_uri": "https://localhost:8080/"
        },
        "id": "7mje1-jRgrVv",
        "outputId": "3b97c491-bd85-4767-f957-510f7301fa70"
      },
      "execution_count": null,
      "outputs": [
        {
          "output_type": "stream",
          "name": "stdout",
          "text": [
            "saurabh is present in the list\n"
          ]
        }
      ]
    },
    {
      "cell_type": "code",
      "source": [
        "# using of in keyword in dictionary\n",
        "dict1 = {\"saurabh\":12, \"vishal\":20,\"aaryan\":30}\n",
        "for i in dict1:\n",
        "  if i == \"saurabh\":\n",
        "    print(\"saurabh is present in the dictionary\")"
      ],
      "metadata": {
        "colab": {
          "base_uri": "https://localhost:8080/"
        },
        "id": "0RPz50KChvyo",
        "outputId": "51e0ff54-e434-48ae-d0ca-55b0aa494d0f"
      },
      "execution_count": null,
      "outputs": [
        {
          "output_type": "stream",
          "name": "stdout",
          "text": [
            "saurabh is present in the dictionary\n"
          ]
        }
      ]
    },
    {
      "cell_type": "markdown",
      "source": [
        "# **Answer 15**\n",
        "\n",
        "Tuple element cannot be modified because tuple are immutable which means that they cannot be changed or modified after the creation of the tuple..\n",
        "\n",
        "**But** there is one way to modify it by coverting the tuple into the list and then back to tuple let see it with example"
      ],
      "metadata": {
        "id": "t5cGN_LjjOv5"
      }
    },
    {
      "cell_type": "code",
      "source": [
        "t1  = (1,2,3,4)\n",
        "l1 = list(t1) # coverted the tuple into list\n",
        "l1.append(5)\n",
        "t1 = tuple(l1) # coverted the list back into tuple\n",
        "print(t1)\n",
        "print(type(t1))\n"
      ],
      "metadata": {
        "colab": {
          "base_uri": "https://localhost:8080/"
        },
        "id": "eiad4Y_Pj9xQ",
        "outputId": "63baa924-10f3-45ab-bdb8-c48aca183af5"
      },
      "execution_count": null,
      "outputs": [
        {
          "output_type": "stream",
          "name": "stdout",
          "text": [
            "(1, 2, 3, 4, 5)\n",
            "<class 'tuple'>\n"
          ]
        }
      ]
    },
    {
      "cell_type": "markdown",
      "source": [
        "# **Answer 16**\n",
        "\n",
        "Nesting Dictionary means putting a dictionary inside another dictionary."
      ],
      "metadata": {
        "id": "n97GT0aPkd92"
      }
    },
    {
      "cell_type": "code",
      "source": [
        "dict1 = {\"krishan\":1,\"aaryan\":2,3:{\"vishal\":4,\"aakash\":5}} # nested dictionary\n",
        "print(dict1[3][\"vishal\"])\n",
        "print(type(dict1))"
      ],
      "metadata": {
        "colab": {
          "base_uri": "https://localhost:8080/"
        },
        "id": "7d_fLhZOlX6N",
        "outputId": "c1409e1b-be70-4c07-8372-0a5d41e16779"
      },
      "execution_count": null,
      "outputs": [
        {
          "output_type": "stream",
          "name": "stdout",
          "text": [
            "4\n",
            "<class 'dict'>\n"
          ]
        }
      ]
    },
    {
      "cell_type": "markdown",
      "source": [
        "# **Answer 17**\n",
        "\n",
        "Accessing an element in a dictionary typically has a time complexity of O(1)"
      ],
      "metadata": {
        "id": "JsqT9o-_nKZf"
      }
    },
    {
      "cell_type": "markdown",
      "source": [
        "# **Answer 18**\n",
        "\n",
        "Lists are preferred over dictionaries when maintaining the order of elements is crucial, or when the data is primarily accessed by **index** rather than by a **unique key**. Lists are also more suitable when you need to perform operations like appending or extending items, or when you're dealing with smaller, mutable collections where performance isn't as critical"
      ],
      "metadata": {
        "id": "X9wE9ubZoUK0"
      }
    },
    {
      "cell_type": "markdown",
      "source": [
        "# **Answer 19**\n",
        "\n",
        "why they're considered **unordered-:**\n",
        "\n",
        "**Focus on Key-Value Pairs:** Dictionaries are designed for efficient storage and retrieval of information based on unique keys. The primary concern is the association between a key and its value, not the sequence in which these pairs are added.\n",
        "\n",
        "**Internal Implementation:** Under the hood, many dictionary implementations use hash tables. Hash tables employ a hashing function to determine where to store each key-value pair in memory. This hashing process doesn't guarantee any specific order of elements. The order can even change as you add or remove items due to how the hash table resizes and manages collisions.\n",
        "\n",
        "**No Inherent Indexing:** Unlike lists or arrays, you don't access dictionary elements using numerical indices (like my_list[0]). Instead, you use the key to directly retrieve its associated value (like my_dict['name']). The order of elements doesn't provide a meaningful way to access them.\n",
        "\n",
        "**how does this \"unorderedness\" affect data retrieval?**\n",
        "\n",
        "**No Reliance on Position:** You can't assume that the first element you added to a dictionary will be the first one you get back when you iterate through it. This means you shouldn't write code that depends on a specific order of items in a dictionary.\n",
        "\n",
        "**Key-Based Access:** The retrieval is entirely driven by the keys. If you know the key, you can very quickly access its corresponding value, regardless of where it might be located internally. This is the strength of dictionaries – fast lookups based on keys."
      ],
      "metadata": {
        "id": "wHp7uMPFpVeC"
      }
    },
    {
      "cell_type": "markdown",
      "source": [
        "# **Answer 20**\n",
        "\n",
        "The main difference between list and dictionaries data retrival is that-:\n",
        "\n",
        "**lists** are retrived by the index number [0] and when you give the index number the element on that index will be fetched and the order in which you have stored the list will be the same.\n",
        "\n",
        "**Dictionary** are Retrived with the help of the key and the key will provide you the value and it is very fasst when you know the key.\n",
        "The order in which you have stored the dictionary will not be same you have stored them."
      ],
      "metadata": {
        "id": "ZbaCOonVPmo-"
      }
    },
    {
      "cell_type": "code",
      "source": [
        "list1 = [1,2,3,4]\n",
        "print(list1[2]) # retrive value through index\n",
        "print(type(list1))\n",
        "dict1 = {\"saurabh\":1,\"aaryan\":2,\"vishal\":3}\n",
        "print(dict1[\"saurabh\"]) # retrive value through key\n",
        "print(type(dict1))"
      ],
      "metadata": {
        "colab": {
          "base_uri": "https://localhost:8080/"
        },
        "id": "SW9cmgX5RoI5",
        "outputId": "fbee94a8-cbef-4931-cafc-6edef17d5574"
      },
      "execution_count": null,
      "outputs": [
        {
          "output_type": "stream",
          "name": "stdout",
          "text": [
            "3\n",
            "<class 'list'>\n",
            "1\n",
            "<class 'dict'>\n"
          ]
        }
      ]
    },
    {
      "cell_type": "markdown",
      "source": [
        "# **Practical Questions**\n",
        "\n",
        "\n",
        "# **Answer 1**\n"
      ],
      "metadata": {
        "id": "80_QLVJMTVHP"
      }
    },
    {
      "cell_type": "code",
      "source": [
        "string1 = \"saurabhSharma\" # created a string with my name\n",
        "print(type(string1))\n",
        "print(string1)"
      ],
      "metadata": {
        "colab": {
          "base_uri": "https://localhost:8080/"
        },
        "id": "rNKLn4WqTzch",
        "outputId": "563182a9-419d-49f1-9b5c-ac99f58217f8"
      },
      "execution_count": null,
      "outputs": [
        {
          "output_type": "stream",
          "name": "stdout",
          "text": [
            "<class 'str'>\n",
            "saurabhSharma\n"
          ]
        }
      ]
    },
    {
      "cell_type": "markdown",
      "source": [
        "# Answer 2"
      ],
      "metadata": {
        "id": "r2kiHpj0UIa7"
      }
    },
    {
      "cell_type": "code",
      "source": [
        "string1 = \"Hello World\" # the between the hello world will aslo be counted\n",
        "length = len(string1)\n",
        "print(length)"
      ],
      "metadata": {
        "colab": {
          "base_uri": "https://localhost:8080/"
        },
        "id": "ToghwdyoULBR",
        "outputId": "e9604ed7-fd93-400f-e781-a0e23d5fd75e"
      },
      "execution_count": null,
      "outputs": [
        {
          "output_type": "stream",
          "name": "stdout",
          "text": [
            "11\n"
          ]
        }
      ]
    },
    {
      "cell_type": "markdown",
      "source": [
        "# Answer 3\n"
      ],
      "metadata": {
        "id": "KTV66WORUwo7"
      }
    },
    {
      "cell_type": "code",
      "source": [
        "string1 = \"Python Programming\"\n",
        "print(string1[0:3]) # first three charcter will be fetched\n"
      ],
      "metadata": {
        "colab": {
          "base_uri": "https://localhost:8080/"
        },
        "id": "MnUMo899U0V8",
        "outputId": "54e0b5a7-5e43-45e4-bb88-35a0918fe0db"
      },
      "execution_count": null,
      "outputs": [
        {
          "output_type": "stream",
          "name": "stdout",
          "text": [
            "Pyt\n"
          ]
        }
      ]
    },
    {
      "cell_type": "markdown",
      "source": [
        "# Answer 4\n"
      ],
      "metadata": {
        "id": "TorMfSBcVZVM"
      }
    },
    {
      "cell_type": "code",
      "source": [
        "string = \"hello\"\n",
        "print(type(string))\n",
        "print(string.upper()) # converted the string into upper case"
      ],
      "metadata": {
        "colab": {
          "base_uri": "https://localhost:8080/"
        },
        "id": "EwoC9arDVc3M",
        "outputId": "9f2a8ee9-5f74-4b70-9f0e-0b3ca4248b42"
      },
      "execution_count": null,
      "outputs": [
        {
          "output_type": "stream",
          "name": "stdout",
          "text": [
            "<class 'str'>\n",
            "HELLO\n"
          ]
        }
      ]
    },
    {
      "cell_type": "markdown",
      "source": [
        "# Answer 5\n"
      ],
      "metadata": {
        "id": "c_oDh4tsWN8P"
      }
    },
    {
      "cell_type": "code",
      "source": [
        "string1 = \"i like apple\"\n",
        "print(string1)\n",
        "string2 = string1.replace(\"apple\",\"orange\")\n",
        "print(string2)"
      ],
      "metadata": {
        "colab": {
          "base_uri": "https://localhost:8080/"
        },
        "id": "2O2L72I3WwiJ",
        "outputId": "883ab112-36f6-4b9e-db6a-857ca50ca2d0"
      },
      "execution_count": null,
      "outputs": [
        {
          "output_type": "stream",
          "name": "stdout",
          "text": [
            "i like apple\n",
            "i like orange\n"
          ]
        }
      ]
    },
    {
      "cell_type": "markdown",
      "source": [
        "# Answer 6\n"
      ],
      "metadata": {
        "id": "fIErO93YXWmo"
      }
    },
    {
      "cell_type": "code",
      "source": [
        "list1 = [1,2,3,4,5] # list created\n",
        "print(type(list1))\n",
        "print(list1)"
      ],
      "metadata": {
        "colab": {
          "base_uri": "https://localhost:8080/"
        },
        "id": "_FfPPkAEXZ0j",
        "outputId": "452ab457-39d7-4404-9ab3-25983ff9402d"
      },
      "execution_count": null,
      "outputs": [
        {
          "output_type": "stream",
          "name": "stdout",
          "text": [
            "<class 'list'>\n",
            "[1, 2, 3, 4, 5]\n"
          ]
        }
      ]
    },
    {
      "cell_type": "markdown",
      "source": [
        "# Answer 7\n",
        "\n"
      ],
      "metadata": {
        "id": "qh9MQ7jxXqyv"
      }
    },
    {
      "cell_type": "code",
      "source": [
        "list1 = [1,2,3,4]\n",
        "list1.append(10) # 10 will append in the list\n",
        "print(list1)"
      ],
      "metadata": {
        "colab": {
          "base_uri": "https://localhost:8080/"
        },
        "id": "5UWXQwh0XvcY",
        "outputId": "8350e0b6-f632-42b9-d244-d1bdd1ecde32"
      },
      "execution_count": null,
      "outputs": [
        {
          "output_type": "stream",
          "name": "stdout",
          "text": [
            "[1, 2, 3, 4, 10]\n"
          ]
        }
      ]
    },
    {
      "cell_type": "markdown",
      "source": [
        "# Answer 8"
      ],
      "metadata": {
        "id": "rMhzHspNX9PT"
      }
    },
    {
      "cell_type": "code",
      "source": [
        "list1 = [1,2,3,4,5]\n",
        "list1.remove(3) # 3 is removed fro the list\n",
        "print(list1)"
      ],
      "metadata": {
        "colab": {
          "base_uri": "https://localhost:8080/"
        },
        "id": "TxUOUyWgYH64",
        "outputId": "228e6e78-83d7-481d-f3e5-1fc4e49968f4"
      },
      "execution_count": null,
      "outputs": [
        {
          "output_type": "stream",
          "name": "stdout",
          "text": [
            "[1, 2, 4, 5]\n"
          ]
        }
      ]
    },
    {
      "cell_type": "markdown",
      "source": [
        "# Answer 9"
      ],
      "metadata": {
        "id": "wj4xSoLTYVfE"
      }
    },
    {
      "cell_type": "code",
      "source": [
        "list1 =  ['a', 'b', 'c', 'd'] # second element is on index 1 that is b\n",
        "list1[1] # with index 1 second element is accessed"
      ],
      "metadata": {
        "colab": {
          "base_uri": "https://localhost:8080/",
          "height": 35
        },
        "id": "D3Ock60tYY2F",
        "outputId": "3abfaf0f-33d2-40c4-a2a1-58c607a9c6fa"
      },
      "execution_count": null,
      "outputs": [
        {
          "output_type": "execute_result",
          "data": {
            "text/plain": [
              "'b'"
            ],
            "application/vnd.google.colaboratory.intrinsic+json": {
              "type": "string"
            }
          },
          "metadata": {},
          "execution_count": 22
        }
      ]
    },
    {
      "cell_type": "markdown",
      "source": [
        "# Answer 10\n",
        "\n"
      ],
      "metadata": {
        "id": "jjxwGugrY64b"
      }
    },
    {
      "cell_type": "code",
      "source": [
        "list1 = [10, 20, 30, 40, 50]\n",
        "list1.reverse() # list is reversed\n",
        "print(list1)"
      ],
      "metadata": {
        "colab": {
          "base_uri": "https://localhost:8080/"
        },
        "id": "dbG46TyIZF35",
        "outputId": "065102b2-eee7-4c64-e3e4-d10cfd25d0c0"
      },
      "execution_count": null,
      "outputs": [
        {
          "output_type": "stream",
          "name": "stdout",
          "text": [
            "[50, 40, 30, 20, 10]\n"
          ]
        }
      ]
    },
    {
      "cell_type": "markdown",
      "source": [
        "# Answer 11"
      ],
      "metadata": {
        "id": "ehifTMCdZPJv"
      }
    },
    {
      "cell_type": "code",
      "source": [
        "tuple1 = (100, 200, 300)\n",
        "print(type(tuple1))\n",
        "print(tuple1)"
      ],
      "metadata": {
        "colab": {
          "base_uri": "https://localhost:8080/"
        },
        "id": "vjQOK1ssMq3R",
        "outputId": "c271c6db-9b1f-45ac-dc56-499ce5b3ccda"
      },
      "execution_count": 1,
      "outputs": [
        {
          "output_type": "stream",
          "name": "stdout",
          "text": [
            "<class 'tuple'>\n",
            "(100, 200, 300)\n"
          ]
        }
      ]
    },
    {
      "cell_type": "markdown",
      "source": [
        "# **Answer 12**\n"
      ],
      "metadata": {
        "id": "wgyNu6TFNFmS"
      }
    },
    {
      "cell_type": "code",
      "source": [
        "tuple1 = ('red', 'green', 'blue', 'yellow')\n",
        "tuple1[1:4] # first to last element"
      ],
      "metadata": {
        "colab": {
          "base_uri": "https://localhost:8080/"
        },
        "id": "tHiXm0BfNLCy",
        "outputId": "289df891-0d82-48a4-c0fb-df42ae35b321"
      },
      "execution_count": 6,
      "outputs": [
        {
          "output_type": "execute_result",
          "data": {
            "text/plain": [
              "('green', 'blue', 'yellow')"
            ]
          },
          "metadata": {},
          "execution_count": 6
        }
      ]
    },
    {
      "cell_type": "markdown",
      "source": [
        "# **Answer 13**"
      ],
      "metadata": {
        "id": "oxIfDGTUOcRI"
      }
    },
    {
      "cell_type": "code",
      "source": [
        "tup1 =  (10, 20, 5, 15)\n",
        "min(tup1) # minimum value"
      ],
      "metadata": {
        "colab": {
          "base_uri": "https://localhost:8080/"
        },
        "id": "J1Fa75qtOfdv",
        "outputId": "6be90cb6-86ef-4635-dfae-e7131a634a41"
      },
      "execution_count": 7,
      "outputs": [
        {
          "output_type": "execute_result",
          "data": {
            "text/plain": [
              "5"
            ]
          },
          "metadata": {},
          "execution_count": 7
        }
      ]
    },
    {
      "cell_type": "markdown",
      "source": [
        "# **Answer 14**\n"
      ],
      "metadata": {
        "id": "TEe9e4LQO1ce"
      }
    },
    {
      "cell_type": "code",
      "source": [
        "tuple1 = ('dog', 'cat', 'rabbit')\n",
        "tuple1.index('cat') # index of cat is"
      ],
      "metadata": {
        "colab": {
          "base_uri": "https://localhost:8080/"
        },
        "id": "dZOYWTDuO4yQ",
        "outputId": "1af2117e-b66b-4bf2-f3bd-4d34dbed3451"
      },
      "execution_count": 8,
      "outputs": [
        {
          "output_type": "execute_result",
          "data": {
            "text/plain": [
              "1"
            ]
          },
          "metadata": {},
          "execution_count": 8
        }
      ]
    },
    {
      "cell_type": "markdown",
      "source": [
        "# **Answer 15**\n",
        "\n"
      ],
      "metadata": {
        "id": "j1Ze-k3BPFHU"
      }
    },
    {
      "cell_type": "code",
      "source": [
        "tuple1 = (\"kiwi\",\"orange\",\"apple\")\n",
        "find = \"kiwi\" in tuple1\n",
        "print(find)"
      ],
      "metadata": {
        "colab": {
          "base_uri": "https://localhost:8080/"
        },
        "id": "k4zKAzuvPP1W",
        "outputId": "e8feb57d-fb49-4266-f950-eb6823ca1d26"
      },
      "execution_count": 9,
      "outputs": [
        {
          "output_type": "stream",
          "name": "stdout",
          "text": [
            "True\n"
          ]
        }
      ]
    },
    {
      "cell_type": "markdown",
      "source": [
        "# **Answer 16**"
      ],
      "metadata": {
        "id": "oWVwf5yLP4Xy"
      }
    },
    {
      "cell_type": "code",
      "source": [
        "set1 = {\"a\",\"b\",\"c\"}\n",
        "print(type(set1))\n",
        "print(set1)"
      ],
      "metadata": {
        "colab": {
          "base_uri": "https://localhost:8080/"
        },
        "id": "2RNh4B9FP8SQ",
        "outputId": "bc13e367-cf44-48c1-88b7-96f77c11ea12"
      },
      "execution_count": 10,
      "outputs": [
        {
          "output_type": "stream",
          "name": "stdout",
          "text": [
            "<class 'set'>\n",
            "{'a', 'c', 'b'}\n"
          ]
        }
      ]
    },
    {
      "cell_type": "markdown",
      "source": [
        "# **Answer 17**\n"
      ],
      "metadata": {
        "id": "5KpQLJMuQW8F"
      }
    },
    {
      "cell_type": "code",
      "source": [
        "sets1 = {1, 2, 3, 4, 5}\n",
        "print(sets1)\n",
        "sets1.clear() # set is cleared\n",
        "print(sets1)"
      ],
      "metadata": {
        "colab": {
          "base_uri": "https://localhost:8080/"
        },
        "id": "xa1ohluEQa5Y",
        "outputId": "c02e2b65-6543-4339-f945-a11fcad15842"
      },
      "execution_count": 12,
      "outputs": [
        {
          "output_type": "stream",
          "name": "stdout",
          "text": [
            "{1, 2, 3, 4, 5}\n",
            "set()\n"
          ]
        }
      ]
    },
    {
      "cell_type": "markdown",
      "source": [
        "# **Answer 18**"
      ],
      "metadata": {
        "id": "CpEGAECQQzsr"
      }
    },
    {
      "cell_type": "code",
      "source": [
        "sets1 = {1, 2, 3, 4}\n",
        "sets1.remove(4) # 4 will be removed\n",
        "print(sets1)"
      ],
      "metadata": {
        "colab": {
          "base_uri": "https://localhost:8080/"
        },
        "id": "Bi9wA15IQ3NI",
        "outputId": "4fe970a4-ac78-45fa-d95a-7a9eb274c1d6"
      },
      "execution_count": 13,
      "outputs": [
        {
          "output_type": "stream",
          "name": "stdout",
          "text": [
            "{1, 2, 3}\n"
          ]
        }
      ]
    },
    {
      "cell_type": "markdown",
      "source": [
        "# **Answer 19**\n",
        "\n"
      ],
      "metadata": {
        "id": "lhCmG3DYRCWw"
      }
    },
    {
      "cell_type": "code",
      "source": [
        "set1 = {1, 2, 3}\n",
        "set2 = {3, 4, 5}\n",
        "set1.union(set2) # union of two sets"
      ],
      "metadata": {
        "colab": {
          "base_uri": "https://localhost:8080/"
        },
        "id": "t_YwrVIkRGjS",
        "outputId": "f7916914-154e-4ebe-b5d3-49ced9a37bd6"
      },
      "execution_count": 14,
      "outputs": [
        {
          "output_type": "execute_result",
          "data": {
            "text/plain": [
              "{1, 2, 3, 4, 5}"
            ]
          },
          "metadata": {},
          "execution_count": 14
        }
      ]
    },
    {
      "cell_type": "markdown",
      "source": [
        "# **Answer 20**"
      ],
      "metadata": {
        "id": "1t7PvV5dRpgV"
      }
    },
    {
      "cell_type": "code",
      "source": [
        "set1 = {1, 2, 3}\n",
        "set2 = {3, 4, 5}\n",
        "set1.intersection(set2) # intersection of two sets"
      ],
      "metadata": {
        "colab": {
          "base_uri": "https://localhost:8080/"
        },
        "id": "o4LTSXTuRt3A",
        "outputId": "d375bab7-6067-4d01-b3ce-cb34efc8783b"
      },
      "execution_count": 15,
      "outputs": [
        {
          "output_type": "execute_result",
          "data": {
            "text/plain": [
              "{3}"
            ]
          },
          "metadata": {},
          "execution_count": 15
        }
      ]
    },
    {
      "cell_type": "markdown",
      "source": [
        "# **Answer 21**"
      ],
      "metadata": {
        "id": "XnoVWoAeR8yD"
      }
    },
    {
      "cell_type": "code",
      "source": [
        "dict1 = {\"name\":\"saurabh\",\"age\":23,\"city\":\"Yamunanagar\"}\n",
        "print(type(dict1))\n",
        "print(dict1)"
      ],
      "metadata": {
        "colab": {
          "base_uri": "https://localhost:8080/"
        },
        "id": "Bf_DEyVASAf1",
        "outputId": "ee212517-6e44-44c2-ee85-9a3def813958"
      },
      "execution_count": 16,
      "outputs": [
        {
          "output_type": "stream",
          "name": "stdout",
          "text": [
            "<class 'dict'>\n",
            "{'name': 'saurabh', 'age': 23, 'city': 'Yamunanagar'}\n"
          ]
        }
      ]
    },
    {
      "cell_type": "markdown",
      "source": [
        "# **Answer 22**"
      ],
      "metadata": {
        "id": "RiWSUHG5TE1-"
      }
    },
    {
      "cell_type": "code",
      "source": [
        "dict1 = {'name': 'John', 'age': 25}\n",
        "dict1 [\"country\"] = \"USA\" # added a new element in a dictionary\n",
        "print(dict1)"
      ],
      "metadata": {
        "colab": {
          "base_uri": "https://localhost:8080/"
        },
        "id": "keg3MpNtTJG6",
        "outputId": "9450b149-dca0-48cd-f1ac-f97c5297f787"
      },
      "execution_count": 17,
      "outputs": [
        {
          "output_type": "stream",
          "name": "stdout",
          "text": [
            "{'name': 'John', 'age': 25, 'country': 'USA'}\n"
          ]
        }
      ]
    },
    {
      "cell_type": "markdown",
      "source": [
        "# **Answer 23**"
      ],
      "metadata": {
        "id": "QVcRhHcrUBxD"
      }
    },
    {
      "cell_type": "code",
      "source": [
        "dict1 = {'name': 'Alice', 'age': 30}\n",
        "dict1[\"name\"] # name key value is accessed"
      ],
      "metadata": {
        "colab": {
          "base_uri": "https://localhost:8080/",
          "height": 35
        },
        "id": "AyXAuxALUFmt",
        "outputId": "d133e6fd-8b2e-4e0b-80a2-33aa46b6df77"
      },
      "execution_count": 19,
      "outputs": [
        {
          "output_type": "execute_result",
          "data": {
            "text/plain": [
              "'Alice'"
            ],
            "application/vnd.google.colaboratory.intrinsic+json": {
              "type": "string"
            }
          },
          "metadata": {},
          "execution_count": 19
        }
      ]
    },
    {
      "cell_type": "markdown",
      "source": [
        "# **Answer 24**"
      ],
      "metadata": {
        "id": "Rb85fe1sUgLh"
      }
    },
    {
      "cell_type": "code",
      "source": [
        "dict1 = {'name': 'Bob', 'age': 22, 'city': 'New York'}\n",
        "dict1.pop(\"age\") # age key value is removed\n",
        "print(dict1)"
      ],
      "metadata": {
        "colab": {
          "base_uri": "https://localhost:8080/"
        },
        "id": "OFv3OzbbUkK5",
        "outputId": "0a678e5e-f646-4ea2-e9fb-2febd99c53b9"
      },
      "execution_count": 20,
      "outputs": [
        {
          "output_type": "stream",
          "name": "stdout",
          "text": [
            "{'name': 'Bob', 'city': 'New York'}\n"
          ]
        }
      ]
    },
    {
      "cell_type": "markdown",
      "source": [
        "# **Answer 25**"
      ],
      "metadata": {
        "id": "H-L7hVeXVGAr"
      }
    },
    {
      "cell_type": "code",
      "source": [
        "dict1 = {'name': 'Alice', 'city': 'Paris'}\n",
        "find = \"city\" in dict1\n",
        "print(find)"
      ],
      "metadata": {
        "colab": {
          "base_uri": "https://localhost:8080/"
        },
        "id": "prRgBdgEVJ24",
        "outputId": "3daa1e2a-347e-4162-b073-8836bc3373f6"
      },
      "execution_count": 21,
      "outputs": [
        {
          "output_type": "stream",
          "name": "stdout",
          "text": [
            "True\n"
          ]
        }
      ]
    },
    {
      "cell_type": "markdown",
      "source": [
        "# **Answer 26**"
      ],
      "metadata": {
        "id": "wOWyMmvUVZnw"
      }
    },
    {
      "cell_type": "code",
      "source": [
        "list1 = [1,\"class\",3.12,4,6,7]\n",
        "tuple1 = (1,23,4,6)\n",
        "dict1 = {\"name\":\"saurabh\",\"age\":23}\n",
        "print(type(list1))\n",
        "print(list1)\n",
        "print(type(tuple1))\n",
        "print(tuple1)\n",
        "print(type(dict1))\n",
        "print(dict1)"
      ],
      "metadata": {
        "colab": {
          "base_uri": "https://localhost:8080/"
        },
        "id": "X7HQjN0vVdfs",
        "outputId": "033a80dc-02e9-490f-d3c7-c2cf55374063"
      },
      "execution_count": 25,
      "outputs": [
        {
          "output_type": "stream",
          "name": "stdout",
          "text": [
            "<class 'list'>\n",
            "[1, 'class', 3.12, 4, 6, 7]\n",
            "<class 'tuple'>\n",
            "(1, 23, 4, 6)\n",
            "<class 'dict'>\n",
            "{'name': 'saurabh', 'age': 23}\n"
          ]
        }
      ]
    },
    {
      "cell_type": "markdown",
      "source": [
        "# **Answer 27**"
      ],
      "metadata": {
        "id": "44Xoq8d7WOtI"
      }
    },
    {
      "cell_type": "code",
      "source": [
        "import random\n",
        "list1 = [random.randint(1, 100) for i in range(5)]\n",
        "list1.sort() # list is sorted now\n",
        "print(\"Sorted list:\", list1)"
      ],
      "metadata": {
        "colab": {
          "base_uri": "https://localhost:8080/"
        },
        "id": "gG6N6HhDWR9Y",
        "outputId": "3f571265-3862-47ec-dc00-a8a2a79c4ac1"
      },
      "execution_count": 36,
      "outputs": [
        {
          "output_type": "stream",
          "name": "stdout",
          "text": [
            "Sorted list: [23, 28, 57, 94, 97]\n"
          ]
        }
      ]
    },
    {
      "cell_type": "markdown",
      "source": [
        "# **Answer 28**"
      ],
      "metadata": {
        "id": "tSf-M2nQYvE8"
      }
    },
    {
      "cell_type": "code",
      "source": [
        "list1 = [\"saurabh\",\"maverick\", \"johnsnow\",\"johnwick\"]\n",
        "print(type(list1))\n",
        "list1[3] # on third index there is johnwick"
      ],
      "metadata": {
        "colab": {
          "base_uri": "https://localhost:8080/",
          "height": 53
        },
        "id": "CIWhiBgHYyJ1",
        "outputId": "f6275541-b462-4d5c-b91e-8fa1c6ec3fef"
      },
      "execution_count": 37,
      "outputs": [
        {
          "output_type": "stream",
          "name": "stdout",
          "text": [
            "<class 'list'>\n"
          ]
        },
        {
          "output_type": "execute_result",
          "data": {
            "text/plain": [
              "'johnwick'"
            ],
            "application/vnd.google.colaboratory.intrinsic+json": {
              "type": "string"
            }
          },
          "metadata": {},
          "execution_count": 37
        }
      ]
    },
    {
      "cell_type": "markdown",
      "source": [
        "# **Answer 29**"
      ],
      "metadata": {
        "id": "qdvTbf3rZqlg"
      }
    },
    {
      "cell_type": "code",
      "source": [
        "dict1 = {'a': 1, 'b': 2}\n",
        "dict2 = {'c': 99, 'd': 3}\n",
        "combined = {**dict1, **dict2}\n",
        "print(combined)"
      ],
      "metadata": {
        "colab": {
          "base_uri": "https://localhost:8080/"
        },
        "id": "URGLCyYiZtpy",
        "outputId": "a663b1db-6b58-4863-d6f7-2709a20bb045"
      },
      "execution_count": 40,
      "outputs": [
        {
          "output_type": "stream",
          "name": "stdout",
          "text": [
            "{'a': 1, 'b': 2, 'c': 99, 'd': 3}\n"
          ]
        }
      ]
    },
    {
      "cell_type": "markdown",
      "source": [
        "# **Answer 30**"
      ],
      "metadata": {
        "id": "KMRaKcS3addU"
      }
    },
    {
      "cell_type": "code",
      "source": [
        "list1 = [\"saurabh\",\"maverick\", \"johnsnow\",\"johnwick\"]\n",
        "set1 = set(list1) # list is converted into set\n",
        "print(set1)\n",
        "print(type(set1))"
      ],
      "metadata": {
        "colab": {
          "base_uri": "https://localhost:8080/"
        },
        "id": "tNHONeDFagwd",
        "outputId": "e9442d5e-5ebb-4527-fff8-f1e3c3ab9c47"
      },
      "execution_count": 41,
      "outputs": [
        {
          "output_type": "stream",
          "name": "stdout",
          "text": [
            "{'johnsnow', 'johnwick', 'saurabh', 'maverick'}\n",
            "<class 'set'>\n"
          ]
        }
      ]
    }
  ]
}