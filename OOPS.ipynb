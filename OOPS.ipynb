{
  "nbformat": 4,
  "nbformat_minor": 0,
  "metadata": {
    "colab": {
      "provenance": [],
      "toc_visible": true
    },
    "kernelspec": {
      "name": "python3",
      "display_name": "Python 3"
    },
    "language_info": {
      "name": "python"
    }
  },
  "cells": [
    {
      "cell_type": "markdown",
      "source": [
        "# **Theory Questions**"
      ],
      "metadata": {
        "id": "tp1YK2NPCvyL"
      }
    },
    {
      "cell_type": "markdown",
      "source": [
        "\n",
        "# **Answer 1**\n",
        "\n",
        "Object-oriented programming (OOP) in Python helps you structure your code by grouping related data and behaviors into objects. You start by defining classes, which act as blueprints, and then create objects from them. OOP simplifies modeling real-world concepts in your programs and enables you to build systems that are more reusable and scalable.\n",
        "\n",
        "\n",
        "**Class**: A blueprint for creating objects. It defines a data structure and behaviors methods.\n",
        "\n",
        "**Object**: An instance of a class. It holds actual values and can perform defined methods.\n",
        "\n",
        "**Encapsulation**: Hiding internal state and requiring all interaction to be performed through an object’s methods.\n",
        "\n",
        "**Abstraction**: Hiding complex implementation details and showing only the necessary features.\n",
        "\n",
        "**Inheritance**: Mechanism by which one class can inherit properties and methods from another, promoting code reuse.\n",
        "\n",
        "**Polymorphism**: The ability of different objects to respond in a unique way to the same method call."
      ],
      "metadata": {
        "id": "fVyldFfirXt6"
      }
    },
    {
      "cell_type": "markdown",
      "source": [
        "# **Answer 2**\n",
        "\n",
        "A class is a collection of objects. Classes are blueprints for creating objects. A class defines a set of attributes and methods that the created objects instances can have.\n",
        "  \n",
        "\n",
        "* Classes are created by keyword class.\n",
        "* Attributes are the variables that belong to a class.\n",
        "* Attributes are always public and can be accessed using the dot (.) operator."
      ],
      "metadata": {
        "id": "NkxQHf4weRnR"
      }
    },
    {
      "cell_type": "markdown",
      "source": [
        "# **Answer 3**\n",
        "\n",
        "An object in Object-Oriented Programming is a data entity with unique characteristics and behaviors, resembling real-life entities with states and actions. It represents an instance of a class, that allows multiple objects from the same class to exist."
      ],
      "metadata": {
        "id": "XlsEWWVMhFvP"
      }
    },
    {
      "cell_type": "markdown",
      "source": [
        "# **Answer 4**\n",
        "\n",
        "**Abstraction-:** Abstraction means to hide the complex details from the user and showing the user only the necessary details.\n",
        "\n",
        "* It focus on what an object is doing rather than how an object is doing.\n",
        "\n",
        "* Example-: TV remote, it hides all the mechanism that how it is working from inside\n",
        "\n",
        "**Encapsulation-:** It involves controlling the access to the internal data to prevent unauthorized modification. It's about how the data is managed and protected.\n",
        "\n",
        "* There are access modifiers which allow us to protect the data which are private, protected, public.\n",
        "\n",
        "*  Example-: Medicine capsule protecting contents"
      ],
      "metadata": {
        "id": "vPomkf9wiTC5"
      }
    },
    {
      "cell_type": "markdown",
      "source": [
        "# **Answer 5**\n",
        "\n",
        "Dunder methods, also known as magic methods, are special methods in Python that begin and end with double underscores e.g., __init__, __str__, __len__. They allow classes to define how they interact with built-in functions and operators.\n",
        "Some common dunder methods include:\n",
        "\n",
        "__init__: Initializes a new object (constructor).\n",
        "\n",
        "__str__: Returns a string representation of an object.\n",
        "\n",
        "__len__: Returns the length of an object.\n"
      ],
      "metadata": {
        "id": "mz9382vJkrLV"
      }
    },
    {
      "cell_type": "markdown",
      "source": [
        "# **Answer 6**\n",
        "\n",
        "Inheritance means when a class called child class inherit the properties and attributes of parent class that is called inheritance.\n",
        "\n",
        "There are mainly four types of inheritance which are-:\n",
        "\n",
        "* Single inheritance\n",
        "* multiple inheritance\n",
        "* multilevel inheritance\n",
        "* hierachical inheritance"
      ],
      "metadata": {
        "id": "UpAjMBwIQtB_"
      }
    },
    {
      "cell_type": "code",
      "source": [
        "# example of inheritance\n",
        "class father():  # parent class\n",
        "  def fat (self):\n",
        "    print(\"father loves fighting\")\n",
        "\n",
        "class son(father): # inheritance from parent class\n",
        "  def sar (self):\n",
        "    print(\"son loves boxing\")\n",
        "\n",
        "f=father()   # objects\n",
        "s=son()\n",
        "s.fat()  # son inherits from father class\n"
      ],
      "metadata": {
        "colab": {
          "base_uri": "https://localhost:8080/"
        },
        "id": "8BdveDBMRizQ",
        "outputId": "0549942a-6559-498d-8679-eba0907ebcb6"
      },
      "execution_count": null,
      "outputs": [
        {
          "output_type": "stream",
          "name": "stdout",
          "text": [
            "father loves fighting\n"
          ]
        }
      ]
    },
    {
      "cell_type": "markdown",
      "source": [
        "# **Answer 7**\n",
        "\n",
        "Polymorphism means an ablitity of data to be processed in more than one form and the name it self indicates poly means many and morphism means types.\n"
      ],
      "metadata": {
        "id": "S9dFffifS0qU"
      }
    },
    {
      "cell_type": "code",
      "source": [
        "# example of polymorphism\n",
        "def add(a,b):\n",
        "  return a+b\n",
        "print(add(2,3))  # interger addition\n",
        "print(add(\"hello\",\"world\")) # string concatenation\n",
        "print(add([2,3],[4,5])) # list concatenation"
      ],
      "metadata": {
        "colab": {
          "base_uri": "https://localhost:8080/"
        },
        "id": "-dVcXGDr0mIe",
        "outputId": "b1c0c87b-29df-4c16-eb48-ccc827aa7c2d"
      },
      "execution_count": null,
      "outputs": [
        {
          "output_type": "stream",
          "name": "stdout",
          "text": [
            "5\n",
            "helloworld\n",
            "[2, 3, 4, 5]\n"
          ]
        }
      ]
    },
    {
      "cell_type": "markdown",
      "source": [
        "# **Answer 8**\n",
        "\n",
        "\n",
        "Encapsulation involves controlling the access to the internal data to prevent unauthorized modification. It's about how the data is managed and protected.\n",
        "\n",
        "lets see an example how encapsulation is achieved in Python"
      ],
      "metadata": {
        "id": "szEuKEtcqpfQ"
      }
    },
    {
      "cell_type": "code",
      "source": [
        "class Student:\n",
        "    def __init__(self, name, age):\n",
        "        self.name = name\n",
        "        self.__age = age  # Private attribute\n",
        "\n",
        "    def get_age(self):\n",
        "\n",
        "        return self.__age\n",
        "\n",
        "    def set_age(self, age):\n",
        "\n",
        "        if 0 < age < 150:\n",
        "            self.__age = age\n",
        "        else:\n",
        "            print(\"Invalid age!\")\n",
        "\n",
        "    def display_info(self):\n",
        "\n",
        "        print(f\"Name: {self.name}, Age: {self.__age}\")\n",
        "\n",
        "\n",
        "student1 = Student(\"John\", 20)\n",
        "student1.display_info()\n",
        "\n",
        "print(f\"Age: {student1.get_age()}\")\n",
        "\n",
        "student1.set_age(25)\n",
        "print(f\"Updated Age: {student1.get_age()}\")\n",
        "\n",
        "\n",
        "student1.set_age(-5)  # Invalid age"
      ],
      "metadata": {
        "colab": {
          "base_uri": "https://localhost:8080/"
        },
        "id": "QgC-OxQLqy3T",
        "outputId": "6d9873d1-c4a0-4062-d37c-21b238d91085"
      },
      "execution_count": 114,
      "outputs": [
        {
          "output_type": "stream",
          "name": "stdout",
          "text": [
            "Name: John, Age: 20\n",
            "Age: 20\n",
            "Updated Age: 25\n",
            "Invalid age!\n"
          ]
        }
      ]
    },
    {
      "cell_type": "markdown",
      "source": [
        "# **Answer 9**\n",
        "\n",
        "A constructor in Python is a special method within a class that initializes the attributes of an object when the object is created. It is automatically called when an instance of the class is instantiated. The constructor method is named __init__ and always takes **self** as its first argument, which refers to the instance being created. It can also accept additional arguments to initialize the object's attributes with specific values."
      ],
      "metadata": {
        "id": "zgOEyLyK4-n_"
      }
    },
    {
      "cell_type": "code",
      "source": [
        "class Dog:\n",
        "    def __init__(self, name, breed): # __init__ is a constructor\n",
        "        self.name = name\n",
        "        self.breed = breed\n",
        "\n",
        "    def bark(self):\n",
        "        print(\"Woof!\")\n",
        "\n",
        "my_dog = Dog(\"Buddy\", \"Golden Retriever\")\n",
        "print(my_dog.name)\n",
        "print(my_dog.breed)\n",
        "my_dog.bark()"
      ],
      "metadata": {
        "colab": {
          "base_uri": "https://localhost:8080/"
        },
        "id": "et2JToMv5oiH",
        "outputId": "5385b921-75e7-4f5b-fa67-d96ea3124735"
      },
      "execution_count": null,
      "outputs": [
        {
          "output_type": "stream",
          "name": "stdout",
          "text": [
            "Buddy\n",
            "Golden Retriever\n",
            "Woof!\n"
          ]
        }
      ]
    },
    {
      "cell_type": "markdown",
      "source": [
        "# **Answer 10**\n",
        "\n",
        "**Class Method-:** The class method is an inbuilt functions in python, which return a class as class method for a given function. It transforms a method into a class method. when a method is is defined using @classmethod decorator, the method is bound to the class and not to the instance of the class. As the result method recives the class (cls) as the first argument rather than instance self.\n",
        "\n",
        "**Static Method-:** A static method is a method that is bound to a class but not the objects of the class. It can not access or modify class state. It not use self or cls.\n",
        "\n"
      ],
      "metadata": {
        "id": "p4UbXUxX55cS"
      }
    },
    {
      "cell_type": "code",
      "source": [
        "class class_method:\n",
        "  @classmethod\n",
        "  def cla(cls):\n",
        "    print(\"this is a class method\")\n",
        "\n",
        "  @staticmethod\n",
        "  def cvv():\n",
        "    print(\"this is a static method\")\n",
        "\n",
        "class_method.cla()\n",
        "class_method.cvv()\n"
      ],
      "metadata": {
        "colab": {
          "base_uri": "https://localhost:8080/"
        },
        "id": "s60TUDv5zSEU",
        "outputId": "d3f2326a-4561-41d3-bff2-699f63616898"
      },
      "execution_count": null,
      "outputs": [
        {
          "output_type": "stream",
          "name": "stdout",
          "text": [
            "this is a class method\n",
            "this is a static method\n"
          ]
        }
      ]
    },
    {
      "cell_type": "markdown",
      "source": [
        "# **Answer 11**\n",
        "\n",
        "Method overloading means two or more methods have the same name but different numbers of parameters or different types of parameter or both. These methods are called overloaded methods.\n",
        "\n",
        "And in python method overloading not works but we can implement method overloading using another way lets see an example"
      ],
      "metadata": {
        "id": "1Tfdyzce7WLc"
      }
    },
    {
      "cell_type": "code",
      "source": [
        "class shape:\n",
        "  def area(self,a,b=0):\n",
        "    if b==0:\n",
        "      return 3.14*a*a\n",
        "    else:\n",
        "      return a*b\n",
        "\n",
        "s = shape()\n",
        "print(s.area(2))\n",
        "print(s.area(4,3))\n",
        "# in this way we can achive method overloading in python and this is one of the way"
      ],
      "metadata": {
        "colab": {
          "base_uri": "https://localhost:8080/"
        },
        "id": "nN4WyDR38qzb",
        "outputId": "591761fb-7a09-4363-bf38-a303eaf6887a"
      },
      "execution_count": null,
      "outputs": [
        {
          "output_type": "stream",
          "name": "stdout",
          "text": [
            "12.56\n",
            "12\n"
          ]
        }
      ]
    },
    {
      "cell_type": "markdown",
      "source": [
        "# **Answer 12**\n",
        "\n",
        "Method overriding is a method when a child class has a same name, the same parameter or signature and same return type as a method in parent class,  then the method in child class is said to override the method in parent class.\n",
        "\n",
        "Lets understand with the help of example-:\n",
        "\n"
      ],
      "metadata": {
        "id": "Th6jxEde92DW"
      }
    },
    {
      "cell_type": "code",
      "source": [
        "class phone:\n",
        "  def __init__(self,price,brand,model):\n",
        "    self.price = price\n",
        "    self.brand = brand\n",
        "    self.model = model\n",
        "  def buy(self):  # method name same\n",
        "    print(\"buying a phone\")\n",
        "\n",
        "class smartphone(phone):\n",
        "  def buy(self):   # same method name as above\n",
        "    print(\"buying a smartphone\")\n",
        "\n",
        "s = smartphone(20000,\"iphone\",13)\n",
        "s.buy() # this override the parent and child class print will be displayed"
      ],
      "metadata": {
        "colab": {
          "base_uri": "https://localhost:8080/"
        },
        "id": "LX5rfrxn_ken",
        "outputId": "47b9b40b-0776-42de-e089-92cfc3f30188"
      },
      "execution_count": null,
      "outputs": [
        {
          "output_type": "stream",
          "name": "stdout",
          "text": [
            "buying a smartphone\n"
          ]
        }
      ]
    },
    {
      "cell_type": "markdown",
      "source": [
        "# **Answer 13**\n",
        "\n",
        "The property decorator in Python is used to define methods in a class that can be accessed like attributes. It allows you to implement getter, setter, and deleter methods in a clean and Pythonic way without explicitly calling them as methods.\n",
        "\n"
      ],
      "metadata": {
        "id": "wkjOkYq_At9S"
      }
    },
    {
      "cell_type": "markdown",
      "source": [
        "# **Answer 14**\n",
        "\n",
        "**Flexibility and Extensibility:**\n",
        "Polymorphism enables you to write code that can work with objects of different classes without needing to know their specific type. This makes your code more flexible and easier to extend in the future.\n",
        "\n",
        "**Code Reusability:**\n",
        "By using polymorphism, you can write generic code that can be reused with different types of objects. This reduces code duplication and makes your code more maintainable.\n",
        "\n",
        "**Abstraction:**\n",
        "Polymorphism allows you to abstract away the specific implementation details of different classes. This makes your code easier to understand and reason about.\n",
        "\n",
        "**Loose Coupling:**\n",
        "Polymorphism promotes loose coupling between different parts of your code. This means that changes in one part of your code are less likely to affect other parts.\n",
        "\n",
        "**Method Overriding:**\n",
        "Polymorphism enables method overriding, where a subclass can provide its own implementation of a method that is already defined in its superclass. This allows you to customize the behavior of objects based on their specific type."
      ],
      "metadata": {
        "id": "SuYtFUD1A5cc"
      }
    },
    {
      "cell_type": "markdown",
      "source": [
        "# **Answer 15**\n",
        "\n"
      ],
      "metadata": {
        "id": "RGxh0lQVCGch"
      }
    },
    {
      "cell_type": "markdown",
      "source": [
        "In Python, an abstract class is a class that cannot be instantiated on its own and is designed to be a blueprint for other classes. Abstract classes allow us to define methods that must be implemented by subclasses, ensuring a consistent interface while still allowing the subclasses to provide specific implementations."
      ],
      "metadata": {
        "id": "DUacQvikChug"
      }
    },
    {
      "cell_type": "code",
      "source": [
        "from abc import ABC, abstractmethod\n",
        "# Define an abstract class\n",
        "class Animal(ABC):\n",
        "\n",
        "    @abstractmethod\n",
        "    def sound(self):\n",
        "        pass\n",
        "\n",
        "# Concrete subclass of Animal\n",
        "class Dog(Animal):\n",
        "\n",
        "    def sound(self):\n",
        "        return \"Bark\"  # Providing the implementation of the abstract method\n",
        "\n",
        "dog = Dog()\n",
        "print(dog.sound())"
      ],
      "metadata": {
        "colab": {
          "base_uri": "https://localhost:8080/"
        },
        "id": "GyhnGiBhyiSG",
        "outputId": "51568078-c1b5-4ed3-ac35-aa7d7beaac51"
      },
      "execution_count": null,
      "outputs": [
        {
          "output_type": "stream",
          "name": "stdout",
          "text": [
            "Bark\n"
          ]
        }
      ]
    },
    {
      "cell_type": "markdown",
      "source": [
        "# **Answer 16**\n",
        "\n",
        "1. Modularity-:Code is organized into classes and objects, which encapsulate data and behavior.Makes it easier to divide a program into smaller, manageable parts.\n",
        "\n",
        "2. Reusability-: Through inheritance, you can create new classes from existing ones.\n",
        "\n",
        "3. Encapsulation-: Internal object details are hidden from the outside via private/protected members and public interfaces.Improves security and reduces the likelihood of unintended interference.\n",
        "\n",
        "4. Polymorphism-: The same method name can be used for different types of objects (via method overriding/overloading). Enhances flexibility and makes code easier to extend and maintain.\n",
        "\n",
        "5. Abstraction-:Hides complex implementation details and exposes only necessary parts of an object. Helps in focusing on what an object does instead of how it does it.\n",
        "\n",
        "6. Improved Code Organization-: Grouping related functions and data into classes makes the code more intuitive and aligned with real-world entities.\n",
        "\n",
        "7. Scalability-: Easier to build large systems by dividing functionality into interacting objects."
      ],
      "metadata": {
        "id": "CYh87Ntiy72z"
      }
    },
    {
      "cell_type": "markdown",
      "source": [
        "# **Answer 17**\n",
        "\n",
        "**class variable** is a variable that is defined within a class and outside of any class method. It is a variable that is shared by all instances of the class, meaning that if the variable's value is changed, the change will be reflected in all instances of the class. Class variables help store data common to all instances of a class.\n",
        "\n",
        "**Instance variables** are variables that are bound to an instance of a class. They are defined within the constructor (__init__) and are unique to each object. Instance variables store data or state specific to an object, and can be accessed or modified using self within the class methods"
      ],
      "metadata": {
        "id": "Y4E7ODWQ0tJu"
      }
    },
    {
      "cell_type": "code",
      "source": [
        "class student:\n",
        "  total = 0  # class variable\n",
        "  def __init__(self,name):\n",
        "    self.name = name # instance variable\n",
        "    student.total += 1 # incrementing class variable\n",
        "    def get_total(self):\n",
        "      return student.total\n",
        "\n",
        "\n",
        "s1 = student(\"saurabh Sharma\")\n",
        "s2 = student(\"ajay\")\n",
        "print(s1.name)\n",
        "print(s2.name)\n",
        "print(student.total)"
      ],
      "metadata": {
        "colab": {
          "base_uri": "https://localhost:8080/"
        },
        "id": "aq0AMbejwxo2",
        "outputId": "d64e2ad0-1a3b-49c0-996b-b4affeeb99dc"
      },
      "execution_count": null,
      "outputs": [
        {
          "output_type": "stream",
          "name": "stdout",
          "text": [
            "saurabh Sharma\n",
            "ajay\n",
            "2\n"
          ]
        }
      ]
    },
    {
      "cell_type": "markdown",
      "source": [
        "# **Answer 18**\n",
        "\n",
        "Multiple Inheritance means when a child class inherits from more than one parent class. lets see an example"
      ],
      "metadata": {
        "id": "TFcZqxo70zAz"
      }
    },
    {
      "cell_type": "code",
      "source": [
        "class father:\n",
        "  def gardening(self):\n",
        "    print(\"father loves gardening\")\n",
        "\n",
        "class mother:\n",
        "  def cooking(self):\n",
        "    print(\"mother loves cooking\")\n",
        "\n",
        "class child(father,mother): # inherits from more than one parent class\n",
        "  def sports(self):\n",
        "    print(\"child loves sports\")\n",
        "\n",
        "c = child()\n",
        "c.gardening()\n",
        "c.cooking()\n",
        "c.sports()"
      ],
      "metadata": {
        "colab": {
          "base_uri": "https://localhost:8080/"
        },
        "id": "Vwlv5FOG1J4P",
        "outputId": "782cf32b-0369-492f-c7e8-af4631ffc92c"
      },
      "execution_count": null,
      "outputs": [
        {
          "output_type": "stream",
          "name": "stdout",
          "text": [
            "father loves gardening\n",
            "mother loves cooking\n",
            "child loves sports\n"
          ]
        }
      ]
    },
    {
      "cell_type": "markdown",
      "source": [
        "# **Answer 19**\n",
        "\n",
        "* __repr__() provides the official string representation of an object, aimed at the programmer.\n",
        "* __str__() provides the informal string representation of an object, aimed at the user.\n",
        "\n",
        "Lets understand more by an example"
      ],
      "metadata": {
        "id": "Hq-2RvQ61feZ"
      }
    },
    {
      "cell_type": "code",
      "source": [
        "class Book:\n",
        "    def __init__(self, title, author):\n",
        "        self.title = title\n",
        "        self.author = author\n",
        "\n",
        "    def __str__(self):\n",
        "        return f'\"{self.title}\" by {self.author}'\n",
        "\n",
        "    def __repr__(self):\n",
        "        return f\"Book('{self.title}', '{self.author}')\"\n",
        "\n",
        "book = Book(\"The Lord of the Rings\", \"J.R.R. Tolkien\")\n",
        "\n",
        "print(str(book))\n",
        "\n",
        "print(repr(book))"
      ],
      "metadata": {
        "colab": {
          "base_uri": "https://localhost:8080/"
        },
        "id": "rm6kThu66k6g",
        "outputId": "0d905fa9-3502-4bbb-9d8a-280a18ccafb7"
      },
      "execution_count": null,
      "outputs": [
        {
          "output_type": "stream",
          "name": "stdout",
          "text": [
            "\"The Lord of the Rings\" by J.R.R. Tolkien\n",
            "Book('The Lord of the Rings', 'J.R.R. Tolkien')\n"
          ]
        }
      ]
    },
    {
      "cell_type": "markdown",
      "source": [
        "# **Answer 20**\n",
        "\n",
        "Super() function is used to refer to the parent class. It allows you to call methods defined in parent class from child class, enabling you to extend and customize the functionality inherit from parent class.\n",
        "\n",
        "Super() is always used inside a child class and never outside a class.\n",
        "\n",
        "Let see an example"
      ],
      "metadata": {
        "id": "ayGWlHTx1l61"
      }
    },
    {
      "cell_type": "code",
      "source": [
        "class emp():\n",
        "  def __init__(self,name,age,salary):\n",
        "    self.name = name\n",
        "    self.age = age\n",
        "    self.salary = salary\n",
        "\n",
        "class details(emp):\n",
        "  def __init__(self,name,age,salary,department,experience):\n",
        "    super().__init__(name,age,salary) # calling from parent class\n",
        "    self.department = department\n",
        "    self.experience = experience\n",
        "\n",
        "emp1 = details(\"Saurabh Sharma\",\"23\",150000,\"IT\",\"3 YEARS\")\n",
        "print(emp1.name)\n",
        "print(emp1.age)\n",
        "print(emp1.salary)\n",
        "print(emp1.department)\n",
        "print(emp1.experience)"
      ],
      "metadata": {
        "colab": {
          "base_uri": "https://localhost:8080/"
        },
        "id": "BDkPjabL24fu",
        "outputId": "d1fe7104-a84d-4c2b-94bb-530d9f17a3fc"
      },
      "execution_count": null,
      "outputs": [
        {
          "output_type": "stream",
          "name": "stdout",
          "text": [
            "Saurabh Sharma\n",
            "23\n",
            "150000\n",
            "IT\n",
            "3 YEARS\n"
          ]
        }
      ]
    },
    {
      "cell_type": "markdown",
      "source": [
        "# **Answer 21**\n",
        "\n",
        "The __del__() method is a special method in Python that is called when an object is about to be destroyed."
      ],
      "metadata": {
        "id": "slWtyN414MfM"
      }
    },
    {
      "cell_type": "code",
      "source": [
        "class Example:\n",
        "\n",
        "    def __init__(self):\n",
        "        print(\"Example Instance.\")\n",
        "\n",
        "    def __del__(self):\n",
        "        print(\"Destructor called, Example deleted.\")\n",
        "\n",
        "obj = Example()\n",
        "del obj"
      ],
      "metadata": {
        "colab": {
          "base_uri": "https://localhost:8080/"
        },
        "id": "leSfKveu7teR",
        "outputId": "a565985f-57f9-4c3e-883e-921dc9a1cab1"
      },
      "execution_count": null,
      "outputs": [
        {
          "output_type": "stream",
          "name": "stdout",
          "text": [
            "Example Instance.\n",
            "Destructor called, Example deleted.\n"
          ]
        }
      ]
    },
    {
      "cell_type": "markdown",
      "source": [
        "# **Answer 22**\n",
        "\n",
        "Class Method-: The class method is an inbuilt functions in python, which return a class as class method for a given function. It transforms a method into a class method. when a method is is defined using @classmethod decorator, the method is bound to the class and not to the instance of the class. As the result method recives the class (cls) as the first argument rather than instance self.\n",
        "\n",
        "Static Method-: A static method is a method that is bound to a class but not the objects of the class. It can not access or modify class state. It not use self or cls."
      ],
      "metadata": {
        "id": "Q_Lecrkn8DKV"
      }
    },
    {
      "cell_type": "code",
      "source": [
        "class class_method:\n",
        "  @classmethod\n",
        "  def cla(cls):\n",
        "    print(\"this is a class method\")\n",
        "\n",
        "  @staticmethod\n",
        "  def cvv():\n",
        "    print(\"this is a static method\")\n",
        "\n",
        "class_method.cla()\n",
        "class_method.cvv()"
      ],
      "metadata": {
        "colab": {
          "base_uri": "https://localhost:8080/"
        },
        "id": "vIpDwHNU8VPM",
        "outputId": "01299399-1199-4755-f384-0bf6c79a8205"
      },
      "execution_count": null,
      "outputs": [
        {
          "output_type": "stream",
          "name": "stdout",
          "text": [
            "this is a class method\n",
            "this is a static method\n"
          ]
        }
      ]
    },
    {
      "cell_type": "markdown",
      "source": [
        "# **Answer 23**\n",
        "\n",
        "How Does Polymorphism Work with Inheritance?\n",
        "\n",
        "* When a child class inherits from a parent class, it can override methods.\n",
        "\n",
        "* The same method name can have different implementations in the parent and child classes.\n",
        "\n",
        "* This is called method overriding, and it is a form of polymorphism."
      ],
      "metadata": {
        "id": "1NpEW7YK9DVk"
      }
    },
    {
      "cell_type": "code",
      "source": [
        "class father:\n",
        "  def teaching():\n",
        "    print(\"father loves tecahing\")\n",
        "\n",
        "class son(father):\n",
        "  def teaching():\n",
        "    print(\"son loves boxing\")\n",
        "\n",
        "s = son\n",
        "s.teaching()"
      ],
      "metadata": {
        "colab": {
          "base_uri": "https://localhost:8080/"
        },
        "id": "C38_sRPJ-9Ds",
        "outputId": "a90db6e9-5c9d-4e3e-b636-506c61712526"
      },
      "execution_count": null,
      "outputs": [
        {
          "output_type": "stream",
          "name": "stdout",
          "text": [
            "son loves boxing\n"
          ]
        }
      ]
    },
    {
      "cell_type": "markdown",
      "source": [
        "# **Answer 24**\n",
        "\n",
        "Method chaining in Python is a technique where multiple methods are called on the same object in a single line of code. This is made possible by returning the object itself  (self) from each method. This allows you to call one method after another in a single expression, making the code more concise and expressive\n",
        "\n"
      ],
      "metadata": {
        "id": "jKyQT2yDA-5s"
      }
    },
    {
      "cell_type": "markdown",
      "source": [
        "# **Answer 25**\n",
        "\n",
        "The __call__() method is a special method that allows an instance of a class to be called as a function.\n",
        "\n",
        "In other words, if a class defines a __call__() method, then its objects can be called like a function using parentheses ()."
      ],
      "metadata": {
        "id": "05K5xMU6B3Ia"
      }
    },
    {
      "cell_type": "code",
      "source": [
        "class Greeting:\n",
        "    def __init__(self, name):\n",
        "        self.name = name\n",
        "\n",
        "    def __call__(self):\n",
        "        print(f\"Hello, {self.name}!\")\n",
        "\n",
        "# Creating an instance\n",
        "greet = Greeting(\"John\")\n",
        "\n",
        "# Calling the instance like a function\n",
        "greet()"
      ],
      "metadata": {
        "colab": {
          "base_uri": "https://localhost:8080/"
        },
        "id": "5YY8meATCL5u",
        "outputId": "5d231a8b-45d2-41c1-845d-70d128cec673"
      },
      "execution_count": null,
      "outputs": [
        {
          "output_type": "stream",
          "name": "stdout",
          "text": [
            "Hello, John!\n"
          ]
        }
      ]
    },
    {
      "cell_type": "markdown",
      "source": [
        "# **Practical Questions**"
      ],
      "metadata": {
        "id": "Ybsg4vwBCjNW"
      }
    },
    {
      "cell_type": "markdown",
      "source": [
        "# **Answer 1**"
      ],
      "metadata": {
        "id": "84zzn_p7Cpcj"
      }
    },
    {
      "cell_type": "code",
      "source": [
        "class animal:\n",
        "  def speak():\n",
        "    print(\"animal is angry\")\n",
        "\n",
        "class dog(animal):\n",
        "  def speak():\n",
        "    print(\"bark\")\n",
        "\n",
        "d = dog\n",
        "d.speak()"
      ],
      "metadata": {
        "colab": {
          "base_uri": "https://localhost:8080/"
        },
        "id": "5zXI3npuDBIz",
        "outputId": "82fe1402-fc97-470e-f044-65d879309777"
      },
      "execution_count": null,
      "outputs": [
        {
          "output_type": "stream",
          "name": "stdout",
          "text": [
            "bark\n"
          ]
        }
      ]
    },
    {
      "cell_type": "markdown",
      "source": [
        "# **Answer 2**"
      ],
      "metadata": {
        "id": "Eb24_Ri-EOD3"
      }
    },
    {
      "cell_type": "code",
      "source": [
        "from abc import ABC, abstractmethod\n",
        "class shape(ABC):\n",
        "  @abstractmethod\n",
        "  def area(self):\n",
        "    pass\n",
        "\n",
        "class circle(shape):\n",
        "  def __init__(self,radius):\n",
        "    self.radius = radius\n",
        "\n",
        "  def area(self):\n",
        "    return 3.14*self.radius*self.radius\n",
        "\n",
        "class rectangle(shape):\n",
        "  def __init__(self,l,w):\n",
        "    self.l = l\n",
        "    self.w = w\n",
        "\n",
        "  def area(self):\n",
        "    return self.l*self.w\n",
        "\n",
        "c = circle(5)\n",
        "r= rectangle(4,5)\n",
        "print(f\"The area of circle is : {c.area()}\")\n",
        "print(f\"The area of rectangle is : {r.area()}\")"
      ],
      "metadata": {
        "colab": {
          "base_uri": "https://localhost:8080/"
        },
        "id": "pa7VDwyyGpV_",
        "outputId": "43bcda44-fcce-4b8b-b373-36d9e82a70c8"
      },
      "execution_count": null,
      "outputs": [
        {
          "output_type": "stream",
          "name": "stdout",
          "text": [
            "The area of circle is : 78.5\n",
            "The area of rectangle is : 20\n"
          ]
        }
      ]
    },
    {
      "cell_type": "markdown",
      "source": [
        "# **Answer 3**"
      ],
      "metadata": {
        "id": "0m5-31xdIm6M"
      }
    },
    {
      "cell_type": "code",
      "source": [
        "class Vehicle:\n",
        "    def __init__(self, vehicle_type):\n",
        "        self.type = vehicle_type\n",
        "\n",
        "    def display_vehicle(self):\n",
        "        print(f\"This is a {self.type} vehicle\")\n",
        "\n",
        "\n",
        "class Car(Vehicle):\n",
        "    def __init__(self, vehicle_type, name):\n",
        "        super().__init__(vehicle_type)\n",
        "        self.name = name\n",
        "\n",
        "    def display_car(self):\n",
        "        print(f\"This is a {self.name} car\")\n",
        "\n",
        "\n",
        "class ElectricCar(Car):\n",
        "    def __init__(self, vehicle_type, name, battery):\n",
        "        super().__init__(vehicle_type, name)\n",
        "        self.battery = battery\n",
        "\n",
        "    def display_electriccar(self):\n",
        "        print(f\"This is a {self.name} {self.type} with a battery capacity of {self.battery} kWh\")\n",
        "\n",
        "\n",
        "e_car = ElectricCar(\"SUV\", \"Tesla\", 400)\n",
        "e_car.display_vehicle()\n",
        "e_car.display_car()\n",
        "e_car.display_electriccar()"
      ],
      "metadata": {
        "colab": {
          "base_uri": "https://localhost:8080/"
        },
        "id": "15a71AiBIpdh",
        "outputId": "755315db-9665-47c5-f156-8bf13a68bf12"
      },
      "execution_count": 2,
      "outputs": [
        {
          "output_type": "stream",
          "name": "stdout",
          "text": [
            "This is a SUV vehicle\n",
            "This is a Tesla car\n",
            "This is a Tesla SUV with a battery capacity of 400 kWh\n"
          ]
        }
      ]
    },
    {
      "cell_type": "markdown",
      "source": [
        "# **Answer 4**"
      ],
      "metadata": {
        "id": "J4rQhsfDwQJN"
      }
    },
    {
      "cell_type": "code",
      "source": [
        "class bird:\n",
        "  def fly(self):\n",
        "    print(\"The bird can fly\")\n",
        "\n",
        "class Sparrow:\n",
        "  def fly(self):\n",
        "    print(\"The sparrow can fly high\")\n",
        "\n",
        "class  Penguin:\n",
        "  def fly(self):\n",
        "    print(\"the penguin can not fly\")\n",
        "\n",
        "obj1 = Sparrow()\n",
        "obj2 = Penguin()\n",
        "obj1.fly()\n",
        "obj2.fly()"
      ],
      "metadata": {
        "colab": {
          "base_uri": "https://localhost:8080/"
        },
        "id": "cs7O8e0fwTSY",
        "outputId": "632028fb-9d3a-40a5-b553-19992e4f4435"
      },
      "execution_count": 14,
      "outputs": [
        {
          "output_type": "stream",
          "name": "stdout",
          "text": [
            "The sparrow can fly high\n",
            "the penguin can not fly\n"
          ]
        }
      ]
    },
    {
      "cell_type": "markdown",
      "source": [
        "# **Answer 5**"
      ],
      "metadata": {
        "id": "cYO3XQqMvK0x"
      }
    },
    {
      "cell_type": "code",
      "source": [
        "class BankAccount:\n",
        "    def __init__(self, account_holder, balance=0):\n",
        "        self.account_holder = account_holder\n",
        "        self._balance = balance  # Protected attribute\n",
        "\n",
        "    def deposit(self, amount):\n",
        "        if amount > 0:\n",
        "            self._balance += amount\n",
        "            print(f\"₹{amount} deposited successfully.\")\n",
        "        else:\n",
        "            print(\"Invalid deposit amount.\")\n",
        "\n",
        "    def withdraw(self, amount):\n",
        "        if amount <= 0:\n",
        "            print(\"Withdrawal amount must be positive.\")\n",
        "        elif amount > self._balance:\n",
        "            print(\"Insufficient balance.\")\n",
        "        else:\n",
        "            self._balance -= amount\n",
        "            print(f\"₹{amount} withdrawn successfully.\")\n",
        "\n",
        "    def get_balance(self):\n",
        "        return self._balance\n",
        "\n",
        "    def display_account_info(self):\n",
        "        print(f\"Account Holder: {self.account_holder}\")\n",
        "        print(f\"Current Balance: ₹{self._balance}\")\n",
        "\n",
        "\n",
        "acc = BankAccount(\"Saurabh Sharma\", 100000)\n",
        "\n",
        "acc.display_account_info()\n",
        "\n",
        "acc.deposit(100000)\n",
        "print(f\"Balance after deposit: ₹{acc.get_balance()}\")\n",
        "\n",
        "acc.withdraw(100000)\n",
        "print(f\"Balance after withdrawal: ₹{acc.get_balance()}\")\n",
        "\n",
        "acc.deposit(-5000)\n",
        "acc.withdraw(200000)\n",
        "\n",
        "\n",
        "acc.deposit(20000)\n",
        "print(f\"Final Balance: ₹{acc.get_balance()}\")"
      ],
      "metadata": {
        "colab": {
          "base_uri": "https://localhost:8080/"
        },
        "id": "9cY_s1d9vSCg",
        "outputId": "836a58dd-a294-447f-860c-f368e48bd1e2"
      },
      "execution_count": 123,
      "outputs": [
        {
          "output_type": "stream",
          "name": "stdout",
          "text": [
            "Account Holder: Saurabh Sharma\n",
            "Current Balance: ₹100000\n",
            "₹100000 deposited successfully.\n",
            "Balance after deposit: ₹200000\n",
            "₹100000 withdrawn successfully.\n",
            "Balance after withdrawal: ₹100000\n",
            "Invalid deposit amount.\n",
            "Insufficient balance.\n",
            "₹20000 deposited successfully.\n",
            "Final Balance: ₹120000\n"
          ]
        }
      ]
    },
    {
      "cell_type": "markdown",
      "source": [
        "# **Answer 6**"
      ],
      "metadata": {
        "id": "F1VhDRrF2tCj"
      }
    },
    {
      "cell_type": "code",
      "source": [
        "class Instrument:\n",
        "    def play(self):\n",
        "        print(\"Playing an instrument\")\n",
        "\n",
        "\n",
        "class Guitar(Instrument):\n",
        "    def play(self):\n",
        "        print(\"Playing the guitar with strumming and chords\")\n",
        "\n",
        "\n",
        "class Piano(Instrument):\n",
        "    def play(self):\n",
        "        print(\"Playing the piano with keys and melodies\")\n",
        "\n",
        "\n",
        "instruments = [Guitar(), Piano()]\n",
        "\n",
        "for instrument in instruments:\n",
        "    instrument.play()"
      ],
      "metadata": {
        "colab": {
          "base_uri": "https://localhost:8080/"
        },
        "id": "hau601nL2vwB",
        "outputId": "fb387483-6d55-4df6-a93e-ded727f7aefe"
      },
      "execution_count": 30,
      "outputs": [
        {
          "output_type": "stream",
          "name": "stdout",
          "text": [
            "Playing the guitar with strumming and chords\n",
            "Playing the piano with keys and melodies\n"
          ]
        }
      ]
    },
    {
      "cell_type": "markdown",
      "source": [
        "# **Answer 7**"
      ],
      "metadata": {
        "id": "dSaLXUaa33-S"
      }
    },
    {
      "cell_type": "code",
      "source": [
        "class MathOperations:\n",
        "  @classmethod\n",
        "  def add_numbers(cls,a,b):\n",
        "    return a+b\n",
        "  @staticmethod\n",
        "  def subtract_numbers(a,b):\n",
        "    return a-b\n",
        "\n",
        "print(\"addition of number is:\",MathOperations.add_numbers(10,20))\n",
        "print(\"subtraction of numbers is:\",MathOperations.subtract_numbers(200,150))"
      ],
      "metadata": {
        "colab": {
          "base_uri": "https://localhost:8080/"
        },
        "id": "EsLBo27K37C5",
        "outputId": "28ec1cae-60f3-4220-8fe7-9aed6cdc6c09"
      },
      "execution_count": 40,
      "outputs": [
        {
          "output_type": "stream",
          "name": "stdout",
          "text": [
            "addition of number is: 30\n",
            "subtraction of numbers is: 50\n"
          ]
        }
      ]
    },
    {
      "cell_type": "markdown",
      "source": [
        "# **Answer 8**"
      ],
      "metadata": {
        "id": "TbQOs9WB5xpb"
      }
    },
    {
      "cell_type": "code",
      "source": [
        "class person:\n",
        "  count = 0\n",
        "  def __init__(self,name):\n",
        "    self.name = name\n",
        "    person.count = person.count + 1\n",
        "\n",
        "  def total_person():\n",
        "    return person.count\n",
        "\n",
        "obj1 = person(\"saurabh sharma\")\n",
        "obj2  = person(\"maverick\")\n",
        "person.total_person()"
      ],
      "metadata": {
        "colab": {
          "base_uri": "https://localhost:8080/"
        },
        "id": "Y8usDJfF50gK",
        "outputId": "1ab023ff-b419-4bc5-da4b-c7e96d533bc9"
      },
      "execution_count": 44,
      "outputs": [
        {
          "output_type": "execute_result",
          "data": {
            "text/plain": [
              "2"
            ]
          },
          "metadata": {},
          "execution_count": 44
        }
      ]
    },
    {
      "cell_type": "markdown",
      "source": [
        "# **Answer 9**"
      ],
      "metadata": {
        "id": "uGylZxUt7h0S"
      }
    },
    {
      "cell_type": "code",
      "source": [
        "class Fraction:\n",
        "    def __init__(self, numerator, denominator):\n",
        "        self.numerator = numerator\n",
        "        self.denominator = denominator\n",
        "\n",
        "    def __str__(self):\n",
        "        return f\"{self.numerator}/{self.denominator}\"\n",
        "\n",
        "\n",
        "f1 = Fraction(3, 4)\n",
        "print(f1)\n",
        "\n",
        "f2 = Fraction(5, 8)\n",
        "print(f2)"
      ],
      "metadata": {
        "colab": {
          "base_uri": "https://localhost:8080/"
        },
        "id": "_xFbqB7B7kgt",
        "outputId": "1e51fc3e-12f9-4010-98a7-6ea96b095dc4"
      },
      "execution_count": 45,
      "outputs": [
        {
          "output_type": "stream",
          "name": "stdout",
          "text": [
            "3/4\n",
            "5/8\n"
          ]
        }
      ]
    },
    {
      "cell_type": "markdown",
      "source": [
        "# **Answer 10**"
      ],
      "metadata": {
        "id": "rtrsu3A_9DZ5"
      }
    },
    {
      "cell_type": "code",
      "source": [
        "class Vector:\n",
        "    def __init__(self, x, y):\n",
        "        self.x = x\n",
        "        self.y = y\n",
        "\n",
        "    def __add__(self, other):\n",
        "        return Vector(self.x + other.x, self.y + other.y)\n",
        "\n",
        "    def __str__(self):\n",
        "        return f\"({self.x}, {self.y})\"\n",
        "\n",
        "\n",
        "v1 = Vector(2, 3)\n",
        "v2 = Vector(4, 5)\n",
        "v3 = v1 + v2\n",
        "print(v1)\n",
        "print(v2)\n",
        "print(\"Sum of vectors:\", v3)"
      ],
      "metadata": {
        "colab": {
          "base_uri": "https://localhost:8080/"
        },
        "id": "qTkqO25b9GvX",
        "outputId": "b950a5ca-c467-446a-e65c-8e3818f3354d"
      },
      "execution_count": 46,
      "outputs": [
        {
          "output_type": "stream",
          "name": "stdout",
          "text": [
            "(2, 3)\n",
            "(4, 5)\n",
            "Sum of vectors: (6, 8)\n"
          ]
        }
      ]
    },
    {
      "cell_type": "markdown",
      "source": [
        "# **Answer 11**"
      ],
      "metadata": {
        "id": "p22xnWtm9app"
      }
    },
    {
      "cell_type": "code",
      "source": [
        "class perosn:\n",
        "  def __init__(self,name,age):\n",
        "    self.name  = name\n",
        "    self.age = age\n",
        "\n",
        "  def greet(self):\n",
        "    print(f\"Hello, My name is {self.name} and i am {self.age} years old\")\n",
        "\n",
        "obj = perosn(\"saurabh sharma\",23)\n",
        "obj.greet()\n"
      ],
      "metadata": {
        "colab": {
          "base_uri": "https://localhost:8080/"
        },
        "id": "NqBWQX6u9d3q",
        "outputId": "8820dc67-883c-4a89-f158-84c09c150ac9"
      },
      "execution_count": 51,
      "outputs": [
        {
          "output_type": "stream",
          "name": "stdout",
          "text": [
            "Hello, My name is saurabh sharma and i am 23 years old\n"
          ]
        }
      ]
    },
    {
      "cell_type": "markdown",
      "source": [
        "# **Answer 12**"
      ],
      "metadata": {
        "id": "Rwf1kjIj_jVc"
      }
    },
    {
      "cell_type": "code",
      "source": [
        "class student:\n",
        "  def __init__(self,name,grades):\n",
        "    self.name = name\n",
        "    self.grades = grades\n",
        "\n",
        "  def average_grade(self):\n",
        "    if self.grades:\n",
        "      return sum(self.grades) / len(self.grades)\n",
        "    else:\n",
        "      return 0\n",
        "\n",
        "s = student(\"saurabh sharma\",[90,93,80,87,77])\n",
        "print(f\"The average grade of {s.name} is {s.average_grade()}\")"
      ],
      "metadata": {
        "colab": {
          "base_uri": "https://localhost:8080/"
        },
        "id": "PTH5-Mtl_nCP",
        "outputId": "b05b2472-5d20-4b6e-be4b-4d30323e91b6"
      },
      "execution_count": 53,
      "outputs": [
        {
          "output_type": "stream",
          "name": "stdout",
          "text": [
            "The average grade of saurabh sharma is 85.4\n"
          ]
        }
      ]
    },
    {
      "cell_type": "markdown",
      "source": [
        "# **Answer 13**"
      ],
      "metadata": {
        "id": "vya4I0qVE18X"
      }
    },
    {
      "cell_type": "code",
      "source": [
        "class Rectangle:\n",
        "    def __init__(self):\n",
        "        self.length = 0\n",
        "        self.width = 0\n",
        "\n",
        "    def set_dimensions(self, length, width):\n",
        "        self.length = length\n",
        "        self.width = width\n",
        "\n",
        "    def area(self):\n",
        "        return self.length * self.width\n",
        "\n",
        "rect = Rectangle()\n",
        "rect.set_dimensions(5, 10)\n",
        "print(\"Area of Rectangle :\", rect.area())"
      ],
      "metadata": {
        "colab": {
          "base_uri": "https://localhost:8080/"
        },
        "id": "JlsmzDpNE5jD",
        "outputId": "87fa25cb-2d15-40a3-ea82-10b3c02f1a0f"
      },
      "execution_count": 65,
      "outputs": [
        {
          "output_type": "stream",
          "name": "stdout",
          "text": [
            "Area of Rectangle : 50\n"
          ]
        }
      ]
    },
    {
      "cell_type": "markdown",
      "source": [
        "# **Answer 14**"
      ],
      "metadata": {
        "id": "TPc-etdhIspU"
      }
    },
    {
      "cell_type": "code",
      "source": [
        "class Employee:\n",
        "    def __init__(self, name, hourly_rate):\n",
        "        self.name = name\n",
        "        self.hourly_rate = hourly_rate\n",
        "\n",
        "    def calculate_salary(self, hours_worked):\n",
        "        return self.hourly_rate * hours_worked\n",
        "\n",
        "\n",
        "class Manager(Employee):\n",
        "    def __init__(self, name, hourly_rate, bonus):\n",
        "        super().__init__(name, hourly_rate)\n",
        "        self.bonus = bonus\n",
        "\n",
        "    def calculate_salary(self, hours_worked):\n",
        "        base_salary = super().calculate_salary(hours_worked)\n",
        "        return base_salary + self.bonus\n",
        "\n",
        "\n",
        "emp = Employee(\"Saurabh sharma\", 20)\n",
        "print(f\"Employee Salary: {emp.calculate_salary(40)}\")\n",
        "\n",
        "mgr = Manager(\"Mukul sharma\", 30, 500)\n",
        "print(f\"After bonus salary is: {mgr.calculate_salary(40)}\")\n"
      ],
      "metadata": {
        "colab": {
          "base_uri": "https://localhost:8080/"
        },
        "id": "FwVyO7nfIvu3",
        "outputId": "eb143568-15b7-4418-a029-aa6270a168df"
      },
      "execution_count": 68,
      "outputs": [
        {
          "output_type": "stream",
          "name": "stdout",
          "text": [
            "Employee Salary: 800\n",
            "After bonus salary is: 1700\n"
          ]
        }
      ]
    },
    {
      "cell_type": "markdown",
      "source": [
        "# **Answer 15**"
      ],
      "metadata": {
        "id": "n5bKxLsFXZ-1"
      }
    },
    {
      "cell_type": "code",
      "source": [
        "class product:\n",
        "  def __init__(self,name,price,quantity):\n",
        "    self.name = name\n",
        "    self.price = price\n",
        "    self.quantity = quantity\n",
        "\n",
        "  def total_price(self):\n",
        "    return self.price * self.quantity\n",
        "\n",
        "class pen(product):\n",
        "  def __init__(self,name,price,quantity):\n",
        "    super().__init__(name,price,quantity)\n",
        "\n",
        "class book(product):\n",
        "  def __init__(self,name,price,quantity):\n",
        "    super().__init__(name,price,quantity)\n",
        "\n",
        "obj = pen(\"ball pen\",20,1000)\n",
        "print(f\"The total price of {obj.name} is {obj.total_price()}\")\n",
        "\n",
        "obj1 = book(\"harry potter\",500,100)\n",
        "print(f\"The total price of {obj1.name} is {obj1.total_price()}\")\n"
      ],
      "metadata": {
        "colab": {
          "base_uri": "https://localhost:8080/"
        },
        "id": "iVwch1sOXdnX",
        "outputId": "c9a79bc6-e158-4010-b949-3ff063f7b43f"
      },
      "execution_count": 73,
      "outputs": [
        {
          "output_type": "stream",
          "name": "stdout",
          "text": [
            "The total price of ball pen is 20000\n",
            "The total price of harry potter is 50000\n"
          ]
        }
      ]
    },
    {
      "cell_type": "markdown",
      "source": [
        "# **Answer 16**"
      ],
      "metadata": {
        "id": "aR0uBRQBZLoI"
      }
    },
    {
      "cell_type": "code",
      "source": [
        "class animal():\n",
        "  @abstractmethod\n",
        "  def sound():\n",
        "    pass\n",
        "\n",
        "class cow(animal):\n",
        "  def sound():\n",
        "    print(\"this is the sound of a cow\")\n",
        "\n",
        "class sheep(animal):\n",
        "  def sound():\n",
        "    print(\"this is the sound of a sheep\")\n",
        "\n",
        "animal = [(cow),(sheep)]\n",
        "for i in animal:\n",
        "  i.sound()\n"
      ],
      "metadata": {
        "colab": {
          "base_uri": "https://localhost:8080/"
        },
        "id": "bKNiZ_FMZQOR",
        "outputId": "53e0d1f7-1961-484f-d9bf-314d98e3ed0b"
      },
      "execution_count": 85,
      "outputs": [
        {
          "output_type": "stream",
          "name": "stdout",
          "text": [
            "this is the sound of a cow\n",
            "this is the sound of a sheep\n"
          ]
        }
      ]
    },
    {
      "cell_type": "markdown",
      "source": [
        "# **Answer 17**"
      ],
      "metadata": {
        "id": "Y4WHhd2Nbhnt"
      }
    },
    {
      "cell_type": "code",
      "source": [
        "class book:\n",
        "  def __init__(self,title,author, year_published):\n",
        "    self.title = title\n",
        "    self.author = author\n",
        "    self.year_published = year_published\n",
        "\n",
        "  def get_book_info(self):\n",
        "    return (f\"{self.title} by {self.author}  {self.year_published}\")\n",
        "\n",
        "obj = book(\"Game of thrones\",\"George R. R. Martin,\",1996)\n",
        "obj2 = book(\"Harry Potter\",\"J.K. Rowling,\",1997)\n",
        "print(obj.get_book_info())\n",
        "print(obj2.get_book_info())\n"
      ],
      "metadata": {
        "colab": {
          "base_uri": "https://localhost:8080/"
        },
        "id": "d_x8tFsFbklN",
        "outputId": "aa1c1ba1-80cf-4313-ff35-98c57ddac855"
      },
      "execution_count": 95,
      "outputs": [
        {
          "output_type": "stream",
          "name": "stdout",
          "text": [
            "Game of thrones by George R. R. Martin,  1996\n",
            "Harry Potter by J.K. Rowling,  1997\n"
          ]
        }
      ]
    },
    {
      "cell_type": "markdown",
      "source": [
        "# **Answer 18**"
      ],
      "metadata": {
        "id": "Rc1xEFgwfuD6"
      }
    },
    {
      "cell_type": "code",
      "source": [
        "class house:\n",
        "  def __init__(self,address, price):\n",
        "    self.address = address\n",
        "    self.price = price\n",
        "\n",
        "class mansion(house):\n",
        "  def __init__(self,address,price,number_of_rooms):\n",
        "    super().__init__(address,price)\n",
        "    self.number_of_rooms = number_of_rooms\n",
        "\n",
        "  def details(self):\n",
        "    return f\"The mansion at {self.address} is worth {self.price} and has {self.number_of_rooms} rooms.\"\n",
        "\n",
        "obj = mansion(\"#454 ram nagar\",800000,5)\n",
        "obj.details()"
      ],
      "metadata": {
        "colab": {
          "base_uri": "https://localhost:8080/",
          "height": 35
        },
        "id": "krOH1B7wfw-c",
        "outputId": "19c73397-6ed6-4420-af39-c41dbb25f2fa"
      },
      "execution_count": 104,
      "outputs": [
        {
          "output_type": "execute_result",
          "data": {
            "text/plain": [
              "'The mansion at #454 ram nagar is worth 800000 and has 5 rooms.'"
            ],
            "application/vnd.google.colaboratory.intrinsic+json": {
              "type": "string"
            }
          },
          "metadata": {},
          "execution_count": 104
        }
      ]
    }
  ]
}