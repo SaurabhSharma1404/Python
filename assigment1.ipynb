{
  "nbformat": 4,
  "nbformat_minor": 0,
  "metadata": {
    "colab": {
      "provenance": []
    },
    "kernelspec": {
      "name": "python3",
      "display_name": "Python 3"
    },
    "language_info": {
      "name": "python"
    }
  },
  "cells": [
    {
      "cell_type": "markdown",
      "source": [
        "# Answer number 1\n",
        "\n",
        "1. **Easy to code-:** Python is a very developer-friendly language, which means that it can be learned in a matter of hours or days by anyone. Python is one of the easiest object-oriented programming languages to learn when compared to Java, C, C++, and C#\n",
        "\n",
        "2. **Support for GUI-:** Support for GUI, or Graphical User Interface, is one of the most important features of any programming language since it allows code to be more visually appealing. Python is one of the most popular programming languages because it provides a wide range of GUI or graphical user interfaces that can be easily integrated into the interpreter.\n",
        "\n",
        "3. **Machine Learning-:** In the world of technology, machine learning has a bright future. Python is, without a doubt, the best language for machine learning. Because its simple to understand, data validation is quick and error-free. Developers can do difficult operations without coding since they have access to a well-developed library ecosystem.\n",
        "\n",
        "4. **Object-Oriented Methodology-:** One of Python most important features is its object-oriented methodology. This implies that Python understands the concept of class and object encapsulation, which allows applications to become more efficient over time."
      ],
      "metadata": {
        "id": "3p79mCz8r4z7"
      }
    },
    {
      "cell_type": "markdown",
      "source": [
        "# Answer 2\n",
        "In Python, predefined keywords are reserved words that have a specific meaning within the language's syntax and structure. They are not to be used as identifiers variable names, function names, etc. because they are crucial for the interpreter's understanding and execution of code."
      ],
      "metadata": {
        "id": "DNSZkTE7wdoE"
      }
    },
    {
      "cell_type": "code",
      "source": [
        "# example of predefined keywords\n",
        "n= int(input(\"enter the value \"))\n",
        "if n%2==0: # if is a predefined keyword in python and like this we use it in our program\n",
        "  print(\"number is even\")\n",
        "else: # it is also a predefined keyword\n",
        "    print(\"number is odd\")"
      ],
      "metadata": {
        "colab": {
          "base_uri": "https://localhost:8080/"
        },
        "id": "vmoSah4Tw6Ph",
        "outputId": "8dbe8deb-037d-4fcd-f51d-dc61a5cce812"
      },
      "execution_count": 1,
      "outputs": [
        {
          "output_type": "stream",
          "name": "stdout",
          "text": [
            "enter the value 10\n",
            "number is even\n"
          ]
        }
      ]
    },
    {
      "cell_type": "markdown",
      "source": [
        "# Answer 3\n",
        "\n",
        "**Mutable Objects-:** Mutable objects are those ojects which can be changed\n",
        "after the creation and modified after creation these kind of objects are called mutable objects in python.\n",
        "\n",
        "Examples: Lists, dictionaries, sets, and user-defined classes\n",
        "\n",
        "\n",
        "**Immutable objects-:** Immutable objects are those objects which cannot be changed after the creation of the object or cannot be modified after the creation.\n",
        "\n",
        "Examples-: int, float, str, tuple, bool\n",
        "\n",
        "\n",
        "\n",
        "\n",
        "\n",
        "\n",
        "\n",
        "\n",
        "\n",
        "\n",
        "\n"
      ],
      "metadata": {
        "id": "BINj--rdzbof"
      }
    },
    {
      "cell_type": "code",
      "source": [
        "# example of mutable objects in python\n",
        "a = [1,2,3,4,5,6]\n",
        "a.append(7) # after the creation of list we are able to modify it\n",
        "print(a)"
      ],
      "metadata": {
        "colab": {
          "base_uri": "https://localhost:8080/"
        },
        "id": "8bHdNrfk2iwV",
        "outputId": "84970639-d0a6-48fe-cff1-ee0893b2ef86"
      },
      "execution_count": 2,
      "outputs": [
        {
          "output_type": "stream",
          "name": "stdout",
          "text": [
            "[1, 2, 3, 4, 5, 6, 7]\n"
          ]
        }
      ]
    },
    {
      "cell_type": "code",
      "source": [
        "# example of immutable objects in python\n",
        "t = (1,2,3,4,5)\n",
        "t.append(6) # so it has given a error because it cannot be changed\n",
        "print(t)"
      ],
      "metadata": {
        "colab": {
          "base_uri": "https://localhost:8080/",
          "height": 193
        },
        "id": "JEYP7LTt3SKl",
        "outputId": "6b8a2548-cf49-47dc-c22a-b3d57b161d81"
      },
      "execution_count": 3,
      "outputs": [
        {
          "output_type": "error",
          "ename": "AttributeError",
          "evalue": "'tuple' object has no attribute 'append'",
          "traceback": [
            "\u001b[0;31m---------------------------------------------------------------------------\u001b[0m",
            "\u001b[0;31mAttributeError\u001b[0m                            Traceback (most recent call last)",
            "\u001b[0;32m<ipython-input-3-cb20f3d4ba7c>\u001b[0m in \u001b[0;36m<cell line: 0>\u001b[0;34m()\u001b[0m\n\u001b[1;32m      1\u001b[0m \u001b[0;31m# example of immutable objects in python\u001b[0m\u001b[0;34m\u001b[0m\u001b[0;34m\u001b[0m\u001b[0m\n\u001b[1;32m      2\u001b[0m \u001b[0mt\u001b[0m \u001b[0;34m=\u001b[0m \u001b[0;34m(\u001b[0m\u001b[0;36m1\u001b[0m\u001b[0;34m,\u001b[0m\u001b[0;36m2\u001b[0m\u001b[0;34m,\u001b[0m\u001b[0;36m3\u001b[0m\u001b[0;34m,\u001b[0m\u001b[0;36m4\u001b[0m\u001b[0;34m,\u001b[0m\u001b[0;36m5\u001b[0m\u001b[0;34m)\u001b[0m\u001b[0;34m\u001b[0m\u001b[0;34m\u001b[0m\u001b[0m\n\u001b[0;32m----> 3\u001b[0;31m \u001b[0mt\u001b[0m\u001b[0;34m.\u001b[0m\u001b[0mappend\u001b[0m\u001b[0;34m(\u001b[0m\u001b[0;36m6\u001b[0m\u001b[0;34m)\u001b[0m\u001b[0;34m\u001b[0m\u001b[0;34m\u001b[0m\u001b[0m\n\u001b[0m\u001b[1;32m      4\u001b[0m \u001b[0mprint\u001b[0m\u001b[0;34m(\u001b[0m\u001b[0mt\u001b[0m\u001b[0;34m)\u001b[0m\u001b[0;34m\u001b[0m\u001b[0;34m\u001b[0m\u001b[0m\n",
            "\u001b[0;31mAttributeError\u001b[0m: 'tuple' object has no attribute 'append'"
          ]
        }
      ]
    },
    {
      "cell_type": "markdown",
      "source": [
        "# Answer 4\n",
        "\n",
        "There are various types of opeartors in python lets discuss them in detail-:\n",
        "\n",
        "\n",
        "1.   Arithmetic Operators-: Used for basic mathematical operations such as Addition, Subtraction, Multiplication, Division\n",
        "\n",
        "2.  Assignment Operators-: Used to assign values to variables.\n",
        "\n",
        "3. Comparison or Relational Operators-: Used to compare values. Return True or False.\n",
        "\n",
        "4. Logical Operators-: Used to combine conditional statements.\n",
        "\n",
        "5. Membership Operators-: Check for membership in a sequence like list, string, etc.\n",
        "\n",
        "\n",
        "\n"
      ],
      "metadata": {
        "id": "QktQuXsO5V1s"
      }
    },
    {
      "cell_type": "code",
      "source": [
        "# example of arithmetic opeartor\n",
        "a = 20\n",
        "b = 10\n",
        "print(a+b) # add\n",
        "print(a-b) # subtract\n",
        "print(a*b) # multiply\n",
        "print(a/b) # division\n",
        "print(a%b) # modulus\n"
      ],
      "metadata": {
        "colab": {
          "base_uri": "https://localhost:8080/"
        },
        "id": "C78Lqfxv7aLJ",
        "outputId": "a6a5a202-1d2c-49de-bee0-10fbdc1a223a"
      },
      "execution_count": 7,
      "outputs": [
        {
          "output_type": "stream",
          "name": "stdout",
          "text": [
            "30\n",
            "10\n",
            "200\n",
            "2.0\n",
            "0\n"
          ]
        }
      ]
    },
    {
      "cell_type": "code",
      "source": [
        "# example of Assignment Operators\n",
        "x = 5\t# assign the value 5 to x\n",
        "x *= 2\t # x= x*2\n",
        "print(x)\n"
      ],
      "metadata": {
        "colab": {
          "base_uri": "https://localhost:8080/"
        },
        "id": "DRNrDOmh8wrJ",
        "outputId": "31065b78-fffe-4a9f-dea9-3344e0c51be3"
      },
      "execution_count": 10,
      "outputs": [
        {
          "output_type": "stream",
          "name": "stdout",
          "text": [
            "10\n"
          ]
        }
      ]
    },
    {
      "cell_type": "code",
      "source": [
        "# example of relational Operators\n",
        "a = 10\n",
        "b = 20\n",
        "print(a==b) #equal to\n",
        "print(a!=b) # not equal to\n",
        "print(a>b) # Greater than\n",
        "print(a<b) # less than\n",
        "print(a>=b) # Greater or equal\n",
        "print(a<=b) # less or equal"
      ],
      "metadata": {
        "colab": {
          "base_uri": "https://localhost:8080/"
        },
        "id": "9Mg3kdvu9xkZ",
        "outputId": "d0fc4a45-e4cd-4c97-ac9f-617409b5ac9f"
      },
      "execution_count": 12,
      "outputs": [
        {
          "output_type": "stream",
          "name": "stdout",
          "text": [
            "False\n",
            "True\n",
            "False\n",
            "True\n",
            "False\n",
            "True\n"
          ]
        }
      ]
    },
    {
      "cell_type": "code",
      "source": [
        "# example of logical opreator\n",
        "x = 7\n",
        "print(x>5 and x<10) # return true when both both conditions are true\n",
        "print(x>5 or x<10) # return true when any one of them is true\n",
        "print(not(x>5)) # not will reverse the result\n",
        "\n"
      ],
      "metadata": {
        "colab": {
          "base_uri": "https://localhost:8080/"
        },
        "id": "2Vy4wX7V-4B4",
        "outputId": "92361ba2-544b-4197-f0c2-29838f89e910"
      },
      "execution_count": 17,
      "outputs": [
        {
          "output_type": "stream",
          "name": "stdout",
          "text": [
            "True\n",
            "True\n",
            "False\n"
          ]
        }
      ]
    },
    {
      "cell_type": "code",
      "source": [
        "# example of Membership Operators\n",
        "name = \"saurabh sharma\"\n",
        "print('a' in name) # true if value is present\n",
        "print('a' not in name) # true if not present"
      ],
      "metadata": {
        "colab": {
          "base_uri": "https://localhost:8080/"
        },
        "id": "TCp3ROyTAr5L",
        "outputId": "9654ec8e-3799-42c6-d2bb-b1ee37c94f9e"
      },
      "execution_count": 20,
      "outputs": [
        {
          "output_type": "stream",
          "name": "stdout",
          "text": [
            "True\n",
            "False\n"
          ]
        }
      ]
    },
    {
      "cell_type": "markdown",
      "source": [
        "# Answer 5\n",
        "\n",
        "Type casting means converting the data type of a value or variable into another data type. This is useful when you need to convert between types like int, float, str, etc., to perform certain operations or meet a function requirements.\n",
        "\n",
        "There are two types:\n",
        "\n",
        "1. Implicit Type Casting-:\n",
        "Python automatically converts one data type to another when needed.\n",
        "\n",
        "2. Explicit Type Casting-:\n",
        "You manually convert the type using functions like int, float, str, etc.\n",
        "\n"
      ],
      "metadata": {
        "id": "_0JAYBqJBsqk"
      }
    },
    {
      "cell_type": "code",
      "source": [
        "# example of implicit type casting\n",
        "a = 5 # int\n",
        "b = 2.0 # float\n",
        "c = a + b # coverts into float automatically\n",
        "print(c)\n",
        "print(type(c))"
      ],
      "metadata": {
        "colab": {
          "base_uri": "https://localhost:8080/"
        },
        "id": "NpPPUOlWC66S",
        "outputId": "639a2d38-a0a5-4a8c-b41a-9f2c93a6c424"
      },
      "execution_count": 22,
      "outputs": [
        {
          "output_type": "stream",
          "name": "stdout",
          "text": [
            "7.0\n",
            "<class 'float'>\n"
          ]
        }
      ]
    },
    {
      "cell_type": "code",
      "source": [
        "# example of Explicit Type Casting\n",
        "# convert string into int\n",
        "num = \"100\"\n",
        "print(type(num))\n",
        "num2 = int(num) # convert into int\n",
        "print(num2 + 50)\n",
        "print(type(num2))"
      ],
      "metadata": {
        "colab": {
          "base_uri": "https://localhost:8080/"
        },
        "id": "Q3AEwRBJDzir",
        "outputId": "4f312f1c-b059-4990-e0c4-1a000779caef"
      },
      "execution_count": 26,
      "outputs": [
        {
          "output_type": "stream",
          "name": "stdout",
          "text": [
            "<class 'str'>\n",
            "150\n",
            "<class 'int'>\n"
          ]
        }
      ]
    },
    {
      "cell_type": "code",
      "source": [
        "# convert float into int\n",
        "pi = 3.14\n",
        "print(type(pi))\n",
        "int_pi = int(pi) # convert float into int\n",
        "print(int_pi)\n",
        "print(type(int_pi))"
      ],
      "metadata": {
        "colab": {
          "base_uri": "https://localhost:8080/"
        },
        "id": "VGgOfYhIEyrp",
        "outputId": "771a40b3-c6e2-4bd9-ae63-8a77e2f13b8c"
      },
      "execution_count": 28,
      "outputs": [
        {
          "output_type": "stream",
          "name": "stdout",
          "text": [
            "<class 'float'>\n",
            "3\n",
            "<class 'int'>\n"
          ]
        }
      ]
    },
    {
      "cell_type": "markdown",
      "source": [
        "# Answer 6\n",
        "\n",
        "Conditional statements execute different blocks of code depending on whether a condition is True or False. There are some types of conditional statements in python which are as follows-:\n",
        "\n",
        "* if\n",
        "* else if\n",
        "* else"
      ],
      "metadata": {
        "id": "2bBHl9MuFQwF"
      }
    },
    {
      "cell_type": "code",
      "source": [
        "# example of if and else statement\n",
        "age = int(input(\"enter your age\\n\"))\n",
        "if age>=18: # if age is 18 or more than 18 then eligible\n",
        "   print(\"you are eligible for voting\")\n",
        "else: # if not less than 18 then not eligible\n",
        "     print(\"you are not eligible for voting\")"
      ],
      "metadata": {
        "colab": {
          "base_uri": "https://localhost:8080/"
        },
        "id": "KHvFdaZ_Gv66",
        "outputId": "4e265348-d8fc-4c4e-d43d-70be1244187b"
      },
      "execution_count": 34,
      "outputs": [
        {
          "output_type": "stream",
          "name": "stdout",
          "text": [
            "enter your age\n",
            "15\n",
            "you are not eligible for voting\n"
          ]
        }
      ]
    },
    {
      "cell_type": "code",
      "source": [
        "# example of else if\n",
        "score = 85\n",
        "\n",
        "if score >= 90:\n",
        "    print(\"Grade A\")\n",
        "elif score >= 75: # \tChecks another condition if the first is False\n",
        "    print(\"Grade B\")\n",
        "else:\n",
        "    print(\"Grade C\")"
      ],
      "metadata": {
        "colab": {
          "base_uri": "https://localhost:8080/"
        },
        "id": "_k9Sc2YYHHfb",
        "outputId": "eb23cfc6-24ad-4e4a-ec0d-dc0205b9fb51"
      },
      "execution_count": 35,
      "outputs": [
        {
          "output_type": "stream",
          "name": "stdout",
          "text": [
            "Grade B\n"
          ]
        }
      ]
    },
    {
      "cell_type": "markdown",
      "source": [
        "# Answer 7\n",
        "In Python, loops are control flow structures that allow you to execute a block of code repeatedly. There are primarily two main types of loops-:\n",
        "\n",
        "\n",
        "*   For loop\n",
        "*   While loop\n",
        "\n"
      ],
      "metadata": {
        "id": "2-N8eVQpIgr1"
      }
    },
    {
      "cell_type": "code",
      "source": [
        "# example of for loop in python\n",
        "#  for loops in Python are designed for iterating over a sequence\n",
        "#  (such as a list, tuple, string, dictionary, set) or other iterable objects.\n",
        "# They execute a block of code for each item in the sequence.\n",
        "\n",
        "\n",
        "fruits = [\"apple\", \"banana\", \"cherry\"] # for loop on lists\n",
        "for fruit in fruits:\n",
        "    print(fruit)"
      ],
      "metadata": {
        "colab": {
          "base_uri": "https://localhost:8080/"
        },
        "id": "RR6wfrOtKS1P",
        "outputId": "d421f91d-9f1c-404e-b1b5-8ba8e274ab91"
      },
      "execution_count": 36,
      "outputs": [
        {
          "output_type": "stream",
          "name": "stdout",
          "text": [
            "apple\n",
            "banana\n",
            "cherry\n"
          ]
        }
      ]
    },
    {
      "cell_type": "code",
      "source": [
        " # Use range() to loop a number of times\n",
        "for i in range(5):\n",
        "    print(i)"
      ],
      "metadata": {
        "colab": {
          "base_uri": "https://localhost:8080/"
        },
        "id": "GW4koNnpLemr",
        "outputId": "b496ac41-5195-4e3e-fa8f-40fd8bf5bf25"
      },
      "execution_count": 37,
      "outputs": [
        {
          "output_type": "stream",
          "name": "stdout",
          "text": [
            "0\n",
            "1\n",
            "2\n",
            "3\n",
            "4\n"
          ]
        }
      ]
    },
    {
      "cell_type": "code",
      "source": [
        "# while loops in Python execute a block of code as long as a specified condition is True.\n",
        "#They are useful when you don't know in advance how many 1  times you need to iterate\n",
        "# while loop with if\n",
        "i = 1\n",
        "while i < 6:\n",
        "  print(i)\n",
        "  i += 1\n",
        "else:\n",
        "  print(\"i is no longer less than 6\")"
      ],
      "metadata": {
        "colab": {
          "base_uri": "https://localhost:8080/"
        },
        "id": "u833_f8VLzMT",
        "outputId": "9ce0ce6c-07b7-453c-a66b-373e9090bb5c"
      },
      "execution_count": 38,
      "outputs": [
        {
          "output_type": "stream",
          "name": "stdout",
          "text": [
            "1\n",
            "2\n",
            "3\n",
            "4\n",
            "5\n",
            "i is no longer less than 6\n"
          ]
        }
      ]
    },
    {
      "cell_type": "code",
      "source": [
        "# while loop with continue\n",
        "i = 0\n",
        "while i < 6:\n",
        "  i += 1\n",
        "  if i == 3:\n",
        "    continue\n",
        "  print(i)"
      ],
      "metadata": {
        "colab": {
          "base_uri": "https://localhost:8080/"
        },
        "id": "cvgRCjM7NBV_",
        "outputId": "4e81053c-835e-4477-e151-31c5907092d9"
      },
      "execution_count": 39,
      "outputs": [
        {
          "output_type": "stream",
          "name": "stdout",
          "text": [
            "1\n",
            "2\n",
            "4\n",
            "5\n",
            "6\n"
          ]
        }
      ]
    }
  ]
}