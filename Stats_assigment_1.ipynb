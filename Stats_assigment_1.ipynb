{
  "nbformat": 4,
  "nbformat_minor": 0,
  "metadata": {
    "colab": {
      "provenance": []
    },
    "kernelspec": {
      "name": "python3",
      "display_name": "Python 3"
    },
    "language_info": {
      "name": "python"
    }
  },
  "cells": [
    {
      "cell_type": "markdown",
      "source": [
        "# 1. What is statistics, and why is it important\n",
        "\n",
        "statistic is a mathematical science including method of collecting, organizing and analyzing data in such a way that meaningful conclusions can be drawn from them.\n",
        "\n",
        "Statistics is important because we try to find patterns in data and which are helpful for the organisation to improve there progess and there are various uses of statistics-:\n",
        "\n",
        "* weather forecast\n",
        "* sports analysis\n",
        "* e-commerce company"
      ],
      "metadata": {
        "id": "AYMtnheJ0yuO"
      }
    },
    {
      "cell_type": "markdown",
      "source": [
        "#2. What are the two main types of statistics\n",
        "\n",
        "There are two types of statistics which are are-:\n",
        "\n",
        "* Descriptive statistics\n",
        "* Inferential statistics"
      ],
      "metadata": {
        "id": "uhwBD3k42THI"
      }
    },
    {
      "cell_type": "markdown",
      "source": [
        "# 3. What are descriptive statistics\n",
        "\n",
        "Descriptive statistics consist of organizing and summarizing the complete data or population. For example-: all matches score of virat kohli in this entire career and then calculate average.\n",
        "\n",
        "It talks about complete population summarization."
      ],
      "metadata": {
        "id": "Fke8mpKa22FH"
      }
    },
    {
      "cell_type": "markdown",
      "source": [
        "# 4. What is inferential statistics\n",
        "\n",
        "Inferentaial statistics consist of using sample data that has been measured to form conclusion about a population or conclusion made from sample. We use this type when population is large and time and resource constraint.\n",
        "\n",
        "Example-: Average age/weight of population of india"
      ],
      "metadata": {
        "id": "p9vMY2o34GgE"
      }
    },
    {
      "cell_type": "markdown",
      "source": [
        "# 5. What is sampling in statistics\n",
        "\n",
        "In statistics, sampling is the process of selecting a subset of individuals or items from a larger population to study and draw conclusions about the entire population.\n",
        "For example, if you are researching the opinions of students in your university, you could survey a sample of 100 students."
      ],
      "metadata": {
        "id": "E5FiKVD05YSr"
      }
    },
    {
      "cell_type": "markdown",
      "source": [
        "# 6. What are the different types of sampling methods\n",
        "\n",
        "There are four different types of sampling techniques which are as follow-:\n",
        "\n",
        "* simple random sampling\n",
        "* stratifed sampling\n",
        "* cluster sampling\n",
        "* systematic sampling"
      ],
      "metadata": {
        "id": "j6rtdWxW6P86"
      }
    },
    {
      "cell_type": "markdown",
      "source": [
        "# 7. What is the difference between random and non-random sampling\n",
        "\n",
        "**In random sampling**, everyone has an equal chance of being chosen.\n",
        "Let’s say there are 30 kids at a birthday party. The host wants to give a gift to 5 lucky kids.So, they put all 30 kids' names in a bowl, mix them well, and pick 5 names without looking.\n",
        "\n",
        "\n",
        "\n",
        "**In non-random sampling**, not everyone has an equal chance. You choose people on purpose or based on convenience.\n",
        "Example: Asking only the front-row students for their opinion because they’re closer."
      ],
      "metadata": {
        "id": "376B5SIZ7wLh"
      }
    },
    {
      "cell_type": "markdown",
      "source": [
        "# 8. Define and give examples of qualitative and quantitative data\n",
        "\n",
        "**Qualitative data** is that data which is more categorical and not measurable and describes using words and label or categories some example are-: blood group, gender  and this has two types which are-:\n",
        "\n",
        "* nominal\n",
        "* ordinal\n",
        "\n",
        "**Quantitative data** is that data which is numerical and can be measured and some example are-: no of childern, no of mobile phones and no of bank accounts. It has also two types which are\n",
        "\n",
        "* discrete\n",
        "* continous"
      ],
      "metadata": {
        "id": "ll01TOvl-a7v"
      }
    },
    {
      "cell_type": "markdown",
      "source": [
        "# 9. What are the different types of data in statistics\n",
        "\n",
        "There are mainly two types of data which are-:\n",
        "\n",
        "* numerical data or quantitative\n",
        "* categorical data or qualitative\n",
        "\n",
        "1. Quantitative -: It is that type of data which can be measured and it also has two types-: discrete and continous\n",
        "\n",
        "2. Qualitative-: It is a categorical data which cannot be measured and also has two types-: nominal, ordinal"
      ],
      "metadata": {
        "id": "bRDLBmhLA0A-"
      }
    },
    {
      "cell_type": "markdown",
      "source": [
        "# 10. Explain nominal, ordinal, interval, and ratio levels of measurement\n",
        "\n",
        "* Nominal scale data-: It has no order in the data and this is categorical data and some example are-: gender and colour\n",
        "\n",
        "* Ordinal scale data-: In this order and rank has a meaning and differnce can be measured and here are some example -: performance of a student(1st,2,3), salary of  employee(high,medium,low)\n",
        "\n",
        "* Interval scale data-: The rank and order has a meaning and difference can be measured and it does not have a zero starting value compulsory and some example are-: lenght,weight,height,revenue of a company\n",
        "\n",
        "* Ratio scale data-: In this order and rank has a meaning and difference and ratio are measurable and it has a zero starting point complusory"
      ],
      "metadata": {
        "id": "rNBAukedfIcO"
      }
    },
    {
      "cell_type": "markdown",
      "source": [
        "# 11. What is the measure of central tendency\n",
        "\n",
        "Measure central tendency represents center point of the dataset using -:\n",
        "* mean\n",
        "* median\n",
        "* mode"
      ],
      "metadata": {
        "id": "5b382V-phm3I"
      }
    },
    {
      "cell_type": "markdown",
      "source": [
        "# 12.  Define mean, median, and mode\n",
        "\n",
        "1. mean-: average arithematic mid value of data\n",
        "\n",
        "2. median-: physical mid point of the data\n",
        "\n",
        "3. mode-: maximum frequency of number or number repeated highest number of times"
      ],
      "metadata": {
        "id": "Oz0h6r8vjpBd"
      }
    },
    {
      "cell_type": "markdown",
      "source": [
        "# 13. What is the significance of the measure of central tendency\n",
        "\n",
        "The measure of central tendency is important because it gives us a single summary value that represents the center or typical value of a dataset. This helps make sense of large amounts of data quickly and easily.\n",
        "\n",
        "* Simplifies Data-: Instead of looking at hundreds of numbers, you can understand the dataset with just one number (mean, median, or mode).\n",
        "\n",
        "Example: Average income gives a quick idea of economic status.\n",
        "\n",
        "* Helps Compare Groups-: You can compare different datasets using their central values.\n",
        "\n",
        "Example: Comparing average test scores between two schools.\n",
        "\n",
        "* Helps Spot Outliers and Skewed Data-: Comparing the mean and median can reveal if data is skewed or has outliers.\n",
        "\n",
        "Example: A big difference between mean and median suggests extreme values.\n",
        "\n"
      ],
      "metadata": {
        "id": "KzHOvrYtka1f"
      }
    },
    {
      "cell_type": "markdown",
      "source": [
        "# 14. What is variance, and how is it calculated\n",
        "\n",
        "Variance is a measure that quantifies the spread or dispersion of data points in a data set around its mean or average value"
      ],
      "metadata": {
        "id": "yr8p0dNXlXlH"
      }
    },
    {
      "cell_type": "code",
      "source": [
        "# calcuating the variance\n",
        "import numpy as np\n",
        "data = [1,2,3,4,5,7,8,9,10]\n",
        "print(np.var(data))"
      ],
      "metadata": {
        "colab": {
          "base_uri": "https://localhost:8080/"
        },
        "id": "CgXqQgLWmJQ0",
        "outputId": "e25401c4-26ea-4bbd-be02-2194fa5b71ce"
      },
      "execution_count": null,
      "outputs": [
        {
          "output_type": "stream",
          "name": "stdout",
          "text": [
            "9.135802469135804\n"
          ]
        }
      ]
    },
    {
      "cell_type": "markdown",
      "source": [
        "# 15.  What is standard deviation, and why is it important\n",
        "\n",
        "It is a measure of how spread out numbers are or in other way we can say sqaure root of variance is called as standard deviation.\n",
        "\n",
        "Importance-:\n",
        "\n",
        "* Essential for Normal Distribution\n",
        "\n",
        "68% of data lies within 1 standard deviation of the mean\n",
        "\n",
        "95% within 2 standard deviations\n",
        "\n",
        "99.7% within 3 standard deviations\n",
        "\n",
        "* Helps Compare Datasets-: Two datasets might have the same mean but very different spreads. Standard deviation shows which one is more consistent.\n",
        "\n"
      ],
      "metadata": {
        "id": "6-0cY8wBmflJ"
      }
    },
    {
      "cell_type": "markdown",
      "source": [
        "# 16. Define and explain the term range in statistics\n",
        "\n",
        "In statistics, the range is the simplest measure of dispersion.\n",
        "It shows the difference between the largest and smallest values in a dataset.\n",
        "\n",
        "Formula of range = maximum value - smallest value\n",
        "\n",
        "example-: Data: 5, 8, 12, 20, 25\n",
        "\n",
        "Max = 25\n",
        "\n",
        "Min = 5\n",
        "\n",
        "Range = 25−5 = 20"
      ],
      "metadata": {
        "id": "W1gwnU_XnifN"
      }
    },
    {
      "cell_type": "markdown",
      "source": [
        "# 17.  What is the difference between variance and standard deviation\n",
        "\n",
        "Variance and standard deviation both tell us how spread out the numbers in a dataset are. The variance measures the average of the squared differences from the mean. It gives us an idea of how far the numbers are from the center, but its unit is squared, which can make it hard to understand.\n",
        "\n",
        "On the other hand, standard deviation is just the square root of the variance. It brings the value back to the original unit, so it's easier to understand and explain. For example, if you’re measuring heights in centimeters, variance is in cm², but standard deviation is in cm—which makes more sense in real life.\n",
        "\n",
        "In short, variance is good for calculations, while standard deviation is better for understanding how much the data varies."
      ],
      "metadata": {
        "id": "f7VXqvfAoNWy"
      }
    },
    {
      "cell_type": "markdown",
      "source": [
        "# 18. What is skewness in a dataset\n",
        "\n",
        "Skewness is a measure of how asymmetrical or uneven a dataset is around its mean (average).\n",
        "\n",
        "It tells us whether the data is balanced or if it leans more toward one side (left or right).\n",
        "\n"
      ],
      "metadata": {
        "id": "pxg9xaA6pOj-"
      }
    },
    {
      "cell_type": "markdown",
      "source": [
        "# 19. What does it mean if a dataset is positively or negatively skewed\n",
        "\n",
        "* so when the data is **positively skewed** it leans toward the right side or most of distribution lie on the right side\n",
        "\n",
        "* so when data is **negatively skewed** it leans towards the left side and most of distribution lie on the left side"
      ],
      "metadata": {
        "id": "I4n7BYxTpmzU"
      }
    },
    {
      "cell_type": "markdown",
      "source": [
        "# 20. Define and explain kurtosis\n",
        "\n",
        "Kurtosis is a measure that tells us how peaked or flat a distribution is compared to a normal (bell-shaped) distribution.\n",
        "It helps us understand how much of the data is in the tails (extremely high or low values) versus the center.\n",
        "\n",
        "\n",
        "Kurtosis tells us whether the data is mostly average, or if there are a lot of unusual/extreme values.\n",
        "A high kurtosis means more surprises in the data. A low kurtosis means the data is more flat and consistent."
      ],
      "metadata": {
        "id": "Nf-c3w1uqk73"
      }
    },
    {
      "cell_type": "markdown",
      "source": [
        "# 21. What is the purpose of covariance\n",
        "\n",
        "Covariance is a measure how two variables change together in positive and negative covariance\n",
        "\n",
        "* Increase or decrease together (positive relationship) or direct relationship\n",
        "\n",
        "* Move in opposite directions (negative relationship), or indirect relationship\n",
        "\n",
        "* Have no clear relationship at all.\n",
        "\n"
      ],
      "metadata": {
        "id": "SZ7WIP5FrH0F"
      }
    },
    {
      "cell_type": "markdown",
      "source": [
        "# 22. What does correlation measure in statistics\n",
        "\n",
        "A number between -1 and 1 that measures the strength and direction of linear relationship between two variables\n",
        "\n",
        "* Helps identify patterns or trends in data\n",
        "\n",
        "* Useful in prediction models\n",
        "\n",
        "* Common in business, science, finance, and psychology"
      ],
      "metadata": {
        "id": "Fo89elE5r_tF"
      }
    },
    {
      "cell_type": "markdown",
      "source": [
        "# 23. What is the difference between covariance and correlation\n",
        "\n",
        "Covariance tells you whether two variables move together, but not how much or how strongly.\n",
        "\n",
        "Correlation tells you how strong and in what direction the relationship is — and gives you a number that’s easy to compare.\n",
        "\n"
      ],
      "metadata": {
        "id": "zAAZB9RNs5uQ"
      }
    },
    {
      "cell_type": "markdown",
      "source": [
        "# 24. What are some real-world applications of statistics?\n",
        "\n",
        "1. Business and Marketing-:\n",
        "* Customer behavior analysis\n",
        "* Sales forecasting\n",
        "* Market research and surveys\n",
        "\n",
        "\n",
        "Example: Amazon uses statistics to recommend products based on purchase history.\n",
        "\n",
        "2. Healthcare and Medicine-:\n",
        "* Drug testing and clinical trials\n",
        "* Disease outbreak prediction\n",
        "* Patient recovery analysis\n",
        "\n",
        "Example: Hospitals use statistics to track COVID-19 infection and recovery rates.\n",
        "\n",
        "3. Education-:\n",
        "* Student performance tracking\n",
        "* Standardized test analysis\n",
        "\n",
        "Example: Schools analyze exam results to improve teaching methods.\n",
        "\n",
        "\n",
        "4. Weather and Environment-:\n",
        "* Weather forecasting\n",
        "\n",
        "* Climate change studies\n",
        "\n",
        "* Pollution level monitoring\n",
        "\n",
        "Example: Meteorologists use statistics to predict storms and rainfall.\n",
        "\n",
        "\n",
        "7. Sports and Performance-:\n",
        "* Player performance analysis\n",
        "\n",
        "* Game strategy and improvement\n",
        "\n",
        "* Team rankings and predictions\n",
        "\n",
        "Example: Coaches use stats to choose players and improve team tactics.\n",
        "\n"
      ],
      "metadata": {
        "id": "IGxCxPKRtaaP"
      }
    },
    {
      "cell_type": "markdown",
      "source": [
        "# **Practical**"
      ],
      "metadata": {
        "id": "gvYvZxwQudav"
      }
    },
    {
      "cell_type": "markdown",
      "source": [
        "# 1. How do you calculate the mean, median, and mode of a dataset"
      ],
      "metadata": {
        "id": "W17LzEy2ujYo"
      }
    },
    {
      "cell_type": "code",
      "source": [
        "import statistics as stat\n",
        "data = [4, 7, 8, 10, 11, 4]\n",
        "mean = stat.mean(data)\n",
        "median = stat.median(data)\n",
        "mode = stat.mode(data)\n",
        "print(\"mean = \",mean)\n",
        "print(\"median = \",median)\n",
        "print(\"mode = \",mode)\n"
      ],
      "metadata": {
        "colab": {
          "base_uri": "https://localhost:8080/"
        },
        "id": "HiyDDyxGvGlg",
        "outputId": "4a0e2d14-fee1-4ff3-b33c-0e2839abc743"
      },
      "execution_count": null,
      "outputs": [
        {
          "output_type": "stream",
          "name": "stdout",
          "text": [
            "mean =  7.333333333333333\n",
            "median =  7.5\n",
            "mode =  4\n"
          ]
        }
      ]
    },
    {
      "cell_type": "markdown",
      "source": [
        "# 2. Write a Python program to compute the variance and standard deviation of a dataset"
      ],
      "metadata": {
        "id": "SFeZP0UkxDmS"
      }
    },
    {
      "cell_type": "code",
      "source": [
        "import numpy as np\n",
        "data = [10,12,7,5,3,13,15]\n",
        "variance  = np.var(data)\n",
        "std = np.std(data)\n",
        "print(\"variance = \",variance)\n",
        "print(\"standard deviation = \",std)\n"
      ],
      "metadata": {
        "colab": {
          "base_uri": "https://localhost:8080/"
        },
        "id": "_VYS14L-xKDu",
        "outputId": "b91a4968-f648-433a-8e84-b1eda4eceb49"
      },
      "execution_count": null,
      "outputs": [
        {
          "output_type": "stream",
          "name": "stdout",
          "text": [
            "variance =  16.775510204081634\n",
            "standard deviation =  4.095791767666129\n"
          ]
        }
      ]
    },
    {
      "cell_type": "markdown",
      "source": [
        "# 3. Create a dataset and classify it into nominal, ordinal, interval, and ratio types"
      ],
      "metadata": {
        "id": "v7OkqRgxyIA-"
      }
    },
    {
      "cell_type": "code",
      "source": [
        "import pandas as pd\n",
        "data = {\n",
        "    'Name': ['Alice', 'Bob', 'Charlie', 'Diana'],                 # Nominal\n",
        "    'Education Level': ['High School', 'Bachelor', 'Master', 'PhD'],  # Ordinal\n",
        "    'Temperature (°C)': [22, 24, 23, 25],                         # Interval\n",
        "    'Age': [25, 30, 35, 40]                                       # Ratio\n",
        "}\n",
        "\n",
        "df = pd.DataFrame(data)\n",
        "print(\"Dataset:\\n\", df)\n",
        "\n",
        "types = {\n",
        "    'Name': 'Nominal',\n",
        "    'Education Level': 'Ordinal',\n",
        "    'Temperature (°C)': 'Interval',\n",
        "    'Age': 'Ratio'\n",
        "}\n",
        "\n",
        "print(\"\\nData Type Classification:\")\n",
        "for column, type_name in types.items():\n",
        "    print(f\"{column}: {type_name}\")"
      ],
      "metadata": {
        "id": "Ko1k56wwyNLb",
        "colab": {
          "base_uri": "https://localhost:8080/"
        },
        "outputId": "dfd63701-0710-4136-9d59-1d42df6baf44"
      },
      "execution_count": 1,
      "outputs": [
        {
          "output_type": "stream",
          "name": "stdout",
          "text": [
            "Dataset:\n",
            "       Name Education Level  Temperature (°C)  Age\n",
            "0    Alice     High School                22   25\n",
            "1      Bob        Bachelor                24   30\n",
            "2  Charlie          Master                23   35\n",
            "3    Diana             PhD                25   40\n",
            "\n",
            "Data Type Classification:\n",
            "Name: Nominal\n",
            "Education Level: Ordinal\n",
            "Temperature (°C): Interval\n",
            "Age: Ratio\n"
          ]
        }
      ]
    },
    {
      "cell_type": "markdown",
      "source": [
        "# 4. Implement sampling techniques like random sampling and stratified sampling"
      ],
      "metadata": {
        "id": "sGruZXUxzGCZ"
      }
    },
    {
      "cell_type": "code",
      "source": [
        "import pandas as pd\n",
        "from sklearn.model_selection import train_test_split\n",
        "\n",
        "data = {\n",
        "    'Name': ['Alice', 'Bob', 'Charlie', 'Diana', 'Eva', 'Frank', 'Grace', 'Henry'],\n",
        "    'Gender': ['F', 'M', 'M', 'F', 'F', 'M', 'F', 'M'],\n",
        "    'Score': [85, 90, 78, 92, 88, 76, 95, 89]\n",
        "}\n",
        "\n",
        "df = pd.DataFrame(data)\n",
        "print(\"Original Dataset:\\n\", df)\n",
        "random_sample = df.sample(n=4, random_state=1)\n",
        "print(\"\\n🔹 Random Sample (4 rows):\\n\", random_sample)\n",
        "stratified_sample, _ = train_test_split(df, test_size=0.5, stratify=df['Gender'], random_state=1)\n",
        "\n",
        "print(\"\\n🔹 Stratified Sample by Gender:\\n\", stratified_sample)"
      ],
      "metadata": {
        "id": "xSVhQGm3zIVn",
        "colab": {
          "base_uri": "https://localhost:8080/"
        },
        "outputId": "91c3f6b6-a368-4a5f-c754-b1215b9950c1"
      },
      "execution_count": 2,
      "outputs": [
        {
          "output_type": "stream",
          "name": "stdout",
          "text": [
            "Original Dataset:\n",
            "       Name Gender  Score\n",
            "0    Alice      F     85\n",
            "1      Bob      M     90\n",
            "2  Charlie      M     78\n",
            "3    Diana      F     92\n",
            "4      Eva      F     88\n",
            "5    Frank      M     76\n",
            "6    Grace      F     95\n",
            "7    Henry      M     89\n",
            "\n",
            "🔹 Random Sample (4 rows):\n",
            "       Name Gender  Score\n",
            "7    Henry      M     89\n",
            "2  Charlie      M     78\n",
            "1      Bob      M     90\n",
            "6    Grace      F     95\n",
            "\n",
            "🔹 Stratified Sample by Gender:\n",
            "     Name Gender  Score\n",
            "5  Frank      M     76\n",
            "1    Bob      M     90\n",
            "6  Grace      F     95\n",
            "4    Eva      F     88\n"
          ]
        }
      ]
    },
    {
      "cell_type": "markdown",
      "source": [
        "# 5. Write a Python function to calculate the range of a dataset"
      ],
      "metadata": {
        "id": "TxYIU1I9zI2v"
      }
    },
    {
      "cell_type": "code",
      "source": [
        "data = [10,30,5,7,8,12,14]\n",
        "range = max(data) - min(data)\n",
        "print(\"range = \",range)"
      ],
      "metadata": {
        "colab": {
          "base_uri": "https://localhost:8080/"
        },
        "id": "XvEfenAmzNK1",
        "outputId": "c3f2083b-14cc-4442-cf66-5ec6e7e0c74f"
      },
      "execution_count": null,
      "outputs": [
        {
          "output_type": "stream",
          "name": "stdout",
          "text": [
            "range =  25\n"
          ]
        }
      ]
    },
    {
      "cell_type": "markdown",
      "source": [
        "# 6. Create a dataset and plot its histogram to visualize skewness"
      ],
      "metadata": {
        "id": "dAsCXpCnzuuK"
      }
    },
    {
      "cell_type": "code",
      "source": [
        "import matplotlib.pyplot as plt\n",
        "data = [1, 2, 2, 2, 3, 3, 4, 5, 10, 15, 20]\n",
        "plt.hist(data)\n",
        "plt.xlabel(\"values\")\n",
        "plt.ylabel(\"frequency\")\n",
        "plt.show()\n",
        "\n",
        "# so here data is skewed to the right side so it is postively skewed data\n"
      ],
      "metadata": {
        "colab": {
          "base_uri": "https://localhost:8080/",
          "height": 449
        },
        "id": "acJEP5bvz0Wz",
        "outputId": "b151dbd3-6b3b-4a62-fbd8-ff630867935f"
      },
      "execution_count": null,
      "outputs": [
        {
          "output_type": "display_data",
          "data": {
            "text/plain": [
              "<Figure size 640x480 with 1 Axes>"
            ],
            "image/png": "[encoded data removed]"
          },
          "metadata": {}
        }
      ]
    },
    {
      "cell_type": "markdown",
      "source": [
        "# 7. Calculate skewness and kurtosis of a dataset using Python libraries"
      ],
      "metadata": {
        "id": "7rWmte3lgV3q"
      }
    },
    {
      "cell_type": "code",
      "source": [
        "import scipy.stats as stats\n",
        "data = [1, 2, 2, 2, 3, 3, 4, 5, 10, 15, 20]\n",
        "skewness = stats.skew(data)\n",
        "kurtosis = stats.kurtosis(data)\n",
        "print(\"skewness = \",skewness)\n",
        "print(\"kurtosis = \",kurtosis)"
      ],
      "metadata": {
        "colab": {
          "base_uri": "https://localhost:8080/"
        },
        "id": "fnGaIBzHgejO",
        "outputId": "e9aebd25-942f-429f-ded5-356409f4be5a"
      },
      "execution_count": null,
      "outputs": [
        {
          "output_type": "stream",
          "name": "stdout",
          "text": [
            "skewness =  1.3193372360512639\n",
            "kurtosis =  0.3219056105571614\n"
          ]
        }
      ]
    },
    {
      "cell_type": "markdown",
      "source": [
        "# 8. Generate a dataset and demonstrate positive and negative skewness\n"
      ],
      "metadata": {
        "id": "YjYC7Mttgmne"
      }
    },
    {
      "cell_type": "code",
      "source": [
        "# postive skewness\n",
        "data = [1, 2, 2, 2, 3, 3, 4, 5, 10, 15, 20]\n",
        "plt.hist(data)\n",
        "plt.xlabel(\"values\")\n",
        "plt.ylabel(\"frequency\")\n",
        "plt.show()"
      ],
      "metadata": {
        "colab": {
          "base_uri": "https://localhost:8080/",
          "height": 449
        },
        "id": "WbTXnU_bgtrK",
        "outputId": "389c6097-4dff-4666-fd15-0ad95757e5f1"
      },
      "execution_count": null,
      "outputs": [
        {
          "output_type": "display_data",
          "data": {
            "text/plain": [
              "<Figure size 640x480 with 1 Axes>"
            ],
            "image/png": "[encoded data removed]"
          },
          "metadata": {}
        }
      ]
    },
    {
      "cell_type": "markdown",
      "source": [
        "# 9. Write a Python script to calculate covariance between two datasets"
      ],
      "metadata": {
        "id": "of01NGZaiNpj"
      }
    },
    {
      "cell_type": "code",
      "source": [
        "import numpy as np\n",
        "import matplotlib.pyplot as plt\n",
        "x = [2, 4, 6, 8, 10]\n",
        "y = [1, 3, 2, 5, 7]\n",
        "covariance = np.cov(x,y)\n",
        "print(\"Covariance between X and Y:\", covariance[0][1])\n",
        "plt.scatter(x,y,color = 'red')\n",
        "plt.xlabel(\"X\")\n",
        "plt.ylabel(\"Y\")\n",
        "plt.show()"
      ],
      "metadata": {
        "colab": {
          "base_uri": "https://localhost:8080/",
          "height": 466
        },
        "id": "Foz0e421iVCp",
        "outputId": "8c028776-b8e1-4c1a-87b0-ad83d6a13422"
      },
      "execution_count": null,
      "outputs": [
        {
          "output_type": "stream",
          "name": "stdout",
          "text": [
            "Covariance between X and Y: 7.0\n"
          ]
        },
        {
          "output_type": "display_data",
          "data": {
            "text/plain": [
              "<Figure size 640x480 with 1 Axes>"
            ],
            "image/png": "[encoded data removed]"
          },
          "metadata": {}
        }
      ]
    },
    {
      "cell_type": "markdown",
      "source": [
        "# 10. Write a Python script to calculate the correlation coefficient between two datasets"
      ],
      "metadata": {
        "id": "u0UKkZoBk1O_"
      }
    },
    {
      "cell_type": "code",
      "source": [
        "x = [2,5,7,8,10]\n",
        "y = [4,7,9,3,11]\n",
        "correlation = np.corrcoef(x,y)\n",
        "print(\"correlation between X and Y:\", correlation[0][1])"
      ],
      "metadata": {
        "colab": {
          "base_uri": "https://localhost:8080/"
        },
        "id": "B9UsK4Mok8Tv",
        "outputId": "fb89c88f-00d5-41d5-b79d-5e5b00a9c58c"
      },
      "execution_count": null,
      "outputs": [
        {
          "output_type": "stream",
          "name": "stdout",
          "text": [
            "correlation between X and Y: 0.5487032611687342\n"
          ]
        }
      ]
    },
    {
      "cell_type": "markdown",
      "source": [
        "# 11. Create a scatter plot to visualize the relationship between two variables"
      ],
      "metadata": {
        "id": "VdbFYg1Ylqjj"
      }
    },
    {
      "cell_type": "code",
      "source": [
        "import numpy as np\n",
        "import matplotlib.pyplot as plt\n",
        "\n",
        "X = [1, 2, 3, 4, 5, 6, 7, 8, 9, 10]\n",
        "Y = [2, 4, 4, 6, 8, 9, 10, 12, 13, 15]\n",
        "\n",
        "plt.figure(figsize=(8, 5))\n",
        "plt.scatter(X, Y, color='blue', label='Data Points')\n",
        "\n",
        "plt.title(\"Scatter Plot Showing Relationship Between Two Variables\")\n",
        "plt.xlabel(\"X values\")\n",
        "plt.ylabel(\"Y values\")\n",
        "\n",
        "plt.legend()\n",
        "plt.grid(True)\n",
        "\n",
        "plt.show()"
      ],
      "metadata": {
        "colab": {
          "base_uri": "https://localhost:8080/",
          "height": 487
        },
        "id": "0QD3yssSlwGF",
        "outputId": "f124b370-d07f-4f07-828a-85daa427f691"
      },
      "execution_count": null,
      "outputs": [
        {
          "output_type": "display_data",
          "data": {
            "text/plain": [
              "<Figure size 800x500 with 1 Axes>"
            ],
            "image/png": "[encoded data removed]"
          },
          "metadata": {}
        }
      ]
    },
    {
      "cell_type": "markdown",
      "source": [
        "# 12. implement and compare simple random sampling and systematic sampling"
      ],
      "metadata": {
        "id": "z1QpVK-ZnoLl"
      }
    },
    {
      "cell_type": "code",
      "source": [
        "import pandas as pd\n",
        "import numpy as np\n",
        "\n",
        "data = {\n",
        "    'ID': range(1, 11),\n",
        "    'Name': ['A', 'B', 'C', 'D', 'E', 'F', 'G', 'H', 'I', 'J']\n",
        "}\n",
        "\n",
        "df = pd.DataFrame(data)\n",
        "print(\"🔹 Original Dataset:\\n\", df)\n",
        "random_sample = df.sample(n=4, random_state=42)\n",
        "print(\"\\n🔹 Simple Random Sample (4 rows):\\n\", random_sample)\n",
        "def systematic_sampling(df, step):\n",
        "    start = np.random.randint(0, step)\n",
        "    indices = np.arange(start, len(df), step)\n",
        "    return df.iloc[indices]\n",
        "\n",
        "systematic_sample = systematic_sampling(df, step=2)\n",
        "print(\"\\n🔹 Systematic Sample (every 2nd row):\\n\", systematic_sample)"
      ],
      "metadata": {
        "id": "396kh05_nvSK",
        "colab": {
          "base_uri": "https://localhost:8080/"
        },
        "outputId": "e5e23394-5af4-4cf5-9294-09a29a1bec80"
      },
      "execution_count": 3,
      "outputs": [
        {
          "output_type": "stream",
          "name": "stdout",
          "text": [
            "🔹 Original Dataset:\n",
            "    ID Name\n",
            "0   1    A\n",
            "1   2    B\n",
            "2   3    C\n",
            "3   4    D\n",
            "4   5    E\n",
            "5   6    F\n",
            "6   7    G\n",
            "7   8    H\n",
            "8   9    I\n",
            "9  10    J\n",
            "\n",
            "🔹 Simple Random Sample (4 rows):\n",
            "    ID Name\n",
            "8   9    I\n",
            "1   2    B\n",
            "5   6    F\n",
            "0   1    A\n",
            "\n",
            "🔹 Systematic Sample (every 2nd row):\n",
            "    ID Name\n",
            "0   1    A\n",
            "2   3    C\n",
            "4   5    E\n",
            "6   7    G\n",
            "8   9    I\n"
          ]
        }
      ]
    },
    {
      "cell_type": "markdown",
      "source": [
        "# 13. Calculate the mean, median, and mode of grouped data"
      ],
      "metadata": {
        "id": "sZhZecjmn9It"
      }
    },
    {
      "cell_type": "code",
      "source": [
        "import pandas as pd\n",
        "import numpy as np\n",
        "from statistics import mode\n",
        "\n",
        "data = {\n",
        "    'Class Interval': ['0-10', '10-20', '20-30', '30-40', '40-50'],\n",
        "    'Frequency': [5, 8, 15, 16, 6]\n",
        "}\n",
        "\n",
        "df = pd.DataFrame(data)\n",
        "\n",
        "def midpoint(interval):\n",
        "    start, end = map(int, interval.split('-'))\n",
        "    return (start + end) / 2\n",
        "\n",
        "df['Midpoint'] = df['Class Interval'].apply(midpoint)\n",
        "\n",
        "df['f*x'] = df['Frequency'] * df['Midpoint']\n",
        "mean = df['f*x'].sum() / df['Frequency'].sum()\n",
        "\n",
        "df['Cumulative Frequency'] = df['Frequency'].cumsum()\n",
        "\n",
        "n = df['Frequency'].sum()\n",
        "median_class_index = df[df['Cumulative Frequency'] >= n/2].index[0]\n",
        "\n",
        "L = int(df.loc[median_class_index, 'Class Interval'].split('-')[0])\n",
        "F = df.loc[median_class_index, 'Frequency']\n",
        "C = df.loc[median_class_index, 'Cumulative Frequency'] - F\n",
        "h = 10\n",
        "\n",
        "median = L + ((n/2 - C) / F) * h\n",
        "modal_index = df['Frequency'].idxmax()\n",
        "L = int(df.loc[modal_index, 'Class Interval'].split('-')[0])\n",
        "f1 = df.loc[modal_index, 'Frequency']\n",
        "f0 = df.loc[modal_index - 1, 'Frequency'] if modal_index > 0 else 0\n",
        "f2 = df.loc[modal_index + 1, 'Frequency'] if modal_index < len(df) - 1 else 0\n",
        "\n",
        "mode_val = L + ((f1 - f0) / ((2*f1 - f0 - f2))) * h\n",
        "print(\"🔹 Mean:\", round(mean, 2))\n",
        "print(\"🔹 Median:\", round(median, 2))\n",
        "print(\"🔹 Mode:\", round(mode_val, 2))"
      ],
      "metadata": {
        "colab": {
          "base_uri": "https://localhost:8080/"
        },
        "id": "yvRI22ahfDg6",
        "outputId": "8e575575-f03e-4551-f00f-bcfaec2e14a4"
      },
      "execution_count": 4,
      "outputs": [
        {
          "output_type": "stream",
          "name": "stdout",
          "text": [
            "🔹 Mean: 27.0\n",
            "🔹 Median: 28.0\n",
            "🔹 Mode: 30.91\n"
          ]
        }
      ]
    },
    {
      "cell_type": "markdown",
      "source": [
        " # 14. Simulate data using Python and calculate its central tendency and dispersion."
      ],
      "metadata": {
        "id": "ABXX0p_oonYN"
      }
    },
    {
      "cell_type": "code",
      "source": [
        "import numpy as np\n",
        "from scipy import stats\n",
        "data = np.random.randint(1,100,10)\n",
        "mean = (np.mean(data))\n",
        "median = (np.median(data))\n",
        "mode = (stats.mode(data))\n",
        "range = max(data) - min(data)\n",
        "variance = np.var(data)\n",
        "std = np.std(data)\n",
        "print(\"mean = \",mean)\n",
        "print(\"median = \",median)\n",
        "print(\"mode = \",mode)\n",
        "print(\"range = \",range)\n",
        "print(\"variance\", variance)\n",
        "print(\"standard deviation = \",std)"
      ],
      "metadata": {
        "colab": {
          "base_uri": "https://localhost:8080/"
        },
        "id": "IkViPmI1otBg",
        "outputId": "8a057f10-900d-46fd-fc5d-a7a37dea6320"
      },
      "execution_count": null,
      "outputs": [
        {
          "output_type": "stream",
          "name": "stdout",
          "text": [
            "mean =  46.3\n",
            "median =  40.5\n",
            "mode =  ModeResult(mode=np.int64(26), count=np.int64(1))\n",
            "range =  57\n",
            "variance 295.60999999999996\n",
            "standard deviation =  17.193312653470823\n"
          ]
        }
      ]
    },
    {
      "cell_type": "markdown",
      "source": [
        "# 15. Use NumPy or pandas to summarize a dataset’s descriptive statistics"
      ],
      "metadata": {
        "id": "aehgQFPDqMOt"
      }
    },
    {
      "cell_type": "code",
      "source": [
        "import pandas as pd\n",
        "data = {\n",
        "    'Math': [85, 90, 78, 92, 88],\n",
        "    'Science': [80, 85, 89, 94, 90],\n",
        "    'English': [78, 82, 84, 88, 85]\n",
        "}\n",
        "data1  = pd.DataFrame(data)\n",
        "data1.describe()\n"
      ],
      "metadata": {
        "colab": {
          "base_uri": "https://localhost:8080/",
          "height": 300
        },
        "id": "O__NuC5qqWYg",
        "outputId": "cf0cd95a-7f85-4042-afdb-3a3b9ae76c81"
      },
      "execution_count": null,
      "outputs": [
        {
          "output_type": "execute_result",
          "data": {
            "text/plain": [
              "            Math    Science    English\n",
              "count   5.000000   5.000000   5.000000\n",
              "mean   86.600000  87.600000  83.400000\n",
              "std     5.458938   5.319774   3.714835\n",
              "min    78.000000  80.000000  78.000000\n",
              "25%    85.000000  85.000000  82.000000\n",
              "50%    88.000000  89.000000  84.000000\n",
              "75%    90.000000  90.000000  85.000000\n",
              "max    92.000000  94.000000  88.000000"
            ],
            "text/html": [
              "\n",
              "  <div id=\"df-0d97cdd5-959b-4c19-a9fa-e184a77ef881\" class=\"colab-df-container\">\n",
              "    <div>\n",
              "<style scoped>\n",
              "    .dataframe tbody tr th:only-of-type {\n",
              "        vertical-align: middle;\n",
              "    }\n",
              "\n",
              "    .dataframe tbody tr th {\n",
              "        vertical-align: top;\n",
              "    }\n",
              "\n",
              "    .dataframe thead th {\n",
              "        text-align: right;\n",
              "    }\n",
              "</style>\n",
              "<table border=\"1\" class=\"dataframe\">\n",
              "  <thead>\n",
              "    <tr style=\"text-align: right;\">\n",
              "      <th></th>\n",
              "      <th>Math</th>\n",
              "      <th>Science</th>\n",
              "      <th>English</th>\n",
              "    </tr>\n",
              "  </thead>\n",
              "  <tbody>\n",
              "    <tr>\n",
              "      <th>count</th>\n",
              "      <td>5.000000</td>\n",
              "      <td>5.000000</td>\n",
              "      <td>5.000000</td>\n",
              "    </tr>\n",
              "    <tr>\n",
              "      <th>mean</th>\n",
              "      <td>86.600000</td>\n",
              "      <td>87.600000</td>\n",
              "      <td>83.400000</td>\n",
              "    </tr>\n",
              "    <tr>\n",
              "      <th>std</th>\n",
              "      <td>5.458938</td>\n",
              "      <td>5.319774</td>\n",
              "      <td>3.714835</td>\n",
              "    </tr>\n",
              "    <tr>\n",
              "      <th>min</th>\n",
              "      <td>78.000000</td>\n",
              "      <td>80.000000</td>\n",
              "      <td>78.000000</td>\n",
              "    </tr>\n",
              "    <tr>\n",
              "      <th>25%</th>\n",
              "      <td>85.000000</td>\n",
              "      <td>85.000000</td>\n",
              "      <td>82.000000</td>\n",
              "    </tr>\n",
              "    <tr>\n",
              "      <th>50%</th>\n",
              "      <td>88.000000</td>\n",
              "      <td>89.000000</td>\n",
              "      <td>84.000000</td>\n",
              "    </tr>\n",
              "    <tr>\n",
              "      <th>75%</th>\n",
              "      <td>90.000000</td>\n",
              "      <td>90.000000</td>\n",
              "      <td>85.000000</td>\n",
              "    </tr>\n",
              "    <tr>\n",
              "      <th>max</th>\n",
              "      <td>92.000000</td>\n",
              "      <td>94.000000</td>\n",
              "      <td>88.000000</td>\n",
              "    </tr>\n",
              "  </tbody>\n",
              "</table>\n",
              "</div>\n",
              "    <div class=\"colab-df-buttons\">\n",
              "\n",
              "  <div class=\"colab-df-container\">\n",
              "    <button class=\"colab-df-convert\" onclick=\"convertToInteractive('df-0d97cdd5-959b-4c19-a9fa-e184a77ef881')\"\n",
              "            title=\"Convert this dataframe to an interactive table.\"\n",
              "            style=\"display:none;\">\n",
              "\n",
              "  <svg xmlns=\"http://www.w3.org/2000/svg\" height=\"24px\" viewBox=\"0 -960 960 960\">\n",
              "    <path d=\"M120-120v-720h720v720H120Zm60-500h600v-160H180v160Zm220 220h160v-160H400v160Zm0 220h160v-160H400v160ZM180-400h160v-160H180v160Zm440 0h160v-160H620v160ZM180-180h160v-160H180v160Zm440 0h160v-160H620v160Z\"/>\n",
              "  </svg>\n",
              "    </button>\n",
              "\n",
              "  <style>\n",
              "    .colab-df-container {\n",
              "      display:flex;\n",
              "      gap: 12px;\n",
              "    }\n",
              "\n",
              "    .colab-df-convert {\n",
              "      background-color: #E8F0FE;\n",
              "      border: none;\n",
              "      border-radius: 50%;\n",
              "      cursor: pointer;\n",
              "      display: none;\n",
              "      fill: #1967D2;\n",
              "      height: 32px;\n",
              "      padding: 0 0 0 0;\n",
              "      width: 32px;\n",
              "    }\n",
              "\n",
              "    .colab-df-convert:hover {\n",
              "      background-color: #E2EBFA;\n",
              "      box-shadow: 0px 1px 2px rgba(60, 64, 67, 0.3), 0px 1px 3px 1px rgba(60, 64, 67, 0.15);\n",
              "      fill: #174EA6;\n",
              "    }\n",
              "\n",
              "    .colab-df-buttons div {\n",
              "      margin-bottom: 4px;\n",
              "    }\n",
              "\n",
              "    [theme=dark] .colab-df-convert {\n",
              "      background-color: #3B4455;\n",
              "      fill: #D2E3FC;\n",
              "    }\n",
              "\n",
              "    [theme=dark] .colab-df-convert:hover {\n",
              "      background-color: #434B5C;\n",
              "      box-shadow: 0px 1px 3px 1px rgba(0, 0, 0, 0.15);\n",
              "      filter: drop-shadow(0px 1px 2px rgba(0, 0, 0, 0.3));\n",
              "      fill: #FFFFFF;\n",
              "    }\n",
              "  </style>\n",
              "\n",
              "    <script>\n",
              "      const buttonEl =\n",
              "        document.querySelector('#df-0d97cdd5-959b-4c19-a9fa-e184a77ef881 button.colab-df-convert');\n",
              "      buttonEl.style.display =\n",
              "        google.colab.kernel.accessAllowed ? 'block' : 'none';\n",
              "\n",
              "      async function convertToInteractive(key) {\n",
              "        const element = document.querySelector('#df-0d97cdd5-959b-4c19-a9fa-e184a77ef881');\n",
              "        const dataTable =\n",
              "          await google.colab.kernel.invokeFunction('convertToInteractive',\n",
              "                                                    [key], {});\n",
              "        if (!dataTable) return;\n",
              "\n",
              "        const docLinkHtml = 'Like what you see? Visit the ' +\n",
              "          '<a target=\"_blank\" href=https://colab.research.google.com/notebooks/data_table.ipynb>data table notebook</a>'\n",
              "          + ' to learn more about interactive tables.';\n",
              "        element.innerHTML = '';\n",
              "        dataTable['output_type'] = 'display_data';\n",
              "        await google.colab.output.renderOutput(dataTable, element);\n",
              "        const docLink = document.createElement('div');\n",
              "        docLink.innerHTML = docLinkHtml;\n",
              "        element.appendChild(docLink);\n",
              "      }\n",
              "    </script>\n",
              "  </div>\n",
              "\n",
              "\n",
              "    <div id=\"df-60233a7c-4cb9-4b80-b35a-7fda9c070af7\">\n",
              "      <button class=\"colab-df-quickchart\" onclick=\"quickchart('df-60233a7c-4cb9-4b80-b35a-7fda9c070af7')\"\n",
              "                title=\"Suggest charts\"\n",
              "                style=\"display:none;\">\n",
              "\n",
              "<svg xmlns=\"http://www.w3.org/2000/svg\" height=\"24px\"viewBox=\"0 0 24 24\"\n",
              "     width=\"24px\">\n",
              "    <g>\n",
              "        <path d=\"M19 3H5c-1.1 0-2 .9-2 2v14c0 1.1.9 2 2 2h14c1.1 0 2-.9 2-2V5c0-1.1-.9-2-2-2zM9 17H7v-7h2v7zm4 0h-2V7h2v10zm4 0h-2v-4h2v4z\"/>\n",
              "    </g>\n",
              "</svg>\n",
              "      </button>\n",
              "\n",
              "<style>\n",
              "  .colab-df-quickchart {\n",
              "      --bg-color: #E8F0FE;\n",
              "      --fill-color: #1967D2;\n",
              "      --hover-bg-color: #E2EBFA;\n",
              "      --hover-fill-color: #174EA6;\n",
              "      --disabled-fill-color: #AAA;\n",
              "      --disabled-bg-color: #DDD;\n",
              "  }\n",
              "\n",
              "  [theme=dark] .colab-df-quickchart {\n",
              "      --bg-color: #3B4455;\n",
              "      --fill-color: #D2E3FC;\n",
              "      --hover-bg-color: #434B5C;\n",
              "      --hover-fill-color: #FFFFFF;\n",
              "      --disabled-bg-color: #3B4455;\n",
              "      --disabled-fill-color: #666;\n",
              "  }\n",
              "\n",
              "  .colab-df-quickchart {\n",
              "    background-color: var(--bg-color);\n",
              "    border: none;\n",
              "    border-radius: 50%;\n",
              "    cursor: pointer;\n",
              "    display: none;\n",
              "    fill: var(--fill-color);\n",
              "    height: 32px;\n",
              "    padding: 0;\n",
              "    width: 32px;\n",
              "  }\n",
              "\n",
              "  .colab-df-quickchart:hover {\n",
              "    background-color: var(--hover-bg-color);\n",
              "    box-shadow: 0 1px 2px rgba(60, 64, 67, 0.3), 0 1px 3px 1px rgba(60, 64, 67, 0.15);\n",
              "    fill: var(--button-hover-fill-color);\n",
              "  }\n",
              "\n",
              "  .colab-df-quickchart-complete:disabled,\n",
              "  .colab-df-quickchart-complete:disabled:hover {\n",
              "    background-color: var(--disabled-bg-color);\n",
              "    fill: var(--disabled-fill-color);\n",
              "    box-shadow: none;\n",
              "  }\n",
              "\n",
              "  .colab-df-spinner {\n",
              "    border: 2px solid var(--fill-color);\n",
              "    border-color: transparent;\n",
              "    border-bottom-color: var(--fill-color);\n",
              "    animation:\n",
              "      spin 1s steps(1) infinite;\n",
              "  }\n",
              "\n",
              "  @keyframes spin {\n",
              "    0% {\n",
              "      border-color: transparent;\n",
              "      border-bottom-color: var(--fill-color);\n",
              "      border-left-color: var(--fill-color);\n",
              "    }\n",
              "    20% {\n",
              "      border-color: transparent;\n",
              "      border-left-color: var(--fill-color);\n",
              "      border-top-color: var(--fill-color);\n",
              "    }\n",
              "    30% {\n",
              "      border-color: transparent;\n",
              "      border-left-color: var(--fill-color);\n",
              "      border-top-color: var(--fill-color);\n",
              "      border-right-color: var(--fill-color);\n",
              "    }\n",
              "    40% {\n",
              "      border-color: transparent;\n",
              "      border-right-color: var(--fill-color);\n",
              "      border-top-color: var(--fill-color);\n",
              "    }\n",
              "    60% {\n",
              "      border-color: transparent;\n",
              "      border-right-color: var(--fill-color);\n",
              "    }\n",
              "    80% {\n",
              "      border-color: transparent;\n",
              "      border-right-color: var(--fill-color);\n",
              "      border-bottom-color: var(--fill-color);\n",
              "    }\n",
              "    90% {\n",
              "      border-color: transparent;\n",
              "      border-bottom-color: var(--fill-color);\n",
              "    }\n",
              "  }\n",
              "</style>\n",
              "\n",
              "      <script>\n",
              "        async function quickchart(key) {\n",
              "          const quickchartButtonEl =\n",
              "            document.querySelector('#' + key + ' button');\n",
              "          quickchartButtonEl.disabled = true;  // To prevent multiple clicks.\n",
              "          quickchartButtonEl.classList.add('colab-df-spinner');\n",
              "          try {\n",
              "            const charts = await google.colab.kernel.invokeFunction(\n",
              "                'suggestCharts', [key], {});\n",
              "          } catch (error) {\n",
              "            console.error('Error during call to suggestCharts:', error);\n",
              "          }\n",
              "          quickchartButtonEl.classList.remove('colab-df-spinner');\n",
              "          quickchartButtonEl.classList.add('colab-df-quickchart-complete');\n",
              "        }\n",
              "        (() => {\n",
              "          let quickchartButtonEl =\n",
              "            document.querySelector('#df-60233a7c-4cb9-4b80-b35a-7fda9c070af7 button');\n",
              "          quickchartButtonEl.style.display =\n",
              "            google.colab.kernel.accessAllowed ? 'block' : 'none';\n",
              "        })();\n",
              "      </script>\n",
              "    </div>\n",
              "\n",
              "    </div>\n",
              "  </div>\n"
            ],
            "application/vnd.google.colaboratory.intrinsic+json": {
              "type": "dataframe",
              "summary": "{\n  \"name\": \"data1\",\n  \"rows\": 8,\n  \"fields\": [\n    {\n      \"column\": \"Math\",\n      \"properties\": {\n        \"dtype\": \"number\",\n        \"std\": 37.89280054198924,\n        \"min\": 5.0,\n        \"max\": 92.0,\n        \"num_unique_values\": 8,\n        \"samples\": [\n          86.6,\n          88.0,\n          5.0\n        ],\n        \"semantic_type\": \"\",\n        \"description\": \"\"\n      }\n    },\n    {\n      \"column\": \"Science\",\n      \"properties\": {\n        \"dtype\": \"number\",\n        \"std\": 38.373743668010015,\n        \"min\": 5.0,\n        \"max\": 94.0,\n        \"num_unique_values\": 8,\n        \"samples\": [\n          87.6,\n          89.0,\n          5.0\n        ],\n        \"semantic_type\": \"\",\n        \"description\": \"\"\n      }\n    },\n    {\n      \"column\": \"English\",\n      \"properties\": {\n        \"dtype\": \"number\",\n        \"std\": 36.69881388129431,\n        \"min\": 3.714835124201342,\n        \"max\": 88.0,\n        \"num_unique_values\": 8,\n        \"samples\": [\n          83.4,\n          84.0,\n          5.0\n        ],\n        \"semantic_type\": \"\",\n        \"description\": \"\"\n      }\n    }\n  ]\n}"
            }
          },
          "metadata": {},
          "execution_count": 79
        }
      ]
    },
    {
      "cell_type": "markdown",
      "source": [
        "# 16. Plot a boxplot to understand the spread and identify outliers"
      ],
      "metadata": {
        "id": "D6ESFalErXA3"
      }
    },
    {
      "cell_type": "code",
      "source": [
        "import matplotlib.pyplot as plt\n",
        "import seaborn as sns\n",
        "data =  [12, 15, 14, 16, 14, 17, 19, 100, 14, 13, 15, 16, 15, 16]\n",
        "plt.figure(figsize = (8,5))\n",
        "sns.boxplot(data)\n",
        "plt.title(\"boxplot of data\")\n",
        "plt.show()\n",
        "\n",
        "# here we can see there is an oulier present in the boxplot and with the help of boxplot we can easly identifies the outliers"
      ],
      "metadata": {
        "colab": {
          "base_uri": "https://localhost:8080/",
          "height": 449
        },
        "id": "Q_ga_8-drdlc",
        "outputId": "4f69e492-9f92-47c6-9543-75891d07cb97"
      },
      "execution_count": null,
      "outputs": [
        {
          "output_type": "display_data",
          "data": {
            "text/plain": [
              "<Figure size 800x500 with 1 Axes>"
            ],
            "image/png": "[encoded data removed]"
          },
          "metadata": {}
        }
      ]
    },
    {
      "cell_type": "markdown",
      "source": [
        "# 17. Calculate the interquartile range (IQR) of a dataset"
      ],
      "metadata": {
        "id": "aZ_sn1kEtDhP"
      }
    },
    {
      "cell_type": "code",
      "source": [
        "import numpy as np\n",
        "data = [12, 15, 14, 16, 14, 17, 19, 100, 14, 13, 15, 16, 15, 16]\n",
        "q1 = np.percentile(data,25)\n",
        "q3 = np.percentile(data,75)\n",
        "# inter quartile formula is q1-q3\n",
        "IQR = q3-q1\n",
        "print(\"Q1 (25th percentile):\", q1)\n",
        "print(\"Q3 (75th percentile):\", q3)\n",
        "print(\"IQR (Q3 - Q1):\", IQR)"
      ],
      "metadata": {
        "colab": {
          "base_uri": "https://localhost:8080/"
        },
        "id": "qrqGPu9AtGQ3",
        "outputId": "056c6743-3e10-47ce-d707-af72d0dc5c2e"
      },
      "execution_count": null,
      "outputs": [
        {
          "output_type": "stream",
          "name": "stdout",
          "text": [
            "Q1 (25th percentile): 14.0\n",
            "Q3 (75th percentile): 16.0\n",
            "IQR (Q3 - Q1): 2.0\n"
          ]
        }
      ]
    },
    {
      "cell_type": "markdown",
      "source": [
        "# 18. Implement Z-score normalization and explain its significance"
      ],
      "metadata": {
        "id": "d1aIsNaju_C6"
      }
    },
    {
      "cell_type": "code",
      "source": [
        "import numpy as np\n",
        "data =  [12, 15, 14, 16, 14, 17, 19, 100, 14, 13, 15, 16, 15, 16]\n",
        "mean = np.mean(data)\n",
        "std = np.std(data)\n",
        "zscore = (data-mean)/std\n",
        "print(zscore)"
      ],
      "metadata": {
        "colab": {
          "base_uri": "https://localhost:8080/"
        },
        "id": "aCYlU0m2vVeS",
        "outputId": "08f5ef57-6f4c-4189-d0ca-364077bbda87"
      },
      "execution_count": null,
      "outputs": [
        {
          "output_type": "stream",
          "name": "stdout",
          "text": [
            "[-0.41682535 -0.28005453 -0.3256448  -0.23446426 -0.3256448  -0.18887399\n",
            " -0.09769344  3.59511864 -0.3256448  -0.37123508 -0.28005453 -0.23446426\n",
            " -0.28005453 -0.23446426]\n"
          ]
        }
      ]
    },
    {
      "cell_type": "markdown",
      "source": [
        "**Significance of z-score**\n",
        "1. Puts All Features on the Same Scale-:\n",
        "* Raw data might have different units (e.g., height in cm, weight in kg).\n",
        "* Z-score scales them to a common range (mean = 0, std = 1), making them comparable.\n",
        "\n",
        "2. Improves Accuracy of Machine Learning Models-:\n",
        "\n",
        "* Models like K-Nearest Neighbors, SVM, and Logistic Regression are sensitive to scale.\n",
        "\n",
        "* Without normalization, features with large values can dominate the learning.\n",
        "\n",
        "* Handles Outliers Better than Min-Max Normalization\n",
        "\n",
        "\n",
        "3. Makes Data More Interpretable Statistically\n",
        "\n",
        "* You can identify outliers easily:\n",
        "\n",
        "* Values with Z-scores > 3 or < -3 are usually considered outliers.\n",
        "\n",
        "* You can also compare how extreme a value is across different datasets."
      ],
      "metadata": {
        "id": "VWeLHErDw8Xo"
      }
    },
    {
      "cell_type": "markdown",
      "source": [
        "# 19. Compare two datasets using their standard deviations"
      ],
      "metadata": {
        "id": "Vqm4HkEgxqnI"
      }
    },
    {
      "cell_type": "code",
      "source": [
        "import numpy as np\n",
        "a = [10,15,16,18,19,21,22,48]\n",
        "b = [30,27,28,19,25,28,20]\n",
        "std_a = np.std(a)\n",
        "std_b = np.std(b)\n",
        "print(\"standard deviation of a = \",std_a)\n",
        "print(\"standard deviation of b = \",std_b)"
      ],
      "metadata": {
        "colab": {
          "base_uri": "https://localhost:8080/"
        },
        "id": "5hBsnH1hxwCu",
        "outputId": "5d0bcc75-8eb9-4440-8eaa-c5062c2a9f61"
      },
      "execution_count": null,
      "outputs": [
        {
          "output_type": "stream",
          "name": "stdout",
          "text": [
            "standard deviation of a =  10.752180011513945\n",
            "standard deviation of b =  3.9175169145148825\n"
          ]
        }
      ]
    },
    {
      "cell_type": "markdown",
      "source": [
        " **Conclusion:**\n",
        "Standard Deviation of a is higher than b\n",
        "\n",
        "std_a = 9.64\n",
        "\n",
        "std_b = 3.72\n",
        "\n",
        "This means:\n",
        "\n",
        "Dataset a is more spread out or less consistent.\n",
        "\n",
        "Dataset b is more tightly clustered around the mean so  more consistent.\n",
        "\n",
        "The large number 48 in a is an outlier, which increases the spread."
      ],
      "metadata": {
        "id": "MbVY3EmxzdsF"
      }
    },
    {
      "cell_type": "markdown",
      "source": [
        "# 20. Write a Python program to visualize covariance using a heatmap"
      ],
      "metadata": {
        "id": "xBeBpeBSzog5"
      }
    },
    {
      "cell_type": "code",
      "source": [
        "import seaborn as sns\n",
        "df = sns.load_dataset('tips')\n",
        "df.head()\n",
        "\n",
        "df.cov(numeric_only=True) # to calculate the covariance\n",
        "sns.heatmap(df.cov(numeric_only=True), annot=True, cmap='coolwarm')"
      ],
      "metadata": {
        "colab": {
          "base_uri": "https://localhost:8080/",
          "height": 447
        },
        "id": "juLrQ702ztWA",
        "outputId": "ddd0cd3d-c0e6-4f7e-8da3-e866429f6108"
      },
      "execution_count": null,
      "outputs": [
        {
          "output_type": "execute_result",
          "data": {
            "text/plain": [
              "<Axes: >"
            ]
          },
          "metadata": {},
          "execution_count": 103
        },
        {
          "output_type": "display_data",
          "data": {
            "text/plain": [
              "<Figure size 640x480 with 2 Axes>"
            ],
            "image/png": "[encoded data removed]"
          },
          "metadata": {}
        }
      ]
    },
    {
      "cell_type": "markdown",
      "source": [
        "# 21. Use seaborn to create a correlation matrix for a dataset"
      ],
      "metadata": {
        "id": "XRaveP-l0hRK"
      }
    },
    {
      "cell_type": "code",
      "source": [
        "import seaborn as sns\n",
        "import pandas as pd\n",
        "import matplotlib.pyplot as plt\n",
        "\n",
        "data = {\n",
        "    'Math': [80, 85, 78, 92, 88],\n",
        "    'Science': [82, 89, 79, 94, 90],\n",
        "    'English': [70, 65, 75, 72, 68],\n",
        "    'History': [60, 62, 58, 65, 63]\n",
        "}\n",
        "df = pd.DataFrame(data)\n",
        "\n",
        "\n",
        "corr = df.corr()\n",
        "\n",
        "plt.figure(figsize=(8, 6))\n",
        "sns.heatmap(corr, annot=True, cmap='coolwarm', linewidths=0.5)\n",
        "\n",
        "plt.title(\"Correlation Matrix\")\n",
        "plt.show()"
      ],
      "metadata": {
        "colab": {
          "base_uri": "https://localhost:8080/",
          "height": 545
        },
        "id": "1Gt4CPwq0mfY",
        "outputId": "05b266dd-3bd5-452e-9e30-87586da42e07"
      },
      "execution_count": null,
      "outputs": [
        {
          "output_type": "display_data",
          "data": {
            "text/plain": [
              "<Figure size 800x600 with 2 Axes>"
            ],
            "image/png": "[encoded data removed]"
          },
          "metadata": {}
        }
      ]
    },
    {
      "cell_type": "markdown",
      "source": [
        "# 22. Generate a dataset and implement both variance and standard deviation computations"
      ],
      "metadata": {
        "id": "6WF85XCm1SGB"
      }
    },
    {
      "cell_type": "code",
      "source": [
        "import numpy as np\n",
        "import seaborn as sns\n",
        "data = [10, 12, 23, 23, 16, 23, 21, 16]\n",
        "variance = np.var(data)\n",
        "std = np.std(data)\n",
        "print(\"variance = \",variance)\n",
        "print(\"standard deviation = \",std)"
      ],
      "metadata": {
        "colab": {
          "base_uri": "https://localhost:8080/"
        },
        "id": "160T-06S1hLq",
        "outputId": "3dd70b82-7873-4791-92ef-3ead9bf90479"
      },
      "execution_count": null,
      "outputs": [
        {
          "output_type": "stream",
          "name": "stdout",
          "text": [
            "variance =  24.0\n",
            "standard deviation =  4.898979485566356\n"
          ]
        }
      ]
    },
    {
      "cell_type": "markdown",
      "source": [
        "# 23. Visualize skewness and kurtosis using Python libraries like matplotlib or seaborn"
      ],
      "metadata": {
        "id": "cbckLACm2lHO"
      }
    },
    {
      "cell_type": "code",
      "source": [
        "import numpy as np\n",
        "import seaborn as sns\n",
        "import matplotlib.pyplot as plt\n",
        "from scipy.stats import skew, kurtosis\n",
        "\n",
        "data = np.random.exponential(size=1000)  # Positively skewed data\n",
        "data_skew = skew(data)\n",
        "data_kurt = kurtosis(data)\n",
        "\n",
        "print(\"Skewness:\", round(data_skew, 2))\n",
        "print(\"Kurtosis:\", round(data_kurt, 2))\n",
        "\n",
        "sns.histplot(data, bins=30, kde=True, color='lightblue')\n",
        "plt.title(f\"Skewness: {round(data_skew, 2)} | Kurtosis: {round(data_kurt, 2)}\")\n",
        "plt.xlabel(\"Value\")\n",
        "plt.ylabel(\"Frequency\")\n",
        "plt.show()"
      ],
      "metadata": {
        "colab": {
          "base_uri": "https://localhost:8080/",
          "height": 507
        },
        "id": "e6Y--j3I2ta-",
        "outputId": "5c893372-5c50-431f-9af7-d9222fdac281"
      },
      "execution_count": null,
      "outputs": [
        {
          "output_type": "stream",
          "name": "stdout",
          "text": [
            "Skewness: 1.86\n",
            "Kurtosis: 4.28\n"
          ]
        },
        {
          "output_type": "display_data",
          "data": {
            "text/plain": [
              "<Figure size 640x480 with 1 Axes>"
            ],
            "image/png": "[encoded data removed]"
          },
          "metadata": {}
        }
      ]
    },
    {
      "cell_type": "markdown",
      "source": [
        "# 24. Implement the Pearson and Spearman correlation coefficients for a dataset"
      ],
      "metadata": {
        "id": "oSTbmJnw3SUT"
      }
    },
    {
      "cell_type": "code",
      "source": [
        "import numpy as np\n",
        "from scipy.stats import pearsonr, spearmanr\n",
        "\n",
        "x = [10, 20, 30, 40, 50]\n",
        "y = [12, 24, 33, 47, 52]\n",
        "\n",
        "pearson_corr, _ = pearsonr(x, y)\n",
        "spearman_corr, _ = spearmanr(x, y)\n",
        "\n",
        "print(\"Pearson Correlation:\", pearson_corr)\n",
        "print(\"Spearman Correlation:\", spearman_corr)\n"
      ],
      "metadata": {
        "colab": {
          "base_uri": "https://localhost:8080/"
        },
        "id": "wXmS_tKA3YNw",
        "outputId": "df3446e1-4eb0-4ec5-d64f-c82822e120ca"
      },
      "execution_count": null,
      "outputs": [
        {
          "output_type": "stream",
          "name": "stdout",
          "text": [
            "Pearson Correlation: 0.9924052482502036\n",
            "Spearman Correlation: 0.9999999999999999\n"
          ]
        }
      ]
    }
  ]
}