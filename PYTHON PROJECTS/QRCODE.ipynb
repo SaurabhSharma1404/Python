{
  "nbformat": 4,
  "nbformat_minor": 0,
  "metadata": {
    "colab": {
      "provenance": []
    },
    "kernelspec": {
      "name": "python3",
      "display_name": "Python 3"
    },
    "language_info": {
      "name": "python"
    }
  },
  "cells": [
    {
      "cell_type": "markdown",
      "source": [
        "# A small project on how to create and edit a QRCODE in python"
      ],
      "metadata": {
        "id": "rkj0U6HFuf20"
      }
    },
    {
      "cell_type": "code",
      "source": [
        "# pip install qrcode\n",
        "# this one is simple version to make the qrcode with no color change and border change\n",
        "import qrcode as  qr\n",
        "img = qr.make(\"https://github.com/SaurabhSharma1404/Python\")\n",
        "img.save(\"SAURABH GIT HUB PROFILE.png\")"
      ],
      "metadata": {
        "id": "RKFE_ZVGna9F"
      },
      "execution_count": 8,
      "outputs": []
    },
    {
      "cell_type": "markdown",
      "source": [
        "![SAURABH GIT HUB PROFILE.png](data:image/png;base64,iVBORw0KGgoAAAANSUhEUgAAAZoAAAGaAQAAAAAefbjOAAADEklEQVR4nO2cTW7jOBBGXw0FeEkBPoCPIt2s0UfqG0hH8QEGEJcBJHyzIClpelaZzMixVLVwHNMPIaFC/TMmPi3jH59nwCGHHHLIIYccOidkRRogmVnPYsBikCy/ZOlfsj2Hjoc6SdIEjG1dGtsgsxasJ0iS9HfouO05dBzUlJ+phe4X0Akg3WVEECyNSGAQ5sO359B3gBYze3yYBhbbmYz/4S859A7Q2AZpIMh+TED3vP2zYvFuZ3LoE1K9RhRk5xDBumczi3SXdcOHCWCvF9/8TA79B9BoZmYt0D2LklgPQLrJepacarxqew4dbSM2AyDSYoIZjS3G2AaKBXnF9hw6HCJnlZ1mNBDWd7B9piHO+XtZhm9+Joe+AtUnPVXdoD59uimIrlYhqua4RpwcKhoxxM0yrA8+VrtBnKGbyqprxKmhHEcYMQjin43GdkKkFkGQdQKRbrLxIezo7Tl0OLR6CIAaR+QQokgpVGqI7jWuAK3Rg6pz2PQg1gBj2KmKa8TJoV1kWQzFlldMNYSAsAsvXSNODdWHDJQkc6ImnnGuvmJaV10jzg6VyLKb7jPds8GIwlajAMkAwmzEF2zPoZdB8cPMHlLueJIacqeLOMOYW6HB5yMuAK1eI9SEI5bilFRfgPrOI8vTQ7vsM8cMJQVd56Xilox6HHE5KDVA/LDtE+nZ5Ek7691rXALaFaJyFaKrja8q1WsM0esR14HyaMRoDVtkudUjpGkx+7FNU73FmRz6CqQh3XLh0vrUoJ8Pyfq8YGZ9rWjmZth7nMmhr0WWWoPKqS4McabWLKEUtd1rnB3aT8KUDkcpXJbYYhuS8E7XhaDtTlfxCwRZT5DZY6YkIcnMvcZloK62u6wHrGcp9zXW7te+RvEeZ3LoqxWqWqmEXee71CzB44iLQM1vv1vualEu+JHva6T7bPm+38Hbc+jlUMkwCGK0m/SzXecsn7eckb7dmRz6jPx+pwuSFfNAnCAbil/3WeNjxm3E+aE6VZcllLbnwNrnjGu1widmLgGZ/2cyhxxyyCGHHHLoX0J/Ab4Qe/hcmzM+AAAAAElFTkSuQmCC)"
      ],
      "metadata": {
        "id": "PIC-kdQcuVZV"
      }
    },
    {
      "cell_type": "code",
      "source": [
        "\n",
        "import qrcode\n",
        "\n",
        "data = \"https://github.com/SaurabhSharma1404/Python\"\n",
        "\n",
        "qr = qrcode.QRCode(version = 1,\n",
        "                   box_size = 10,\n",
        "                   border = 5)\n",
        "\n",
        "qr.add_data(data)\n",
        "\n",
        "qr.make(fit = True)\n",
        "img = qr.make_image(fill_color = 'red',\n",
        "                    back_color = 'white')\n",
        "\n",
        "img.save(\"SAURABH SHARMA GIT HUB PROFILE.png\")"
      ],
      "metadata": {
        "id": "Ubre1Dp5tPGw"
      },
      "execution_count": 13,
      "outputs": []
    },
    {
      "cell_type": "markdown",
      "source": [
        "![SAURABH SHARMA GIT HUB PROFILE.png](data:image/png;base64,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)"
      ],
      "metadata": {
        "id": "jYczGts6ubU1"
      }
    }
  ]
}